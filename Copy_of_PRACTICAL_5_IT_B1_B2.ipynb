{
  "nbformat": 4,
  "nbformat_minor": 0,
  "metadata": {
    "colab": {
      "name": "Copy of PRACTICAL-5_IT_B1_B2.ipynb",
      "provenance": [],
      "collapsed_sections": [],
      "authorship_tag": "ABX9TyNiFbXjyZvt+1+loWFAUsNG",
      "include_colab_link": true
    },
    "kernelspec": {
      "name": "python3",
      "display_name": "Python 3"
    },
    "language_info": {
      "name": "python"
    }
  },
  "cells": [
    {
      "cell_type": "markdown",
      "metadata": {
        "id": "view-in-github",
        "colab_type": "text"
      },
      "source": [
        "<a href=\"https://colab.research.google.com/github/rootvesh/rootvesh/blob/main/Copy_of_PRACTICAL_5_IT_B1_B2.ipynb\" target=\"_parent\"><img src=\"https://colab.research.google.com/assets/colab-badge.svg\" alt=\"Open In Colab\"/></a>"
      ]
    },
    {
      "cell_type": "code",
      "metadata": {
        "colab": {
          "base_uri": "https://localhost:8080/"
        },
        "id": "2X5uBFnsvneb",
        "outputId": "911a2e80-5fc5-4e1f-e752-f3178b714193"
      },
      "source": [
        "def absolute_value(num):\n",
        "    \"\"\"This function returns the absolute\n",
        "    value of the entered number\"\"\"\n",
        "\n",
        "    if num >= 0:\n",
        "        return num\n",
        "    else:\n",
        "        return -num\n",
        "\n",
        "\n",
        "print(absolute_value(2))\n",
        "\n",
        "print(absolute_value(-4))"
      ],
      "execution_count": null,
      "outputs": [
        {
          "output_type": "stream",
          "text": [
            "2\n",
            "4\n"
          ],
          "name": "stdout"
        }
      ]
    },
    {
      "cell_type": "code",
      "metadata": {
        "colab": {
          "base_uri": "https://localhost:8080/"
        },
        "id": "5GCFRPkOxX4f",
        "outputId": "22cc2dd0-da40-4f26-e3bf-aa7eea848e73"
      },
      "source": [
        "# get vs [] for retrieving elements\n",
        "my_dict = {'name': 'Jack', 'age': 26}\n",
        "\n",
        "# Output: Jack\n",
        "print(my_dict['name'])\n",
        "\n",
        "# Output: 26\n",
        "print(my_dict.get('age'))\n",
        "\n",
        "# Trying to access keys which doesn't exist throws error\n",
        "# Output None\n",
        "print(my_dict.get('address'))\n",
        "\n"
      ],
      "execution_count": null,
      "outputs": [
        {
          "output_type": "stream",
          "text": [
            "Jack\n",
            "26\n",
            "None\n"
          ],
          "name": "stdout"
        }
      ]
    },
    {
      "cell_type": "code",
      "metadata": {
        "colab": {
          "base_uri": "https://localhost:8080/"
        },
        "id": "ElYfaLKax1aX",
        "outputId": "2c543e23-0f16-4681-d2d5-cf2226c3a7fd"
      },
      "source": [
        "# Changing and adding Dictionary Elements\n",
        "my_dict = {'name': 'Jack', 'age': 26}\n",
        "\n",
        "# update value\n",
        "my_dict['age'] = 27\n",
        "\n",
        "#Output: {'age': 27, 'name': 'Jack'}\n",
        "print(my_dict)\n",
        "\n",
        "# add item\n",
        "my_dict['address'] = 'Downtown'\n",
        "\n",
        "# Output: {'address': 'Downtown', 'age': 27, 'name': 'Jack'}\n",
        "print(my_dict)"
      ],
      "execution_count": null,
      "outputs": [
        {
          "output_type": "stream",
          "text": [
            "{'name': 'Jack', 'age': 27}\n",
            "{'name': 'Jack', 'age': 27, 'address': 'Downtown'}\n"
          ],
          "name": "stdout"
        }
      ]
    },
    {
      "cell_type": "code",
      "metadata": {
        "colab": {
          "base_uri": "https://localhost:8080/"
        },
        "id": "GnYcV4nPyWht",
        "outputId": "287b33fc-741d-4621-ec97-ac9944a0d39b"
      },
      "source": [
        "# Removing elements from a dictionary\n",
        "\n",
        "# create a dictionary\n",
        "squares = {1: 1, 2: 4, 3: 9, 4: 16, 5: 25}\n",
        "\n",
        "# remove a particular item, returns its value\n",
        "# Output: 16\n",
        "print(squares.pop(4))\n",
        "\n",
        "# Output: {1: 1, 2: 4, 3: 9, 5: 25}\n",
        "print(squares)\n",
        "\n",
        "# remove an arbitrary item, return (key,value)\n",
        "# Output: (5, 25)\n",
        "print(squares.popitem())\n",
        "\n",
        "# Output: {1: 1, 2: 4, 3: 9}\n",
        "print(squares)\n",
        "\n",
        "# remove all items\n",
        "squares.clear()\n",
        "\n",
        "# Output: {}\n",
        "print(squares)\n",
        "\n",
        "# delete the dictionary itself\n",
        "del squares\n"
      ],
      "execution_count": null,
      "outputs": [
        {
          "output_type": "stream",
          "text": [
            "16\n",
            "{1: 1, 2: 4, 3: 9, 5: 25}\n",
            "(5, 25)\n",
            "{1: 1, 2: 4, 3: 9}\n",
            "{}\n"
          ],
          "name": "stdout"
        }
      ]
    },
    {
      "cell_type": "code",
      "metadata": {
        "colab": {
          "base_uri": "https://localhost:8080/"
        },
        "id": "Hdqwgdjq28Wn",
        "outputId": "a662e396-f162-4097-fbfd-80878042beb6"
      },
      "source": [
        " #eX-1 USING BISECTION METHOD FIND POSITIVE ROOT OF x^3-5x-9=0 correct up to 4 decimal places.\n",
        " #Defining Function\n",
        "def f(x):\n",
        "    return x**3-5*x-9\n",
        "\n",
        "# Implementing Bisection Method\n",
        "def bisection(x0,x1,e):\n",
        "    step = 1\n",
        "    print('\\n\\n*** BISECTION METHOD IMPLEMENTATION ***')\n",
        "    condition = True\n",
        "    while condition:\n",
        "        x2 = (x0 + x1)/2\n",
        "        print('Iteration-%d, x2 = %0.5f and f(x2) = %0.5f' % (step, x2, f(x2)))\n",
        "\n",
        "        if f(x0) * f(x2) < 0:\n",
        "            x1 = x2\n",
        "        else:\n",
        "            x0 = x2\n",
        "        \n",
        "        step = step + 1\n",
        "        condition = abs(f(x2)) > e\n",
        "\n",
        "    print('\\nRequired Root is : %0.5f' % x2)\n",
        "\n",
        "\n",
        "# Input Section\n",
        "x0 = input('First Guess: ')\n",
        "x1 = input('Second Guess: ')\n",
        "e = input('Tolerable Error: ')\n",
        "\n",
        "# Converting input to float\n",
        "x0 = float(x0)\n",
        "x1 = float(x1)\n",
        "e = float(e)\n",
        "\n",
        "#Note: You can combine above two section like this\n",
        "# x0 = float(input('First Guess: '))\n",
        "# x1 = float(input('Second Guess: '))\n",
        "# e = float(input('Tolerable Error: '))\n",
        "\n",
        "\n",
        "# Checking Correctness of initial guess values and bisecting\n",
        "if f(x0) * f(x1) > 0.0:\n",
        "    print('Given guess values do not bracket the root.')\n",
        "    print('Try Again with different guess values.')\n",
        "else:\n",
        "    bisection(x0,x1,e)\n"
      ],
      "execution_count": null,
      "outputs": [
        {
          "output_type": "stream",
          "text": [
            "First Guess: 2\n",
            "Second Guess: 3\n",
            "Tolerable Error: 0.0001\n",
            "\n",
            "\n",
            "*** BISECTION METHOD IMPLEMENTATION ***\n",
            "Iteration-1, x2 = 2.50000 and f(x2) = -5.87500\n",
            "Iteration-2, x2 = 2.75000 and f(x2) = -1.95312\n",
            "Iteration-3, x2 = 2.87500 and f(x2) = 0.38867\n",
            "Iteration-4, x2 = 2.81250 and f(x2) = -0.81519\n",
            "Iteration-5, x2 = 2.84375 and f(x2) = -0.22159\n",
            "Iteration-6, x2 = 2.85938 and f(x2) = 0.08145\n",
            "Iteration-7, x2 = 2.85156 and f(x2) = -0.07059\n",
            "Iteration-8, x2 = 2.85547 and f(x2) = 0.00530\n",
            "Iteration-9, x2 = 2.85352 and f(x2) = -0.03268\n",
            "Iteration-10, x2 = 2.85449 and f(x2) = -0.01370\n",
            "Iteration-11, x2 = 2.85498 and f(x2) = -0.00420\n",
            "Iteration-12, x2 = 2.85522 and f(x2) = 0.00055\n",
            "Iteration-13, x2 = 2.85510 and f(x2) = -0.00183\n",
            "Iteration-14, x2 = 2.85516 and f(x2) = -0.00064\n",
            "Iteration-15, x2 = 2.85519 and f(x2) = -0.00005\n",
            "\n",
            "Required Root is : 2.85519\n"
          ],
          "name": "stdout"
        }
      ]
    },
    {
      "cell_type": "code",
      "metadata": {
        "id": "xfIBUbEx4imQ"
      },
      "source": [
        ""
      ],
      "execution_count": null,
      "outputs": []
    },
    {
      "cell_type": "code",
      "metadata": {
        "colab": {
          "base_uri": "https://localhost:8080/"
        },
        "id": "5wqN91EE4jsa",
        "outputId": "778ebbcf-df92-4a92-a43b-7245e3ed6941"
      },
      "source": [
        " #EX-2 USING BISECTION METHOD FIND POSITIVE ROOT OF x-cos(x)=0 correct up to 3 decimal places.\n",
        " #Defining Function\n",
        " import math\n",
        "def f(x):\n",
        "    return x-math.cos(x)\n",
        "\n",
        "# Implementing Bisection Method\n",
        "def bisection(x0,x1,e):\n",
        "    step = 1\n",
        "    print('\\n\\n*** BISECTION METHOD IMPLEMENTATION ***')\n",
        "    condition = True\n",
        "    while condition:\n",
        "        x2 = (x0 + x1)/2\n",
        "        print('Iteration-%d, x2 = %0.4f and f(x2) = %0.4f' % (step, x2, f(x2)))\n",
        "\n",
        "        if f(x0) * f(x2) < 0:\n",
        "            x1 = x2\n",
        "        else:\n",
        "            x0 = x2\n",
        "        \n",
        "        step = step + 1\n",
        "        condition = abs(f(x2)) > e\n",
        "\n",
        "    print('\\nRequired Root is : %0.4f' % x2)\n",
        "\n",
        "\n",
        "# Input Section\n",
        "x0 = input('First Guess: ')\n",
        "x1 = input('Second Guess: ')\n",
        "e = input('Tolerable Error: ')\n",
        "\n",
        "# Converting input to float\n",
        "x0 = float(x0)\n",
        "x1 = float(x1)\n",
        "e = float(e)\n",
        "\n",
        "#Note: You can combine above two section like this\n",
        "# x0 = float(input('First Guess: '))\n",
        "# x1 = float(input('Second Guess: '))\n",
        "# e = float(input('Tolerable Error: '))\n",
        "\n",
        "\n",
        "# Checking Correctness of initial guess values and bisecting\n",
        "if f(x0) * f(x1) > 0.0:\n",
        "    print('Given guess values do not bracket the root.')\n",
        "    print('Try Again with different guess values.')\n",
        "else:\n",
        "    bisection(x0,x1,e)\n"
      ],
      "execution_count": null,
      "outputs": [
        {
          "output_type": "stream",
          "text": [
            "First Guess: 0\n",
            "Second Guess: 1\n",
            "Tolerable Error: 0.0001\n",
            "\n",
            "\n",
            "*** BISECTION METHOD IMPLEMENTATION ***\n",
            "Iteration-1, x2 = 0.5000 and f(x2) = -0.3776\n",
            "Iteration-2, x2 = 0.7500 and f(x2) = 0.0183\n",
            "Iteration-3, x2 = 0.6250 and f(x2) = -0.1860\n",
            "Iteration-4, x2 = 0.6875 and f(x2) = -0.0853\n",
            "Iteration-5, x2 = 0.7188 and f(x2) = -0.0339\n",
            "Iteration-6, x2 = 0.7344 and f(x2) = -0.0079\n",
            "Iteration-7, x2 = 0.7422 and f(x2) = 0.0052\n",
            "Iteration-8, x2 = 0.7383 and f(x2) = -0.0013\n",
            "Iteration-9, x2 = 0.7402 and f(x2) = 0.0019\n",
            "Iteration-10, x2 = 0.7393 and f(x2) = 0.0003\n",
            "Iteration-11, x2 = 0.7388 and f(x2) = -0.0005\n",
            "Iteration-12, x2 = 0.7390 and f(x2) = -0.0001\n",
            "Iteration-13, x2 = 0.7391 and f(x2) = 0.0001\n",
            "\n",
            "Required Root is : 0.7391\n"
          ],
          "name": "stdout"
        }
      ]
    }
  ]
}