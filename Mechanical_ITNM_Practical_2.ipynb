{
  "nbformat": 4,
  "nbformat_minor": 0,
  "metadata": {
    "colab": {
      "name": "Mechanical_ITNM_Practical-2.ipynb",
      "provenance": [],
      "collapsed_sections": [],
      "authorship_tag": "ABX9TyMOGrjJYZI80DPpRSAU9cSJ",
      "include_colab_link": true
    },
    "kernelspec": {
      "name": "python3",
      "display_name": "Python 3"
    },
    "language_info": {
      "name": "python"
    }
  },
  "cells": [
    {
      "cell_type": "markdown",
      "metadata": {
        "id": "view-in-github",
        "colab_type": "text"
      },
      "source": [
        "<a href=\"https://colab.research.google.com/github/rootvesh/rootvesh/blob/main/Mechanical_ITNM_Practical_2.ipynb\" target=\"_parent\"><img src=\"https://colab.research.google.com/assets/colab-badge.svg\" alt=\"Open In Colab\"/></a>"
      ]
    },
    {
      "cell_type": "code",
      "metadata": {
        "colab": {
          "base_uri": "https://localhost:8080/"
        },
        "id": "OzC3NfQ_XfjV",
        "outputId": "e7d3fbef-7a82-439a-f9a1-051e241ddc2c"
      },
      "source": [
        "a=float(input(\" enter the value of a:\"))\n",
        "b=float(input(\" enter the value of b:\"))\n",
        "c=a+b\n",
        "d=a*b\n",
        "e=a/b\n",
        "print(c)\n",
        "print(d)\n",
        "print(e)"
      ],
      "execution_count": 1,
      "outputs": [
        {
          "output_type": "stream",
          "text": [
            " enter the value of a:5\n",
            " enter the value of b:7\n",
            "12.0\n",
            "35.0\n",
            "0.7142857142857143\n"
          ],
          "name": "stdout"
        }
      ]
    },
    {
      "cell_type": "code",
      "metadata": {
        "id": "R6yaVdeFtFIm",
        "colab": {
          "base_uri": "https://localhost:8080/"
        },
        "outputId": "724fa9c8-f443-463e-b0b8-4c8a056d6300"
      },
      "source": [
        "# Escape sequence\n",
        "print(\"This is a lot of space.\")\n",
        "print(\"This \\t is \\t \\t \\t a lot of space.\")\n",
        "print(\"Python \\t Numerical Methods  \\t ITNM-PRACTICAL \")\n",
        "print(\"Rootvesh S Mehta \\ne-mail id- rootveshmehta.gd@indusuni.ac.in\\n9879618783\")\n",
        "print(\"When I said, \\'immediately\\' I meant today!\")\n",
        "print(\"\\\" Do or do not.There is no try.\\\"\")"
      ],
      "execution_count": 5,
      "outputs": [
        {
          "output_type": "stream",
          "text": [
            "This is a lot of space.\n",
            "This \t is \t \t \t a lot of space.\n",
            "Python \t Numerical Methods  \t ITNM-PRACTICAL \n",
            "Rootvesh S Mehta \n",
            "e-mail id- rootveshmehta.gd@indusuni.ac.in\n",
            "9879618783\n",
            "When I said, 'immediately' I meant today!\n",
            "\" Do or do not.There is no try.\"\n"
          ],
          "name": "stdout"
        }
      ]
    },
    {
      "cell_type": "code",
      "metadata": {
        "id": "98F1BjpSaJWe"
      },
      "source": [
        "#Comparison Operator"
      ],
      "execution_count": null,
      "outputs": []
    },
    {
      "cell_type": "code",
      "metadata": {
        "id": "iz7FrlvpQXLT",
        "colab": {
          "base_uri": "https://localhost:8080/"
        },
        "outputId": "59e831bb-c058-493d-a25c-e20daf5df02b"
      },
      "source": [
        "\n",
        "print(3 > 5)\n",
        "print(7 > 2)\n",
        "print(5.67 < 2)\n",
        "print(3 >= 2)\n",
        "print(2 <= 2)\n",
        "print(10 != 100) # not equals to \n",
        "print(10 != 10)\n",
        "print(10 == 10)\n",
        "print(\"hello\"==\"hello\")\n",
        "print(\"hello\"!=\"world\")\n",
        "print(\"Hello\"==\"hello\")"
      ],
      "execution_count": 6,
      "outputs": [
        {
          "output_type": "stream",
          "text": [
            "False\n",
            "True\n",
            "False\n",
            "True\n",
            "True\n",
            "True\n",
            "False\n",
            "True\n",
            "True\n",
            "True\n",
            "False\n"
          ],
          "name": "stdout"
        }
      ]
    },
    {
      "cell_type": "code",
      "metadata": {
        "id": "4Fh1myOza5Sw"
      },
      "source": [
        "control statement:"
      ],
      "execution_count": null,
      "outputs": []
    },
    {
      "cell_type": "code",
      "metadata": {
        "id": "yXYkbySwbAL9"
      },
      "source": [
        ""
      ],
      "execution_count": null,
      "outputs": []
    },
    {
      "cell_type": "code",
      "metadata": {
        "colab": {
          "base_uri": "https://localhost:8080/"
        },
        "id": "S9IYGst3Xa35",
        "outputId": "dd5cd135-21ea-4443-8e06-4ed8e10f5f4c"
      },
      "source": [
        "# If the number is positive, we print an appropriate message\n",
        "\n",
        "num = 9\n",
        "if num > 0:\n",
        "    print(num, \"is a positive number.\")\n",
        "\n",
        "num = -7\n",
        "if num < 0:\n",
        "    print(num, \"is a positive number.\")\n",
        "    print(num,\"negative number\")"
      ],
      "execution_count": 9,
      "outputs": [
        {
          "output_type": "stream",
          "text": [
            "9 is a positive number.\n",
            "-7 is a positive number.\n",
            "-7 negative number\n"
          ],
          "name": "stdout"
        }
      ]
    },
    {
      "cell_type": "code",
      "metadata": {
        "colab": {
          "base_uri": "https://localhost:8080/"
        },
        "id": "ysNYwKZXczqZ",
        "outputId": "b66eda50-f7e4-4fe8-f3b7-c02acffb9451"
      },
      "source": [
        "# If the number is positive, we print an appropriate message\n",
        "\n",
        "num = 7\n",
        "if num > 0:\n",
        "    print(num, \"is a positive number.\")\n",
        "\n",
        "num =-9\n",
        "if num < 0:\n",
        "    print(num,\" is a negative number\")"
      ],
      "execution_count": 13,
      "outputs": [
        {
          "output_type": "stream",
          "text": [
            "7 is a positive number.\n",
            "-9  is a negative number\n"
          ],
          "name": "stdout"
        }
      ]
    },
    {
      "cell_type": "code",
      "metadata": {
        "colab": {
          "base_uri": "https://localhost:8080/"
        },
        "id": "wdlrafw7dVgf",
        "outputId": "7f7c8d0e-198b-471c-ae32-cdd9d9d1c9ed"
      },
      "source": [
        " # Program checks if the number is positive or negative\n",
        "# And displays an appropriate message\n",
        "\n",
        "num =float(input(\" enter the number:\"))\n",
        "\n",
        "# Try these two variations as well. \n",
        "# num = -5\n",
        "# num = 0\n",
        "\n",
        "if num >= 0:\n",
        "    print(\"Positive or Zero\")\n",
        "else:\n",
        "    print(\"Negative number\")"
      ],
      "execution_count": 19,
      "outputs": [
        {
          "output_type": "stream",
          "text": [
            " enter the number:-2\n",
            "Negative number\n"
          ],
          "name": "stdout"
        }
      ]
    },
    {
      "cell_type": "code",
      "metadata": {
        "colab": {
          "base_uri": "https://localhost:8080/"
        },
        "id": "Zv5v5G9vfotQ",
        "outputId": "06318c38-8151-47d7-e22d-9c62e0685b3d"
      },
      "source": [
        "'''In this program, \n",
        "we check if the number is positive or\n",
        "negative or zero and \n",
        "display an appropriate message'''\n",
        "\n",
        "num = int(input(\"enter the number:\"))\n",
        "# Try these two variations as well:\n",
        "# num = 0\n",
        "# num = -4.5\n",
        "if num > 0:\n",
        "    print(\"Positive number\")\n",
        "elif num == 0:\n",
        "    print(\"Zero\")\n",
        "else:\n",
        "    print(\"Negative number\")"
      ],
      "execution_count": 7,
      "outputs": [
        {
          "output_type": "stream",
          "text": [
            "enter the number:0\n",
            "Zero\n"
          ],
          "name": "stdout"
        }
      ]
    },
    {
      "cell_type": "code",
      "metadata": {
        "colab": {
          "base_uri": "https://localhost:8080/"
        },
        "id": "TDAoJ4z1gw1y",
        "outputId": "f3e4c4b2-f268-42bc-c188-95cd8d37de42"
      },
      "source": [
        "'''In this program, we input a number\n",
        "check if the number is positive or\n",
        "negative or zero and display\n",
        "an appropriate message\n",
        "This time we use nested if statement'''\n",
        "\n",
        "num = float(input(\"Enter a number: \"))\n",
        "if num >= 0:\n",
        "    if num == 0:\n",
        "        print(\"Zero\")\n",
        "    else:\n",
        "        print(\"Positive number\")\n",
        "else:\n",
        "    print(\"Negative number\")"
      ],
      "execution_count": 10,
      "outputs": [
        {
          "output_type": "stream",
          "text": [
            "Enter a number: -100\n",
            "Negative number\n"
          ],
          "name": "stdout"
        }
      ]
    },
    {
      "cell_type": "code",
      "metadata": {
        "colab": {
          "base_uri": "https://localhost:8080/"
        },
        "id": "v4Qs1vEVh7Xg",
        "outputId": "b0899bb9-20c9-4538-d38d-50a21b7a90c5"
      },
      "source": [
        " #Program to find the multiplication of all numbers stored in a list\n",
        "\n",
        "# List of numbers\n",
        "numbers = [9, 11, 12, 67, 14, 1, 8, 6, 13]\n",
        "\n",
        "# variable to store the sum\n",
        "mul = 1\n",
        "# iterate over the list\n",
        "for val in numbers:\n",
        "    mul= mul*val\n",
        "\n",
        "print(\"The mul is\", mul)"
      ],
      "execution_count": 19,
      "outputs": [
        {
          "output_type": "stream",
          "text": [
            "The mul is 695350656\n"
          ],
          "name": "stdout"
        }
      ]
    }
  ]
}