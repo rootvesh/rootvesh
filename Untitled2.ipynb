{
  "nbformat": 4,
  "nbformat_minor": 0,
  "metadata": {
    "colab": {
      "name": "Untitled2.ipynb",
      "provenance": [],
      "authorship_tag": "ABX9TyNEY3IQSwZxjAz6OYFRaKI7",
      "include_colab_link": true
    },
    "kernelspec": {
      "name": "python3",
      "display_name": "Python 3"
    },
    "language_info": {
      "name": "python"
    }
  },
  "cells": [
    {
      "cell_type": "markdown",
      "metadata": {
        "id": "view-in-github",
        "colab_type": "text"
      },
      "source": [
        "<a href=\"https://colab.research.google.com/github/rootvesh/rootvesh/blob/main/Untitled2.ipynb\" target=\"_parent\"><img src=\"https://colab.research.google.com/assets/colab-badge.svg\" alt=\"Open In Colab\"/></a>"
      ]
    },
    {
      "cell_type": "code",
      "metadata": {
        "colab": {
          "base_uri": "https://localhost:8080/"
        },
        "id": "GFiKm5Y2nz1V",
        "outputId": "124da65f-ba72-4e09-85fe-6d72083db673"
      },
      "source": [
        "# Python program to inverse\n",
        "# a matrix using numpy\n",
        "  \n",
        "# Import required package\n",
        "import numpy as np\n",
        "  \n",
        "# Taking a 3 * 3 matrix\n",
        "A = np.array([[1, 1, 1],\n",
        "              [4, -3, 5],\n",
        "              [2, 8, 7]])\n",
        "  \n",
        "# Calculating the inverse of the matrix\n",
        "print(np.linalg.inv(A))"
      ],
      "execution_count": 14,
      "outputs": [
        {
          "output_type": "stream",
          "text": [
            "[[ 1.48780488 -0.02439024 -0.19512195]\n",
            " [ 0.43902439 -0.12195122  0.02439024]\n",
            " [-0.92682927  0.14634146  0.17073171]]\n"
          ],
          "name": "stdout"
        }
      ]
    },
    {
      "cell_type": "code",
      "metadata": {
        "colab": {
          "base_uri": "https://localhost:8080/"
        },
        "id": "3fAHGnxRoCVi",
        "outputId": "a21e04c1-4dad-4096-c439-d6fefc307547"
      },
      "source": [
        " #Python program to determinant\n",
        "# a matrix using numpy\n",
        "  \n",
        "# Import required package\n",
        "import numpy as np\n",
        "  \n",
        "# Taking a 3 * 3 matrix\n",
        "A = np.array([[1, 1, 1],\n",
        "              [4, -3, 5],\n",
        "              [2, 8, 7]])\n",
        "  \n",
        "# Calculating the determinant of the matrix\n",
        "print(np.linalg.det(A))"
      ],
      "execution_count": 15,
      "outputs": [
        {
          "output_type": "stream",
          "text": [
            "-40.999999999999986\n"
          ],
          "name": "stdout"
        }
      ]
    }
  ]
}