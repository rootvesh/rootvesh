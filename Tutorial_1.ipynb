{
  "nbformat": 4,
  "nbformat_minor": 0,
  "metadata": {
    "colab": {
      "name": "Tutorial- 1.ipynb",
      "provenance": [],
      "include_colab_link": true
    },
    "kernelspec": {
      "name": "python3",
      "display_name": "Python 3"
    },
    "language_info": {
      "name": "python"
    }
  },
  "cells": [
    {
      "cell_type": "markdown",
      "metadata": {
        "id": "view-in-github",
        "colab_type": "text"
      },
      "source": [
        "<a href=\"https://colab.research.google.com/github/rootvesh/rootvesh/blob/main/Tutorial_1.ipynb\" target=\"_parent\"><img src=\"https://colab.research.google.com/assets/colab-badge.svg\" alt=\"Open In Colab\"/></a>"
      ]
    },
    {
      "cell_type": "markdown",
      "metadata": {
        "id": "SVxzTgLzbDBe"
      },
      "source": [
        "Assigning values to variables:"
      ]
    },
    {
      "cell_type": "code",
      "metadata": {
        "id": "N-Pgp29sYlJy"
      },
      "source": [
        "# variable : is a researved memory location to store values\n",
        "# comments : are special code that ignored when programme is run\n",
        "x = 100          # An integer assignment\n",
        "print(\"value of x = \",x)\n",
        "# print(complex(10,2))\n",
        "# print('john')\n",
        "# print(100)\n",
        "# print(x)\n",
        "y = 1000.0       # A floating point\n",
        "name = 'Ronak'    # A string\n",
        "boo_1 = True       # boolean\n",
        "print(x,y,name,boo_1)\n",
        "# print(\"100\") \n",
        "z = complex(x,y)  # complex number \n",
        "print (z)"
      ],
      "execution_count": null,
      "outputs": []
    },
    {
      "cell_type": "code",
      "metadata": {
        "id": "ImrmwQUUbNlX"
      },
      "source": [
        "# x= 1 + 2j\n",
        "z= complex (1,2)\n",
        "print(type(z))\n",
        "print(z)\n"
      ],
      "execution_count": null,
      "outputs": []
    },
    {
      "cell_type": "code",
      "metadata": {
        "id": "W10fdsjfq_hH"
      },
      "source": [
        "# Type \n",
        "print(type(x))\n",
        "print(type(y))\n",
        "print(type(name))\n",
        "print(type(boo_1))\n",
        "print(type(z))"
      ],
      "execution_count": null,
      "outputs": []
    },
    {
      "cell_type": "code",
      "metadata": {
        "colab": {
          "base_uri": "https://localhost:8080/"
        },
        "id": "PeZxLCq_bsGS",
        "outputId": "70b27ed1-a823-48fd-b60c-cadd02d7814a"
      },
      "source": [
        "a = '23' # integer\n",
        "b = '25' # string\n",
        "print(type(a), type(b))\n",
        "c =  str(a)\n",
        "print(type(c),c)\n",
        "d = int(b)\n",
        "print(type(d),d)\n",
        "print(a+b)"
      ],
      "execution_count": null,
      "outputs": [
        {
          "output_type": "stream",
          "text": [
            "<class 'str'> <class 'str'>\n",
            "<class 'str'> 23\n",
            "<class 'int'> 25\n",
            "2325\n"
          ],
          "name": "stdout"
        }
      ]
    },
    {
      "cell_type": "code",
      "metadata": {
        "id": "T1MKOzw1rru2"
      },
      "source": [
        "# Type Conversion\n",
        "a = 23\n",
        "print(type(a))\n",
        "b = str(a) \n",
        "print(type(b))\n",
        "print('a'+b)\n",
        "print(a+a)\n",
        "print(b+b)\n",
        "c = float(a)\n",
        "name = 'Ronak'\n",
        "# name_1 = int(name)\n",
        "# print(c)"
      ],
      "execution_count": null,
      "outputs": []
    },
    {
      "cell_type": "markdown",
      "metadata": {
        "id": "dhdtfXYDdMW5"
      },
      "source": [
        "Taking inputs:"
      ]
    },
    {
      "cell_type": "code",
      "metadata": {
        "id": "pBESkxpInpAS",
        "colab": {
          "base_uri": "https://localhost:8080/"
        },
        "outputId": "205dbaa6-abbf-4ca8-e01d-58aa6124d0cf"
      },
      "source": [
        "a=float(input(\"Enter a value a:\"))\n",
        "b=float(input(\"Enter a value b:\"))\n",
        "# print(type(a), type(b))\n",
        "print(\"a+b=\",a+b)\n",
        "print(\"a-b =\",a-b)\n",
        "print(\"a*b=\",a*b)\n",
        "print(\"a/b=\",a/b)"
      ],
      "execution_count": null,
      "outputs": [
        {
          "output_type": "stream",
          "text": [
            "Enter a value a:12.0\n",
            "Enter a value b:3.0\n",
            "a+b= 15.0\n",
            "a-b = 9.0\n",
            "a*b= 36.0\n",
            "a/b= 4.0\n"
          ],
          "name": "stdout"
        }
      ]
    },
    {
      "cell_type": "code",
      "metadata": {
        "id": "R6yaVdeFtFIm",
        "colab": {
          "base_uri": "https://localhost:8080/"
        },
        "outputId": "53afc550-3201-486e-f41a-7dcfe895a0aa"
      },
      "source": [
        "# Escape sequence\n",
        "print(\"This is a lot of space.\")\n",
        "print(\"This is \\t \\t a lot of space.\")\n",
        "print(\"This \\t is \\t a \\t lot \\t of \\t space.\")\n",
        "print(\"one line \\nsecond line\")\n",
        "print(\"When I said, \\'immediately\\' I meant today!\")\n",
        "print(\"\\\" Do or do not.There is no try.\\\"\")"
      ],
      "execution_count": null,
      "outputs": [
        {
          "output_type": "stream",
          "text": [
            "This is a lot of space.\n",
            "This is \t \t a lot of space.\n",
            "This \t is \t a \t lot \t of \t space.\n",
            "one line \n",
            "second line\n",
            "When I said, 'immediately' I meant today!\n",
            "\" Do or do not.There is no try.\"\n"
          ],
          "name": "stdout"
        }
      ]
    },
    {
      "cell_type": "markdown",
      "metadata": {
        "id": "ZrSeIUB7t8to"
      },
      "source": [
        "Programming Challenge"
      ]
    },
    {
      "cell_type": "code",
      "metadata": {
        "id": "Bey5Y4WXt-m7"
      },
      "source": [
        "# Using your knowledge of escape sequences, create a single print()\n",
        "# statement with single string inside of it that displays this when the\n",
        "# program is run:\n",
        "\n",
        "#  *******\n",
        "#   *****\n",
        "#    ***\n",
        "#     *\n",
        "print(\"*******\\n *****\\n  ***\\n   *\")"
      ],
      "execution_count": null,
      "outputs": []
    },
    {
      "cell_type": "markdown",
      "metadata": {
        "id": "kHt5h9nLc0mg"
      },
      "source": [
        "Math operators"
      ]
    },
    {
      "cell_type": "code",
      "metadata": {
        "id": "lrBVCMLsc0Im",
        "colab": {
          "base_uri": "https://localhost:8080/"
        },
        "outputId": "68cc176f-026d-4a95-f97a-aa3e49891381"
      },
      "source": [
        "a = 15\n",
        "b = 4\n",
        "# print(225-456)\n",
        "# print(\"225-456\")\n",
        "# print(a+b) # addition\n",
        "# print(\"c =\", a+b)\n",
        "# print(\"c =\", a+b)\n",
        "# print(a-b) # subtraction\n",
        "# print(a/b) # divison\n",
        "print(\"mul = \", a*b) # multiplication\n",
        "print(\"power = \",a**b) # power\n",
        "print(\"F.D.= \",a//b) # floor division : it returns the largest possible integer(Quotient)\n",
        "print(\"Mod= \",a % b) # modulo\n"
      ],
      "execution_count": null,
      "outputs": [
        {
          "output_type": "stream",
          "text": [
            "mul =  60\n",
            "power =  50625\n",
            "F.D.=  3\n",
            "Mod=  3\n"
          ],
          "name": "stdout"
        }
      ]
    },
    {
      "cell_type": "markdown",
      "metadata": {
        "id": "kH-pSqh0fdnz"
      },
      "source": [
        "**Assignment operator**"
      ]
    },
    {
      "cell_type": "code",
      "metadata": {
        "id": "1TBMGySXdNSF",
        "colab": {
          "base_uri": "https://localhost:8080/"
        },
        "outputId": "f997c4cb-ea88-4c1a-c07f-f2272bedd89e"
      },
      "source": [
        "a = 5\n",
        "a -= 6 # a = a-6 \n",
        "# a += 5 # a= a+5 =16\n",
        "print(a)"
      ],
      "execution_count": null,
      "outputs": [
        {
          "output_type": "stream",
          "text": [
            "30\n"
          ],
          "name": "stdout"
        }
      ]
    },
    {
      "cell_type": "markdown",
      "metadata": {
        "id": "LrzxYTwNgeiL"
      },
      "source": [
        "Operator precedence"
      ]
    },
    {
      "cell_type": "code",
      "metadata": {
        "id": "O9aKARglf_Mf"
      },
      "source": [
        "a=20\n",
        "b= 10\n",
        "c=15\n",
        "d=5\n",
        "print((a + b) * c / d )\n",
        "print(((a + b) * c)/d) \n",
        "print((a + b) * (c / d))\n",
        "print(a + (b * c) / d)\n",
        "print((9 - 7) * 2 **3 + 10%6// - 1 * 2 - 1)"
      ],
      "execution_count": null,
      "outputs": []
    },
    {
      "cell_type": "markdown",
      "metadata": {
        "id": "6CKk47uWht0O"
      },
      "source": [
        "Ptogramming assignment :1 \n"
      ]
    },
    {
      "cell_type": "code",
      "metadata": {
        "id": "QzF0JZpcjElg"
      },
      "source": [
        "# A customer of a grocery store is purchasing 6 items. The names and prices of the items are as follows:\n",
        "# wheat floor-  160 Rs.\n",
        "# Arrabiata Pasta  - 27 Rs.\n",
        "# Bag of 20 Organic Garlic Cloves - 380.25 Rs.\n",
        "# Italian Seasoning 1.5 ltr Bottle - 178.90 Rs.\n",
        "# Biscuits - 158 Rs.\n",
        "# Noodles of pack 2 - 223.65 Rs.\n",
        "# In a .py file, write a program which calculates the subtotal of all 6 of these items using an expression. \n",
        "# The subtotal is just the sum of all of their prices.\n",
        "# Use print() to display the result of the expression.\n",
        "W_floor= 160\n",
        "pasta =27\n",
        "garlic=380.25\n",
        "bottle = 178.90\n",
        "bisc = 158\n",
        "noodle = 223.65\n",
        "# subtotal = W_floor+ pasta +garlic+bottle +bisc+noodle\n",
        "print(W_floor+ pasta +garlic+bottle +bisc+noodle) \n"
      ],
      "execution_count": null,
      "outputs": []
    },
    {
      "cell_type": "code",
      "metadata": {
        "id": "85eBv1Fi7EHp"
      },
      "source": [
        "a = input(\"price of wheat flour :\")\n",
        "b = input(\"price of pasta :\")\n",
        "c = input(\"price of bottle :\")\n",
        "print(\"total= \", int(a)+int(b)+int(c))"
      ],
      "execution_count": null,
      "outputs": []
    },
    {
      "cell_type": "code",
      "metadata": {
        "id": "3oeSkGiNw_oX"
      },
      "source": [
        "#  take inputs\n",
        "name = input(\"Please enter your name:\")\n",
        "print(\"your name is \" + name + \".\")\n",
        "print(type(name))\n",
        "\n",
        "# num = input(\"What is your favorite number?\")\n",
        "# print(\"your favorite number is\" + number + \".\")\n",
        "# print(type(num))"
      ],
      "execution_count": null,
      "outputs": []
    },
    {
      "cell_type": "markdown",
      "metadata": {
        "id": "6zFtpyswxpNu"
      },
      "source": [
        "Programming Challenge "
      ]
    },
    {
      "cell_type": "code",
      "metadata": {
        "id": "LDVdhaYHxsOZ"
      },
      "source": [
        "# In a .py file, create a program and use input() three times to get\n",
        "# answers to the following questions from a user. Store each of the\n",
        "# answers in a variable.\n",
        "# What is your name?\n",
        "# What is your age?\n",
        "# What is your favorite color?\n",
        "# Then, concatenate everything into a string within a print() statement\n",
        "# with the form \"So your name is [name], your age is [age], and your\n",
        "# favorite color is [color].”"
      ],
      "execution_count": null,
      "outputs": []
    },
    {
      "cell_type": "code",
      "metadata": {
        "id": "f4oMYSV4x6DB"
      },
      "source": [
        "# In a Python file, use input() to ask the user to enter an integer that 10\n",
        "# will be added to. Assign what they type to a variable.\n",
        "# print() the sum of the integer they entered and 10."
      ],
      "execution_count": null,
      "outputs": []
    },
    {
      "cell_type": "markdown",
      "metadata": {
        "id": "Du4hIF1SQb_Q"
      },
      "source": [
        "Comparison operator:"
      ]
    },
    {
      "cell_type": "code",
      "metadata": {
        "id": "iz7FrlvpQXLT",
        "colab": {
          "base_uri": "https://localhost:8080/"
        },
        "outputId": "1963bd35-c757-44bd-f23d-82d65aa87e26"
      },
      "source": [
        "\n",
        "print(3 > 5)\n",
        "print(7 > 2)\n",
        "print(5.67 < 2)\n",
        "print(3 >= 2)\n",
        "print(2 <= 2)\n",
        "print(10 != 100) # not equals to \n",
        "print(10 != 10)\n",
        "print(10 == 10)\n",
        "print(\"hello\"==\"hello\")\n",
        "print(\"hello\"!=\"world\")\n",
        "print(\"Hello\"==\"hello\")"
      ],
      "execution_count": null,
      "outputs": [
        {
          "output_type": "stream",
          "text": [
            "False\n",
            "True\n",
            "False\n",
            "True\n",
            "True\n",
            "True\n",
            "False\n",
            "True\n",
            "True\n",
            "True\n",
            "False\n"
          ],
          "name": "stdout"
        }
      ]
    },
    {
      "cell_type": "markdown",
      "metadata": {
        "id": "NoiVKeE5QzxJ"
      },
      "source": [
        "Boolean operator "
      ]
    },
    {
      "cell_type": "code",
      "metadata": {
        "id": "B9kVH9xLQzUq",
        "colab": {
          "base_uri": "https://localhost:8080/"
        },
        "outputId": "f8ccd03f-6aac-474b-e892-18f401546dc5"
      },
      "source": [
        "# AND operator\n",
        "print(4 > 1 and \"hello\"==\"hello\") # True and true\n",
        "print(\"earth\"==\"Earth\" and 6 <= 2)\n",
        "print(10 == 5 and 10!= 5)\n",
        "# OR operator\n",
        "print(4 > 1 or \"hello\"==\"hello\")\n",
        "print(\"earth\"==\"Earth\" or 6 <= 2)\n",
        "print(10 == 5 or 10!= 5)\n",
        "# # NOT operator\n",
        "print(not 4 > 1 )\n",
        "print(not \"earth\"==\"Earth\")"
      ],
      "execution_count": null,
      "outputs": [
        {
          "output_type": "stream",
          "text": [
            "True\n",
            "False\n",
            "False\n",
            "True\n",
            "False\n",
            "True\n",
            "False\n",
            "True\n"
          ],
          "name": "stdout"
        }
      ]
    },
    {
      "cell_type": "markdown",
      "metadata": {
        "id": "CS8M0aY0VHZB"
      },
      "source": [
        "control statement:"
      ]
    },
    {
      "cell_type": "code",
      "metadata": {
        "colab": {
          "base_uri": "https://localhost:8080/"
        },
        "id": "UghkMVC8VHEG",
        "outputId": "3914f85e-754e-4d66-98eb-4ef9727462d6"
      },
      "source": [
        "#  if statement\n",
        "a = 33\n",
        "b = 200\n",
        "if b > a:\n",
        "  print(\"b is greater than a\") \n",
        "\n",
        "#elif statemet\n",
        "# a = 33\n",
        "# b = 33\n",
        "# if b > a:\n",
        "#   print(\"b is greater than a\")\n",
        "# elif a == b:\n",
        "#   print(\"a and b are equal\")\n",
        "# # else statemet\n",
        "# a = 200\n",
        "# b = 33\n",
        "# if b > a:\n",
        "#   print(\"b is greater than a\")\n",
        "# elif a == b:\n",
        "#   print(\"a and b are equal\")\n",
        "# else:\n",
        "#   print(\"a is greater than b\")"
      ],
      "execution_count": null,
      "outputs": [
        {
          "output_type": "stream",
          "text": [
            " a is equal to b\n"
          ],
          "name": "stdout"
        }
      ]
    },
    {
      "cell_type": "code",
      "metadata": {
        "id": "Qd66cYPbVvMT"
      },
      "source": [
        "# while loop\n",
        "# Print i as long as i is less than 6:\n",
        "i = 1\n",
        "while i < 6:\n",
        "  print(i)\n",
        "  i += 1\n",
        "# break statement\n",
        "# Exit the loop when i is 3:\n",
        "i = 1\n",
        "while i < 6:\n",
        "  print(i)\n",
        "  if i == 3:\n",
        "    break\n",
        "  i += 1\n",
        "# Continue to the next iteration if i is 3:\n",
        "i = 0\n",
        "while i < 6:\n",
        "  i += 1\n",
        "  if i == 3:\n",
        "    continue\n",
        "  print(i)"
      ],
      "execution_count": null,
      "outputs": []
    },
    {
      "cell_type": "code",
      "metadata": {
        "id": "Nd6U2G6vWJpk"
      },
      "source": [
        "For loop\n",
        "word = \"house\"\n",
        "for letter in word:\n",
        "  print(letter)\n",
        "# range() with one argument\n",
        "one_input = range(5)\n",
        "for num in one_input:\n",
        "  print(num)\n",
        "# range() with two argument\n",
        "second_inputs = range(5,10)\n",
        "for num in second_inputs:\n",
        "  print(num)\n",
        "# range() with three arguments\n",
        "three_inputs = range(20,1,-3)\n",
        "for num in three_inputs:\n",
        "  print(num)"
      ],
      "execution_count": null,
      "outputs": []
    },
    {
      "cell_type": "markdown",
      "metadata": {
        "id": "QSzCCS_jp1kN"
      },
      "source": [
        "String Methods:"
      ]
    },
    {
      "cell_type": "code",
      "metadata": {
        "id": "_MrRPF_lpXMD"
      },
      "source": [
        "f = \"There is no capital here\"\n",
        "print(f.upper())\n",
        "print(f.lower())\n",
        "print(\"The sun is bright\".isupper())\n",
        "print(\"the sun is bright\".islower())\n",
        "print(\"SHOUT\".lower().isupper())\n",
        "print(\"BATMAN\".isalpha()) # only letters\n",
        "print(\"BATMAN123\".isalnum()) # numbers and letters\n",
        "print(\"456982\".isalnum()) \n",
        "print(\"A456982\".isdecimal()) # only numbers\n",
        "print(\"\".isspace()) # only spaces\n",
        "print(\"The Empire Strikes Back\".istitle())# Only Title case"
      ],
      "execution_count": null,
      "outputs": []
    },
    {
      "cell_type": "code",
      "metadata": {
        "id": "raQIE05Sr2_p"
      },
      "source": [
        "# Multiple string Methods\n",
        "print(\"this is string\".startswith(\"t\"))\n",
        "print(\"To infinity and beyond!\".endswith(\"beyond!\"))\n",
        "print(\"\".join([\"one\",\"Two\",\"Three\"]))\n",
        "print(\" \".join([\"one\",\"Two\",\"Three\"]))\n",
        "print(\",\".join([\"one\",\"Two\",\"Three\"]))\n",
        "print(\", \".join([\"one\",\"Two\",\"Three\"]))\n",
        "print(\"...\".join([\"one\",\"Two\",\"Three\"]))\n",
        "print(\"Eggs,milk,bacon,waffles\".split())\n",
        "print(\"Eggs,milk,bacon,waffles\".split(\",\"))"
      ],
      "execution_count": null,
      "outputs": []
    },
    {
      "cell_type": "code",
      "metadata": {
        "id": "st5iZpXktCuv"
      },
      "source": [
        "print(\"hello world\".rjust(15))\n",
        "print(\"hello world\".ljust(15)+\"four spaces later.\")\n",
        "# .rjust() and .ljust()’second argument\n",
        "print(\"hello world\".rjust(15,'-'))\n",
        "print(\"hello world\".ljust(15,'*')+\"four spaces later.\")\n",
        "print(\"hello world\".center(15))\n",
        "print(\"hello world\".center(15,\"*\"))"
      ],
      "execution_count": null,
      "outputs": []
    },
    {
      "cell_type": "code",
      "metadata": {
        "id": "bGiDAmzVut1l"
      },
      "source": [
        "print(\"I had an exiting trip!!111111\")\n",
        "print(\"I had an exiting trip!!111111\".strip(\"1\"))\n",
        "print(\"I had an exiting trip!!111111\".rstrip(\"1\"))\n",
        "print(\"I had an exiting trip!!111111\".lstrip(\"1\"))\n",
        "\n",
        "print(\"juice, bread, egg, cheese, beef, bread\".rstrip(\", bread\"))\n",
        "print(\"juice, bread, egg, cheese, beef, bread\".rstrip(\",ed arb\"))\n",
        "print(\"blueblueyellowblue\".strip(\"eulb\"))\n",
        "\n",
        "print(\"Good morning\".replace(\"morning\",\"afternoon\"))\n",
        "\n",
        "print(len(\"tree\"))\n",
        "print(len(\"My name is james\"))"
      ],
      "execution_count": null,
      "outputs": []
    },
    {
      "cell_type": "markdown",
      "metadata": {
        "id": "kRemWXNL_N6Q"
      },
      "source": [
        "LIST"
      ]
    },
    {
      "cell_type": "code",
      "metadata": {
        "id": "lx7XMoMJ_NW_"
      },
      "source": [
        "ex_1=[2,5,6,7,8]\n",
        "ex_2=[2.35,5.63]\n",
        "ex_3=[\"red\",\"blue\",\"green\",\"red\",\"white\",\"black\"]\n",
        "ex_4=[True,False,False,False,True,False,True]\n",
        "ex_5=[[1,2,3,4],[1.2,5.2]]\n",
        "ex_6=[1,2.3,\"blue\",True,[1,2,3]]\n",
        "print(list(\"blah\"))\n",
        "# IN Or NOT IN\n",
        "print(1 in ex_1)\n",
        "print(8 in ex_1)\n",
        "print(1 not in ex_1)\n",
        "print(8 not in ex_1)"
      ],
      "execution_count": null,
      "outputs": []
    },
    {
      "cell_type": "code",
      "metadata": {
        "id": "ObYAg37vE2bf"
      },
      "source": [
        "ind_ex = [ \"carpet\" , \"hardwood\" , \"plastic\" ]\n",
        "print (ind_ex [ 1 ])\n",
        "ind_ex1 = [ [ 1, 2, 3 ], [ 3, 4, 5 ], [ 6, 7, 8 ] ]\n",
        "print (ind_ex1 [ 2 ][ 0 ])\n",
        "print (ind_ex [ 2 ][ 0 ])\n",
        "negative = [1, 2, 3, 4, 5]\n",
        "print (negative[-1])\n",
        "# Using items accessed by index in expressions\n",
        "mixed = [ False, 365, 4.25, \"this is string\"]\n",
        "print( mixed [ 2 ] + 1.76 )\n",
        "print(\"I have used  ̈\"+ mixed [ -1 ] + \"as an example too many times.\")\n",
        "# list slicing\n",
        "sliced = [1, 2, 3, 4, 5, 6, 7, 8, 9]\n",
        "print( sliced [ : 4 ])\n",
        "print( sliced [3 : 8])\n",
        "print( sliced [6 :])"
      ],
      "execution_count": null,
      "outputs": []
    },
    {
      "cell_type": "code",
      "metadata": {
        "id": "Ksl1DkpegjUs"
      },
      "source": [
        "for i in range(1,51):\n",
        "  print(i)"
      ],
      "execution_count": null,
      "outputs": []
    },
    {
      "cell_type": "code",
      "metadata": {
        "colab": {
          "base_uri": "https://localhost:8080/"
        },
        "id": "bfV6JCI46dKH",
        "outputId": "31ac8b85-69b7-434b-a9c4-6d16c5a166c2"
      },
      "source": [
        "# Newton- Raphson Method\n",
        "# Defining function and derivatives\n",
        "def f(x):\n",
        "  return x**3 - 5*x+3\n",
        "def df(x):\n",
        "  return 3*x**2 - 5\n",
        "def ddf(x):\n",
        "  return 6*x\n",
        "\n",
        "# Implementation of the method\n",
        "def NR(x0, e):\n",
        "  \n",
        "  n = 1\n",
        "  condition = True\n",
        "  while condition:\n",
        "    c = x0-f(x0)/df(f(x0))\n",
        "    print(\"iteration = \", n, \", x = \", c)\n",
        "    if abs(c-x0)>=e:\n",
        "      condition = True\n",
        "      x0=c\n",
        "      n+=1\n",
        "    else:\n",
        "      condition = False\n",
        "  print(\"root is \",c)\n",
        "\n",
        "# Input from user\n",
        "x0 = float(input('Initial Guess = '))\n",
        "e = float(input('Error = '))\n",
        "\n",
        "if (f(x0)*ddf(x0))/(df(x0)*df(x0))>=1:\n",
        "  # print('''Initial Guess is incorrect\n",
        "  # Try another Value''')\n",
        "  print(\"Initial Guess is incorrect\")\n",
        "else:\n",
        "  NR(x0,e)"
      ],
      "execution_count": null,
      "outputs": [
        {
          "output_type": "stream",
          "text": [
            "Initial Guess = 0.6\n",
            "Error = 0.00001\n",
            "iteration =  1 , x =  0.6444441518080539\n",
            "iteration =  2 , x =  0.6535398561258264\n",
            "iteration =  3 , x =  0.6558274288603917\n",
            "iteration =  4 , x =  0.6564155398274909\n",
            "iteration =  5 , x =  0.65656744427948\n",
            "iteration =  6 , x =  0.6566067249947732\n",
            "iteration =  7 , x =  0.6566168854992455\n",
            "iteration =  8 , x =  0.6566195138534554\n",
            "root is  0.6566195138534554\n"
          ],
          "name": "stdout"
        }
      ]
    }
  ]
}