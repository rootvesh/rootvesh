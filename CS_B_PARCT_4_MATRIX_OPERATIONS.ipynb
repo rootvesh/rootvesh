{
  "nbformat": 4,
  "nbformat_minor": 0,
  "metadata": {
    "colab": {
      "name": "CS_B_PARCT_4_MATRIX OPERATIONS.ipynb",
      "provenance": [],
      "authorship_tag": "ABX9TyNrEw9kzWU2lkXNDMMJ9uF1",
      "include_colab_link": true
    },
    "kernelspec": {
      "name": "python3",
      "display_name": "Python 3"
    },
    "language_info": {
      "name": "python"
    }
  },
  "cells": [
    {
      "cell_type": "markdown",
      "metadata": {
        "id": "view-in-github",
        "colab_type": "text"
      },
      "source": [
        "<a href=\"https://colab.research.google.com/github/rootvesh/rootvesh/blob/main/CS_B_PARCT_4_MATRIX_OPERATIONS.ipynb\" target=\"_parent\"><img src=\"https://colab.research.google.com/assets/colab-badge.svg\" alt=\"Open In Colab\"/></a>"
      ]
    },
    {
      "cell_type": "code",
      "metadata": {
        "id": "VNeGSxmsntpi"
      },
      "source": [
        "matrix operations "
      ],
      "execution_count": null,
      "outputs": []
    },
    {
      "cell_type": "code",
      "metadata": {
        "colab": {
          "base_uri": "https://localhost:8080/"
        },
        "id": "GFiKm5Y2nz1V",
        "outputId": "4583987c-358d-4ba3-d9af-da75b3361dd6"
      },
      "source": [
        "# Python program to inverse\n",
        "# a matrix using numpy\n",
        "  \n",
        "# Import required package\n",
        "import numpy as np\n",
        "  \n",
        "# Taking a 3 * 3 matrix\n",
        "A = np.array([[4, 6, 2],\n",
        "              [4, -3, 5],\n",
        "              [2, 8, 7]])\n",
        "  \n",
        "# Calculating the inverse of the matrix\n",
        "print(np.linalg.inv(A))"
      ],
      "execution_count": 1,
      "outputs": [
        {
          "output_type": "stream",
          "text": [
            "[[ 0.22101449  0.0942029  -0.13043478]\n",
            " [ 0.06521739 -0.08695652  0.04347826]\n",
            " [-0.13768116  0.07246377  0.13043478]]\n"
          ],
          "name": "stdout"
        }
      ]
    },
    {
      "cell_type": "code",
      "metadata": {
        "colab": {
          "base_uri": "https://localhost:8080/"
        },
        "id": "TyOtvb2Wohxa",
        "outputId": "260ce177-2acd-40a6-d6aa-74eee4ac6bdb"
      },
      "source": [
        "import numpy as np\n",
        "B=np.array([[1,9,4],[2,2,6],[7,7,7]])\n",
        "print(np.linalg.inv(B))"
      ],
      "execution_count": 4,
      "outputs": [
        {
          "output_type": "stream",
          "text": [
            "[[-0.125      -0.15625     0.20535714]\n",
            " [ 0.125      -0.09375     0.00892857]\n",
            " [ 0.          0.25       -0.07142857]]\n"
          ],
          "name": "stdout"
        }
      ]
    },
    {
      "cell_type": "code",
      "metadata": {
        "colab": {
          "base_uri": "https://localhost:8080/"
        },
        "id": "yfKguJ-MpXqa",
        "outputId": "5477a477-9d5b-4426-fcfa-b87c73e3787e"
      },
      "source": [
        "print(np.linalg.det(B))"
      ],
      "execution_count": 5,
      "outputs": [
        {
          "output_type": "stream",
          "text": [
            "223.99999999999994\n"
          ],
          "name": "stdout"
        }
      ]
    },
    {
      "cell_type": "code",
      "metadata": {
        "colab": {
          "base_uri": "https://localhost:8080/"
        },
        "id": "LbAFs7hpprkR",
        "outputId": "29fc04a8-3e09-4483-87d6-008e7fa8e01d"
      },
      "source": [
        "print(np.linalg.det(A))"
      ],
      "execution_count": 6,
      "outputs": [
        {
          "output_type": "stream",
          "text": [
            "-275.9999999999999\n"
          ],
          "name": "stdout"
        }
      ]
    },
    {
      "cell_type": "code",
      "metadata": {
        "colab": {
          "base_uri": "https://localhost:8080/"
        },
        "id": "FXWXG76qpzSB",
        "outputId": "e47360e2-bc8d-4deb-e6ee-847d6f68061f"
      },
      "source": [
        "C=np.array([[1,2,3],[4,5,6],[7,8,9]])\n",
        "print(C)"
      ],
      "execution_count": 7,
      "outputs": [
        {
          "output_type": "stream",
          "text": [
            "[[1 2 3]\n",
            " [4 5 6]\n",
            " [7 8 9]]\n"
          ],
          "name": "stdout"
        }
      ]
    },
    {
      "cell_type": "code",
      "metadata": {
        "colab": {
          "base_uri": "https://localhost:8080/"
        },
        "id": "vq0MGP8rqHh5",
        "outputId": "ce7a08bc-e08c-43c3-d541-829b6f35a61c"
      },
      "source": [
        "print(np.linalg.det(C))"
      ],
      "execution_count": 9,
      "outputs": [
        {
          "output_type": "stream",
          "text": [
            "0.0\n"
          ],
          "name": "stdout"
        }
      ]
    },
    {
      "cell_type": "code",
      "metadata": {
        "colab": {
          "base_uri": "https://localhost:8080/"
        },
        "id": "JnGSc0OCqTvR",
        "outputId": "51d7812f-b7dc-4dd5-8175-592c27327a0a"
      },
      "source": [
        "print(np.linalg.matrix_rank(C))"
      ],
      "execution_count": 11,
      "outputs": [
        {
          "output_type": "stream",
          "text": [
            "2\n"
          ],
          "name": "stdout"
        }
      ]
    }
  ]
}