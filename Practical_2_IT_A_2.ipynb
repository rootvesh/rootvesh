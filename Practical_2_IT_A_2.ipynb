{
  "nbformat": 4,
  "nbformat_minor": 0,
  "metadata": {
    "colab": {
      "name": "Practical-2-IT-A-2.ipynb",
      "provenance": [],
      "authorship_tag": "ABX9TyNACnb9Zc1NTLdfN4u1zCD4",
      "include_colab_link": true
    },
    "kernelspec": {
      "name": "python3",
      "display_name": "Python 3"
    },
    "language_info": {
      "name": "python"
    }
  },
  "cells": [
    {
      "cell_type": "markdown",
      "metadata": {
        "id": "view-in-github",
        "colab_type": "text"
      },
      "source": [
        "<a href=\"https://colab.research.google.com/github/rootvesh/rootvesh/blob/main/Practical_2_IT_A_2.ipynb\" target=\"_parent\"><img src=\"https://colab.research.google.com/assets/colab-badge.svg\" alt=\"Open In Colab\"/></a>"
      ]
    },
    {
      "cell_type": "code",
      "metadata": {
        "id": "Kp070jlUMpsk"
      },
      "source": [
        "Control statements"
      ],
      "execution_count": null,
      "outputs": []
    },
    {
      "cell_type": "code",
      "metadata": {
        "colab": {
          "base_uri": "https://localhost:8080/"
        },
        "id": "00acOoetMvmO",
        "outputId": "76a8a16f-ce57-4700-a55a-a4abc176d9e7"
      },
      "source": [
        "# If the number is positive, we print an appropriate message\n",
        "\n",
        "num = 6\n",
        "if num > 0:\n",
        "    print(num, \"is a positive number.\")\n",
        "num = -1\n",
        "if num > 0:\n",
        "    print(num, \"is a positive number.\")"
      ],
      "execution_count": 6,
      "outputs": [
        {
          "output_type": "stream",
          "text": [
            "6 is a positive number.\n"
          ],
          "name": "stdout"
        }
      ]
    },
    {
      "cell_type": "code",
      "metadata": {
        "colab": {
          "base_uri": "https://localhost:8080/"
        },
        "id": "J0V1iidCNiZu",
        "outputId": "3af49375-33b8-43eb-a50c-93d634f07d79"
      },
      "source": [
        "# Program checks if the number is positive or negative\n",
        "# And displays an appropriate message\n",
        "\n",
        "num =int(input(\" enter the num:\"))\n",
        "\n",
        "# Try these two variations as well. \n",
        "# num = -5\n",
        "# num = 0\n",
        "\n",
        "if num >= 0:\n",
        "    print(\"Positive or Zero\")\n",
        "else:\n",
        "    print(\"Negative number\")"
      ],
      "execution_count": 10,
      "outputs": [
        {
          "output_type": "stream",
          "text": [
            " enter the num:-7\n",
            "Negative number\n"
          ],
          "name": "stdout"
        }
      ]
    },
    {
      "cell_type": "code",
      "metadata": {
        "colab": {
          "base_uri": "https://localhost:8080/"
        },
        "id": "7Br0nY1lOQKI",
        "outputId": "5050abdb-4037-490a-fd65-71489a2eef17"
      },
      "source": [
        "'''In this program, \n",
        "we check if the number is positive or\n",
        "negative or zero and \n",
        "display an appropriate message'''\n",
        "\n",
        "num = float(input(\"enter the num:\"))\n",
        "\n",
        "# Try these two variations as well:\n",
        "# num = 0\n",
        "# num = -4.5\n",
        "\n",
        "if num > 0:\n",
        "    print(\"Positive number\")\n",
        "elif num == 0:\n",
        "    print(\"Zero\")\n",
        "else:\n",
        "    print(\"Negative number\")"
      ],
      "execution_count": 14,
      "outputs": [
        {
          "output_type": "stream",
          "text": [
            "enter the num:-3.4\n",
            "Negative number\n"
          ],
          "name": "stdout"
        }
      ]
    },
    {
      "cell_type": "code",
      "metadata": {
        "colab": {
          "base_uri": "https://localhost:8080/"
        },
        "id": "2j1YCN6NO9HA",
        "outputId": "82130fc0-6c46-488e-8e50-94aa2f26c8b2"
      },
      "source": [
        "'''In this program, we input a number\n",
        "check if the number is positive or\n",
        "negative or zero and display\n",
        "an appropriate message\n",
        "This time we use nested if statement'''\n",
        "\n",
        "num = float(input(\"Enter a number: \"))\n",
        "if num >= 0:\n",
        "    if num == 0:\n",
        "        print(\"Zero\")\n",
        "    else:\n",
        "        print(\"Positive number\")\n",
        "else:\n",
        "    print(\"Negative number\")"
      ],
      "execution_count": 17,
      "outputs": [
        {
          "output_type": "stream",
          "text": [
            "Enter a number: 0\n",
            "Zero\n"
          ],
          "name": "stdout"
        }
      ]
    }
  ]
}