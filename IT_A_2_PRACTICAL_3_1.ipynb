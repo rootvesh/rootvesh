{
  "nbformat": 4,
  "nbformat_minor": 0,
  "metadata": {
    "colab": {
      "name": "IT-A-2-PRACTICAL_3.1.ipynb",
      "provenance": [],
      "collapsed_sections": [],
      "authorship_tag": "ABX9TyOStTEtzPvKta9mEuS6n/vb",
      "include_colab_link": true
    },
    "kernelspec": {
      "name": "python3",
      "display_name": "Python 3"
    },
    "language_info": {
      "name": "python"
    }
  },
  "cells": [
    {
      "cell_type": "markdown",
      "metadata": {
        "id": "view-in-github",
        "colab_type": "text"
      },
      "source": [
        "<a href=\"https://colab.research.google.com/github/rootvesh/rootvesh/blob/main/IT_A_2_PRACTICAL_3_1.ipynb\" target=\"_parent\"><img src=\"https://colab.research.google.com/assets/colab-badge.svg\" alt=\"Open In Colab\"/></a>"
      ]
    },
    {
      "cell_type": "code",
      "metadata": {
        "colab": {
          "base_uri": "https://localhost:8080/"
        },
        "id": "-XMI2yDzFVL-",
        "outputId": "4443aea1-c847-4c0b-84d2-491e870c4127"
      },
      "source": [
        "# Correcting mistake values in a list\n",
        "odd = [2, 4, 6, 8]\n",
        "\n",
        "# change the 2nd  item    \n",
        "odd[1] = 3            \n",
        "\n",
        "print(odd)\n",
        "\n",
        "# change 2nd to 4th items\n",
        "odd[0:4] = [1,3, 5, 7]  \n",
        "\n",
        "print(odd) "
      ],
      "execution_count": 3,
      "outputs": [
        {
          "output_type": "stream",
          "text": [
            "[2, 3, 6, 8]\n",
            "[1, 3, 5, 7]\n"
          ],
          "name": "stdout"
        }
      ]
    },
    {
      "cell_type": "code",
      "metadata": {
        "colab": {
          "base_uri": "https://localhost:8080/"
        },
        "id": "Ut2GU5ruF3Wa",
        "outputId": "2f2423b2-6b30-4cca-d16c-7f5241a42e7d"
      },
      "source": [
        " # Appending and Extending lists in Python\n",
        "odd = [1, 3, 5]\n",
        "\n",
        "odd.append(7)\n",
        "\n",
        "print(odd)\n",
        "\n",
        "odd.extend([9, 11, 13])\n",
        "\n",
        "print(odd)"
      ],
      "execution_count": 4,
      "outputs": [
        {
          "output_type": "stream",
          "text": [
            "[1, 3, 5, 7]\n",
            "[1, 3, 5, 7, 9, 11, 13]\n"
          ],
          "name": "stdout"
        }
      ]
    },
    {
      "cell_type": "code",
      "metadata": {
        "colab": {
          "base_uri": "https://localhost:8080/"
        },
        "id": "w9m30YNaGEr-",
        "outputId": "d28964ee-45f9-4dfc-89ac-9e0ddcf9dd87"
      },
      "source": [
        "even=[2,4,6,8,10]\n",
        "even.append(12)\n",
        "print(even)"
      ],
      "execution_count": 5,
      "outputs": [
        {
          "output_type": "stream",
          "text": [
            "[2, 4, 6, 8, 10, 12]\n"
          ],
          "name": "stdout"
        }
      ]
    },
    {
      "cell_type": "code",
      "metadata": {
        "colab": {
          "base_uri": "https://localhost:8080/"
        },
        "id": "nz7U2wP3GSLv",
        "outputId": "06991cb1-2852-4773-ee67-a788e1ad3d2a"
      },
      "source": [
        "even=[2,4,6,8,10]\n",
        "even.extend([12,14,16,18,20])\n",
        "print(even)"
      ],
      "execution_count": 8,
      "outputs": [
        {
          "output_type": "stream",
          "text": [
            "[2, 4, 6, 8, 10, 12, 14, 16, 18, 20]\n"
          ],
          "name": "stdout"
        }
      ]
    },
    {
      "cell_type": "code",
      "metadata": {
        "colab": {
          "base_uri": "https://localhost:8080/"
        },
        "id": "BCHjb6xKHVfi",
        "outputId": "e720c693-c259-440d-f8b9-a6672963525e"
      },
      "source": [
        "# Deleting list items\n",
        "my_list = ['p', 'r', 'o', 'b', 'l', 'e', 'm']\n",
        "\n",
        "# delete one item\n",
        "del my_list[1]\n",
        "\n",
        "print(my_list)\n",
        "\n",
        "# delete multiple items\n",
        "del my_list[1:3]\n",
        "\n",
        "print(my_list)\n",
        "\n",
        "# delete entire list\n",
        "del my_list"
      ],
      "execution_count": 13,
      "outputs": [
        {
          "output_type": "stream",
          "text": [
            "['p', 'o', 'b', 'l', 'e', 'm']\n",
            "['p', 'l', 'e', 'm']\n"
          ],
          "name": "stdout"
        }
      ]
    },
    {
      "cell_type": "code",
      "metadata": {
        "colab": {
          "base_uri": "https://localhost:8080/"
        },
        "id": "9eYebm1dIQM3",
        "outputId": "8b6e84f4-14a4-4208-dc5e-46ef13d9fe21"
      },
      "source": [
        "my_list = ['p','r','o','b','l','e','m']\n",
        "my_list.remove('p')\n",
        "\n",
        "# Output: ['r', 'o', 'b', 'l', 'e', 'm']\n",
        "print(my_list)\n",
        "\n",
        "# Output: 'l'\n",
        "print(my_list.pop(3))\n",
        "\n",
        "# Output: ['r', 'b', 'l', 'e', 'm']\n",
        "print(my_list)\n",
        "\n",
        "# Output: 'm'\n",
        "print(my_list.pop())\n",
        "\n",
        "# Output: ['r', 'b', 'l', 'e']\n",
        "print(my_list)\n",
        "\n",
        "my_list.clear()\n",
        "\n",
        "# Output: []\n",
        "print(my_list)"
      ],
      "execution_count": 15,
      "outputs": [
        {
          "output_type": "stream",
          "text": [
            "['r', 'o', 'b', 'l', 'e', 'm']\n",
            "l\n",
            "['r', 'o', 'b', 'e', 'm']\n",
            "m\n",
            "['r', 'o', 'b', 'e']\n",
            "[]\n"
          ],
          "name": "stdout"
        }
      ]
    },
    {
      "cell_type": "code",
      "metadata": {
        "colab": {
          "base_uri": "https://localhost:8080/"
        },
        "id": "7JZPZ_YpI3Dm",
        "outputId": "8c72503f-aff7-4456-8096-149513a36d9f"
      },
      "source": [
        "# Python list methods\n",
        "my_list = [3, 8, 8, 8, 0, 9, 4]\n",
        "\n",
        "\n",
        "print(my_list.index(9))\n",
        "\n",
        "print(my_list.count(8))\n",
        "\n",
        "my_list.sort()\n",
        "\n",
        "print(my_list)\n",
        "\n",
        "my_list.reverse()\n",
        "\n",
        "print(my_list)"
      ],
      "execution_count": 21,
      "outputs": [
        {
          "output_type": "stream",
          "text": [
            "5\n",
            "3\n",
            "[0, 3, 4, 8, 8, 8, 9]\n",
            "[9, 8, 8, 8, 4, 3, 0]\n"
          ],
          "name": "stdout"
        }
      ]
    },
    {
      "cell_type": "code",
      "metadata": {
        "colab": {
          "base_uri": "https://localhost:8080/"
        },
        "id": "ltLwpBEWK0rL",
        "outputId": "074e7fb8-9b8c-4d54-9745-f74125a09d6d"
      },
      "source": [
        "for fruit in ['apple','banana','mango',\"orange\"]:\n",
        "    print(\"I like\",fruit)"
      ],
      "execution_count": 22,
      "outputs": [
        {
          "output_type": "stream",
          "text": [
            "I like apple\n",
            "I like banana\n",
            "I like mango\n",
            "I like orange\n"
          ],
          "name": "stdout"
        }
      ]
    },
    {
      "cell_type": "code",
      "metadata": {
        "colab": {
          "base_uri": "https://localhost:8080/"
        },
        "id": "crQ92cYDMRRs",
        "outputId": "e8ba227d-9692-49bf-ce07-6cd0dd1b3cd3"
      },
      "source": [
        "# Accessing tuple elements using indexing\n",
        "my_tuple = ('p','e','r','m','i','t')\n",
        "\n",
        "print(my_tuple[1])   # 'e' \n",
        "print(my_tuple[4])   # 'i'\n",
        "\n",
        "\n",
        "\n",
        "# nested tuple\n",
        "n_tuple = (\"mouse\", [8, 4, 6], (1, 2, 3))\n",
        "\n",
        "# nested index\n",
        "print(n_tuple[0][2])       # 'u'\n",
        "print(n_tuple[1][2])       # 6\n",
        "print(n_tuple[2][2])"
      ],
      "execution_count": 23,
      "outputs": [
        {
          "output_type": "stream",
          "text": [
            "e\n",
            "i\n",
            "u\n",
            "6\n",
            "3\n"
          ],
          "name": "stdout"
        }
      ]
    },
    {
      "cell_type": "code",
      "metadata": {
        "colab": {
          "base_uri": "https://localhost:8080/"
        },
        "id": "7_wo2_OENdSm",
        "outputId": "82176583-aa8d-4c2f-df91-2af54c7b1959"
      },
      "source": [
        "# Accessing tuple elements using slicing\n",
        "my_tuple = ('p','r','o','g','r','a','m','i','z')\n",
        "\n",
        "# elements 2nd to 4th\n",
        "# Output: ('r', 'o', 'g')\n",
        "print(my_tuple[1:4])\n",
        "\n",
        "# elements beginning to 2nd\n",
        "# Output: ('p', 'r')\n",
        "print(my_tuple[:-7])\n",
        "\n",
        "# elements 8th to end\n",
        "# Output: ('i', 'z')\n",
        "print(my_tuple[7:])\n",
        "\n",
        "# elements beginning to end\n",
        "# Output: ('p', 'r', 'o', 'g', 'r', 'a', 'm', 'i', 'z')\n",
        "print(my_tuple[:])"
      ],
      "execution_count": 24,
      "outputs": [
        {
          "output_type": "stream",
          "text": [
            "('r', 'o', 'g')\n",
            "('p', 'r')\n",
            "('i', 'z')\n",
            "('p', 'r', 'o', 'g', 'r', 'a', 'm', 'i', 'z')\n"
          ],
          "name": "stdout"
        }
      ]
    },
    {
      "cell_type": "code",
      "metadata": {
        "colab": {
          "base_uri": "https://localhost:8080/"
        },
        "id": "6sbW4da0OFOs",
        "outputId": "c7c8d091-674c-476a-fc55-1ae8b971c12f"
      },
      "source": [
        "my_tuple = ('a', 'p', 'p', 'p', 'e',)\n",
        "\n",
        "print(my_tuple.count('p'))  # Output: 2\n",
        "print(my_tuple.index('e'))  # Output: 3"
      ],
      "execution_count": 27,
      "outputs": [
        {
          "output_type": "stream",
          "text": [
            "3\n",
            "4\n"
          ],
          "name": "stdout"
        }
      ]
    },
    {
      "cell_type": "code",
      "metadata": {
        "colab": {
          "base_uri": "https://localhost:8080/"
        },
        "id": "BMwiKKRKO1UT",
        "outputId": "5e4d2846-7af1-4d91-d58f-4b515211988c"
      },
      "source": [
        " #Using a for loop to iterate through a tuple\n",
        "for name in ('John', 'Kate',\"aditya\"):\n",
        "    print(\"Hello\", name)"
      ],
      "execution_count": 29,
      "outputs": [
        {
          "output_type": "stream",
          "text": [
            "Hello John\n",
            "Hello Kate\n",
            "Hello aditya\n"
          ],
          "name": "stdout"
        }
      ]
    },
    {
      "cell_type": "code",
      "metadata": {
        "colab": {
          "base_uri": "https://localhost:8080/"
        },
        "id": "Sw9hHthIPAFW",
        "outputId": "b475a3be-7220-4920-e5b4-3f75dc53d79a"
      },
      "source": [
        "# Program to find the sum of all numbers stored in a list\n",
        "\n",
        "# List of numbers\n",
        "numbers = [6, 9, 3, 8, 4, 2, 5, 4, 11]\n",
        "\n",
        "# variable to store the sum\n",
        "sum = 0\n",
        "\n",
        "# iterate over the list\n",
        "for val in numbers:\n",
        "    sum = sum+val\n",
        "\n",
        "print(\"The sum is\", sum)"
      ],
      "execution_count": 31,
      "outputs": [
        {
          "output_type": "stream",
          "text": [
            "The sum is 52\n"
          ],
          "name": "stdout"
        }
      ]
    },
    {
      "cell_type": "code",
      "metadata": {
        "colab": {
          "base_uri": "https://localhost:8080/"
        },
        "id": "X8MOhy_7QUl0",
        "outputId": "c1cb2554-70e3-49f8-f485-858285fe8d0a"
      },
      "source": [
        "# Program to find the multiplication of all numbers stored in a list\n",
        "\n",
        "# List of numbers\n",
        "numbers = [6, 9, 1, 8, 4, 2, 5, 4, 1]\n",
        "\n",
        "# variable to store the sum\n",
        "mul = 1\n",
        "\n",
        "# iterate over the list\n",
        "for val in numbers:\n",
        "    mul = mul*val\n",
        "\n",
        "print(\"The multiplication is\", mul)"
      ],
      "execution_count": 33,
      "outputs": [
        {
          "output_type": "stream",
          "text": [
            "The multiplication is 69120\n"
          ],
          "name": "stdout"
        }
      ]
    },
    {
      "cell_type": "code",
      "metadata": {
        "colab": {
          "base_uri": "https://localhost:8080/"
        },
        "id": "DQzJIg4iR8Xx",
        "outputId": "a1981a26-539b-4bcd-af68-cbe08ce7c6fe"
      },
      "source": [
        "# program to display student's marks from record\n",
        "student_name = 'Ram'\n",
        "\n",
        "marks = {'James': 90, 'Jules': 55, 'Arthur': 77}\n",
        "\n",
        "for student in marks:\n",
        "    if student == student_name:\n",
        "        print(marks[student])\n",
        "        break\n",
        "else:\n",
        "    print('No entry with that name found.')"
      ],
      "execution_count": 36,
      "outputs": [
        {
          "output_type": "stream",
          "text": [
            "No entry with that name found.\n"
          ],
          "name": "stdout"
        }
      ]
    },
    {
      "cell_type": "code",
      "metadata": {
        "colab": {
          "base_uri": "https://localhost:8080/"
        },
        "id": "kPhoj_NkS3YC",
        "outputId": "eccc69f3-d87b-450e-ab7f-5668e9f7dd13"
      },
      "source": [
        "#Example: Python while Loop\n",
        "# Program to add natural\n",
        "# numbers up to \n",
        "# sum = 1+2+3+...+n\n",
        "\n",
        "# To take input from the user,\n",
        "n = int(input(\"Enter the number  n: \"))\n",
        "# initialize sum and counter\n",
        "sum = 0\n",
        "i = 1\n",
        "\n",
        "while i <= n:\n",
        "    sum = sum + i\n",
        "    i = i+1    # update counter\n",
        "\n",
        "# print the sum\n",
        "print(\"The sum is\", sum)"
      ],
      "execution_count": 37,
      "outputs": [
        {
          "output_type": "stream",
          "text": [
            "Enter n: 25\n",
            "The sum is 325\n"
          ],
          "name": "stdout"
        }
      ]
    },
    {
      "cell_type": "code",
      "metadata": {
        "colab": {
          "base_uri": "https://localhost:8080/"
        },
        "id": "nrv7TcuyTQCe",
        "outputId": "24fd0225-46cf-4383-8482-7c894528ac13"
      },
      "source": [
        "#Example: Python while Loop\n",
        "# Program to multiply natural\n",
        "# numbers up to \n",
        "# mult= 1*2*3*...*n\n",
        "\n",
        "# To take input from the user,\n",
        "n = int(input(\"Enter the number  n: \"))\n",
        "# initialize sum and counter\n",
        "mult = 1\n",
        "i = 1\n",
        "\n",
        "while i <= n:\n",
        "    mult = mult*i\n",
        "    i = i+1    # update counter\n",
        "\n",
        "# print the mult\n",
        "print(\"The multiplication is\", mult)"
      ],
      "execution_count": 39,
      "outputs": [
        {
          "output_type": "stream",
          "text": [
            "Enter the number  n: 5\n",
            "The multiplication is 120\n"
          ],
          "name": "stdout"
        }
      ]
    },
    {
      "cell_type": "code",
      "metadata": {
        "id": "_ongfx6IUnVU"
      },
      "source": [
        "import math"
      ],
      "execution_count": 41,
      "outputs": []
    },
    {
      "cell_type": "code",
      "metadata": {
        "colab": {
          "base_uri": "https://localhost:8080/"
        },
        "id": "-JSDVQxlUxbi",
        "outputId": "254032cb-d865-4eb6-b77b-db66b2b642e3"
      },
      "source": [
        "print(math.pi)"
      ],
      "execution_count": 42,
      "outputs": [
        {
          "output_type": "stream",
          "text": [
            "3.141592653589793\n"
          ],
          "name": "stdout"
        }
      ]
    },
    {
      "cell_type": "code",
      "metadata": {
        "colab": {
          "base_uri": "https://localhost:8080/"
        },
        "id": "LryWl9YwU0ft",
        "outputId": "5d0a8cdd-7e0e-48c8-d98d-ac0aa62fa32c"
      },
      "source": [
        "print(math.e)"
      ],
      "execution_count": 43,
      "outputs": [
        {
          "output_type": "stream",
          "text": [
            "2.718281828459045\n"
          ],
          "name": "stdout"
        }
      ]
    },
    {
      "cell_type": "code",
      "metadata": {
        "colab": {
          "base_uri": "https://localhost:8080/"
        },
        "id": "GaERAoBsU6Md",
        "outputId": "0715d833-6f37-4bff-f3e0-539bacc0ad86"
      },
      "source": [
        "x=9\n",
        "print(math.sqrt(x))"
      ],
      "execution_count": 45,
      "outputs": [
        {
          "output_type": "stream",
          "text": [
            "3.0\n"
          ],
          "name": "stdout"
        }
      ]
    }
  ]
}