{
  "nbformat": 4,
  "nbformat_minor": 0,
  "metadata": {
    "colab": {
      "name": "Practical-3-CS-B-B2.ipynb",
      "provenance": [],
      "collapsed_sections": [],
      "authorship_tag": "ABX9TyMFdRseiKsFCNsVDSysNm7g",
      "include_colab_link": true
    },
    "kernelspec": {
      "name": "python3",
      "display_name": "Python 3"
    },
    "language_info": {
      "name": "python"
    }
  },
  "cells": [
    {
      "cell_type": "markdown",
      "metadata": {
        "id": "view-in-github",
        "colab_type": "text"
      },
      "source": [
        "<a href=\"https://colab.research.google.com/github/rootvesh/rootvesh/blob/main/Practical_3_CS_B_B2.ipynb\" target=\"_parent\"><img src=\"https://colab.research.google.com/assets/colab-badge.svg\" alt=\"Open In Colab\"/></a>"
      ]
    },
    {
      "cell_type": "code",
      "metadata": {
        "id": "pg-Q-tOKTfJN"
      },
      "source": [
        "Example: Python for Loop"
      ],
      "execution_count": null,
      "outputs": []
    },
    {
      "cell_type": "code",
      "metadata": {
        "colab": {
          "base_uri": "https://localhost:8080/"
        },
        "id": "lKoBywCvU9Mm",
        "outputId": "d70dc4f9-391f-488b-f7c5-2239c4f611f8"
      },
      "source": [
        "# Program to find the sum of all numbers stored in a list\n",
        "\n",
        "# List of numbers\n",
        "numbers = [6, 5, 3, 8, 4, 2, 5, 4, 11]\n",
        "\n",
        "# variable to store the sum\n",
        "sum = 0\n",
        "\n",
        "# iterate over the list\n",
        "for val in numbers:\n",
        "    sum = sum+val\n",
        "\n",
        "print(\"The sum is\", sum)"
      ],
      "execution_count": 1,
      "outputs": [
        {
          "output_type": "stream",
          "text": [
            "The sum is 48\n"
          ],
          "name": "stdout"
        }
      ]
    },
    {
      "cell_type": "code",
      "metadata": {
        "colab": {
          "base_uri": "https://localhost:8080/"
        },
        "id": "c_rOeornVLrR",
        "outputId": "011e32af-7f01-492f-e535-cff2e52f1030"
      },
      "source": [
        "# Program to find the sum of all numbers stored in a list\n",
        "\n",
        "# List of numbers\n",
        "numbers = [6, 5, 5, 8, 4, 2, 5, 4, 11]\n",
        "\n",
        "# variable to store the sum\n",
        "mul= 1\n",
        "\n",
        "# iterate over the list\n",
        "for val in numbers:\n",
        "    mul= mul*val\n",
        "\n",
        "print(\"The multiplication is\", mul)"
      ],
      "execution_count": 4,
      "outputs": [
        {
          "output_type": "stream",
          "text": [
            "The multiplication is 2112000\n"
          ],
          "name": "stdout"
        }
      ]
    },
    {
      "cell_type": "code",
      "metadata": {
        "colab": {
          "base_uri": "https://localhost:8080/"
        },
        "id": "CgwkUnx4WNYr",
        "outputId": "a6c7e99d-f067-4246-cfa9-cdab49676fe2"
      },
      "source": [
        "print(range(10))\n",
        "\n",
        "print(list(range(10)))\n",
        "\n",
        "print(list(range(2, 8)))\n",
        "\n",
        "print(list(range(2, 20, 3)))"
      ],
      "execution_count": 5,
      "outputs": [
        {
          "output_type": "stream",
          "text": [
            "range(0, 10)\n",
            "[0, 1, 2, 3, 4, 5, 6, 7, 8, 9]\n",
            "[2, 3, 4, 5, 6, 7]\n",
            "[2, 5, 8, 11, 14, 17]\n"
          ],
          "name": "stdout"
        }
      ]
    },
    {
      "cell_type": "code",
      "metadata": {
        "colab": {
          "base_uri": "https://localhost:8080/"
        },
        "id": "fS0Ow6ztXOEL",
        "outputId": "ea851a03-1906-4c2e-843a-f887866a224b"
      },
      "source": [
        "# program to display student's marks from record\n",
        "student_name = 'Soyuj'\n",
        "\n",
        "marks = {'James': 90, 'Jules': 55, 'Arthur': 77}\n",
        "\n",
        "for student in marks:\n",
        "    if student == student_name:\n",
        "        print(marks[student])\n",
        "        break\n",
        "else:\n",
        "    print('No entry with that name found.')"
      ],
      "execution_count": 6,
      "outputs": [
        {
          "output_type": "stream",
          "text": [
            "No entry with that name found.\n"
          ],
          "name": "stdout"
        }
      ]
    },
    {
      "cell_type": "code",
      "metadata": {
        "colab": {
          "base_uri": "https://localhost:8080/"
        },
        "id": "Kgp7hWODXQMx",
        "outputId": "ee0a0e03-5325-4072-cf82-56c5d49f085e"
      },
      "source": [
        "# program to display student's marks from record\n",
        "student_name = 'James'\n",
        "\n",
        "marks = {'James': 90, 'Jules': 55, 'Arthur': 77}\n",
        "\n",
        "for student in marks:\n",
        "    if student == student_name:\n",
        "        print(marks[student])\n",
        "        break\n",
        "else:\n",
        "    print('No entry with that name found.')"
      ],
      "execution_count": 7,
      "outputs": [
        {
          "output_type": "stream",
          "text": [
            "90\n"
          ],
          "name": "stdout"
        }
      ]
    },
    {
      "cell_type": "code",
      "metadata": {
        "id": "e0EODJ02Xm8i"
      },
      "source": [
        "Example: Python while Loop"
      ],
      "execution_count": null,
      "outputs": []
    },
    {
      "cell_type": "code",
      "metadata": {
        "colab": {
          "base_uri": "https://localhost:8080/"
        },
        "id": "VM3FACs2Yhcr",
        "outputId": "e4b41318-b03e-44ff-fa6a-6497ad91908c"
      },
      "source": [
        "# Program to add natural\n",
        "# numbers up to \n",
        "# sum = 1+2+3+...+n\n",
        "\n",
        "# To take input from the user,\n",
        "# n = int(input(\"Enter n: \"))\n",
        "\n",
        "n = int(input(\"Enter n: \"))\n",
        "\n",
        "\n",
        "# initialize sum and counter\n",
        "sum = 0\n",
        "i = 1\n",
        "\n",
        "while i <= n:\n",
        "    sum = sum + i\n",
        "    i = i+1    # update counter\n",
        "\n",
        "# print the sum\n",
        "print(\"The sum is\", sum)"
      ],
      "execution_count": 9,
      "outputs": [
        {
          "output_type": "stream",
          "text": [
            "Enter n: 99\n",
            "The sum is 4950\n"
          ],
          "name": "stdout"
        }
      ]
    },
    {
      "cell_type": "code",
      "metadata": {
        "id": "i4kccNTPaEwt"
      },
      "source": [
        "While loop with else"
      ],
      "execution_count": null,
      "outputs": []
    },
    {
      "cell_type": "code",
      "metadata": {
        "colab": {
          "base_uri": "https://localhost:8080/"
        },
        "id": "Dt_tr9zVaGjX",
        "outputId": "c75d7de3-daa3-4584-8478-d46d2e15d24d"
      },
      "source": [
        "'''Example to illustrate\n",
        "the use of else statement\n",
        "with the while loop'''\n",
        "\n",
        "counter = 0\n",
        "\n",
        "while counter < 3:\n",
        "    print(\"Inside loop\")\n",
        "    counter = counter + 1\n",
        "else:\n",
        "    print(\"Inside else\")"
      ],
      "execution_count": 12,
      "outputs": [
        {
          "output_type": "stream",
          "text": [
            "Inside loop\n",
            "Inside loop\n",
            "Inside loop\n",
            "Inside else\n"
          ],
          "name": "stdout"
        }
      ]
    },
    {
      "cell_type": "code",
      "metadata": {
        "colab": {
          "base_uri": "https://localhost:8080/"
        },
        "id": "S7XWP8zvax1j",
        "outputId": "d79b7cae-2693-4ccf-950c-afea66f7ed53"
      },
      "source": [
        "# Python program to display all the prime numbers within an interval\n",
        "\n",
        "lower = 1000\n",
        "upper = 5000\n",
        "\n",
        "print(\"Prime numbers between\", lower, \"and\", upper, \"are:\")\n",
        "\n",
        "for num in range(lower, upper + 1):\n",
        "   # all prime numbers are greater than 1\n",
        "   if num > 1:\n",
        "       for i in range(2, num):\n",
        "           if (num % i) == 0:\n",
        "               break\n",
        "       else:\n",
        "           print(num)"
      ],
      "execution_count": 14,
      "outputs": [
        {
          "output_type": "stream",
          "text": [
            "Prime numbers between 1000 and 5000 are:\n",
            "1009\n",
            "1013\n",
            "1019\n",
            "1021\n",
            "1031\n",
            "1033\n",
            "1039\n",
            "1049\n",
            "1051\n",
            "1061\n",
            "1063\n",
            "1069\n",
            "1087\n",
            "1091\n",
            "1093\n",
            "1097\n",
            "1103\n",
            "1109\n",
            "1117\n",
            "1123\n",
            "1129\n",
            "1151\n",
            "1153\n",
            "1163\n",
            "1171\n",
            "1181\n",
            "1187\n",
            "1193\n",
            "1201\n",
            "1213\n",
            "1217\n",
            "1223\n",
            "1229\n",
            "1231\n",
            "1237\n",
            "1249\n",
            "1259\n",
            "1277\n",
            "1279\n",
            "1283\n",
            "1289\n",
            "1291\n",
            "1297\n",
            "1301\n",
            "1303\n",
            "1307\n",
            "1319\n",
            "1321\n",
            "1327\n",
            "1361\n",
            "1367\n",
            "1373\n",
            "1381\n",
            "1399\n",
            "1409\n",
            "1423\n",
            "1427\n",
            "1429\n",
            "1433\n",
            "1439\n",
            "1447\n",
            "1451\n",
            "1453\n",
            "1459\n",
            "1471\n",
            "1481\n",
            "1483\n",
            "1487\n",
            "1489\n",
            "1493\n",
            "1499\n",
            "1511\n",
            "1523\n",
            "1531\n",
            "1543\n",
            "1549\n",
            "1553\n",
            "1559\n",
            "1567\n",
            "1571\n",
            "1579\n",
            "1583\n",
            "1597\n",
            "1601\n",
            "1607\n",
            "1609\n",
            "1613\n",
            "1619\n",
            "1621\n",
            "1627\n",
            "1637\n",
            "1657\n",
            "1663\n",
            "1667\n",
            "1669\n",
            "1693\n",
            "1697\n",
            "1699\n",
            "1709\n",
            "1721\n",
            "1723\n",
            "1733\n",
            "1741\n",
            "1747\n",
            "1753\n",
            "1759\n",
            "1777\n",
            "1783\n",
            "1787\n",
            "1789\n",
            "1801\n",
            "1811\n",
            "1823\n",
            "1831\n",
            "1847\n",
            "1861\n",
            "1867\n",
            "1871\n",
            "1873\n",
            "1877\n",
            "1879\n",
            "1889\n",
            "1901\n",
            "1907\n",
            "1913\n",
            "1931\n",
            "1933\n",
            "1949\n",
            "1951\n",
            "1973\n",
            "1979\n",
            "1987\n",
            "1993\n",
            "1997\n",
            "1999\n",
            "2003\n",
            "2011\n",
            "2017\n",
            "2027\n",
            "2029\n",
            "2039\n",
            "2053\n",
            "2063\n",
            "2069\n",
            "2081\n",
            "2083\n",
            "2087\n",
            "2089\n",
            "2099\n",
            "2111\n",
            "2113\n",
            "2129\n",
            "2131\n",
            "2137\n",
            "2141\n",
            "2143\n",
            "2153\n",
            "2161\n",
            "2179\n",
            "2203\n",
            "2207\n",
            "2213\n",
            "2221\n",
            "2237\n",
            "2239\n",
            "2243\n",
            "2251\n",
            "2267\n",
            "2269\n",
            "2273\n",
            "2281\n",
            "2287\n",
            "2293\n",
            "2297\n",
            "2309\n",
            "2311\n",
            "2333\n",
            "2339\n",
            "2341\n",
            "2347\n",
            "2351\n",
            "2357\n",
            "2371\n",
            "2377\n",
            "2381\n",
            "2383\n",
            "2389\n",
            "2393\n",
            "2399\n",
            "2411\n",
            "2417\n",
            "2423\n",
            "2437\n",
            "2441\n",
            "2447\n",
            "2459\n",
            "2467\n",
            "2473\n",
            "2477\n",
            "2503\n",
            "2521\n",
            "2531\n",
            "2539\n",
            "2543\n",
            "2549\n",
            "2551\n",
            "2557\n",
            "2579\n",
            "2591\n",
            "2593\n",
            "2609\n",
            "2617\n",
            "2621\n",
            "2633\n",
            "2647\n",
            "2657\n",
            "2659\n",
            "2663\n",
            "2671\n",
            "2677\n",
            "2683\n",
            "2687\n",
            "2689\n",
            "2693\n",
            "2699\n",
            "2707\n",
            "2711\n",
            "2713\n",
            "2719\n",
            "2729\n",
            "2731\n",
            "2741\n",
            "2749\n",
            "2753\n",
            "2767\n",
            "2777\n",
            "2789\n",
            "2791\n",
            "2797\n",
            "2801\n",
            "2803\n",
            "2819\n",
            "2833\n",
            "2837\n",
            "2843\n",
            "2851\n",
            "2857\n",
            "2861\n",
            "2879\n",
            "2887\n",
            "2897\n",
            "2903\n",
            "2909\n",
            "2917\n",
            "2927\n",
            "2939\n",
            "2953\n",
            "2957\n",
            "2963\n",
            "2969\n",
            "2971\n",
            "2999\n",
            "3001\n",
            "3011\n",
            "3019\n",
            "3023\n",
            "3037\n",
            "3041\n",
            "3049\n",
            "3061\n",
            "3067\n",
            "3079\n",
            "3083\n",
            "3089\n",
            "3109\n",
            "3119\n",
            "3121\n",
            "3137\n",
            "3163\n",
            "3167\n",
            "3169\n",
            "3181\n",
            "3187\n",
            "3191\n",
            "3203\n",
            "3209\n",
            "3217\n",
            "3221\n",
            "3229\n",
            "3251\n",
            "3253\n",
            "3257\n",
            "3259\n",
            "3271\n",
            "3299\n",
            "3301\n",
            "3307\n",
            "3313\n",
            "3319\n",
            "3323\n",
            "3329\n",
            "3331\n",
            "3343\n",
            "3347\n",
            "3359\n",
            "3361\n",
            "3371\n",
            "3373\n",
            "3389\n",
            "3391\n",
            "3407\n",
            "3413\n",
            "3433\n",
            "3449\n",
            "3457\n",
            "3461\n",
            "3463\n",
            "3467\n",
            "3469\n",
            "3491\n",
            "3499\n",
            "3511\n",
            "3517\n",
            "3527\n",
            "3529\n",
            "3533\n",
            "3539\n",
            "3541\n",
            "3547\n",
            "3557\n",
            "3559\n",
            "3571\n",
            "3581\n",
            "3583\n",
            "3593\n",
            "3607\n",
            "3613\n",
            "3617\n",
            "3623\n",
            "3631\n",
            "3637\n",
            "3643\n",
            "3659\n",
            "3671\n",
            "3673\n",
            "3677\n",
            "3691\n",
            "3697\n",
            "3701\n",
            "3709\n",
            "3719\n",
            "3727\n",
            "3733\n",
            "3739\n",
            "3761\n",
            "3767\n",
            "3769\n",
            "3779\n",
            "3793\n",
            "3797\n",
            "3803\n",
            "3821\n",
            "3823\n",
            "3833\n",
            "3847\n",
            "3851\n",
            "3853\n",
            "3863\n",
            "3877\n",
            "3881\n",
            "3889\n",
            "3907\n",
            "3911\n",
            "3917\n",
            "3919\n",
            "3923\n",
            "3929\n",
            "3931\n",
            "3943\n",
            "3947\n",
            "3967\n",
            "3989\n",
            "4001\n",
            "4003\n",
            "4007\n",
            "4013\n",
            "4019\n",
            "4021\n",
            "4027\n",
            "4049\n",
            "4051\n",
            "4057\n",
            "4073\n",
            "4079\n",
            "4091\n",
            "4093\n",
            "4099\n",
            "4111\n",
            "4127\n",
            "4129\n",
            "4133\n",
            "4139\n",
            "4153\n",
            "4157\n",
            "4159\n",
            "4177\n",
            "4201\n",
            "4211\n",
            "4217\n",
            "4219\n",
            "4229\n",
            "4231\n",
            "4241\n",
            "4243\n",
            "4253\n",
            "4259\n",
            "4261\n",
            "4271\n",
            "4273\n",
            "4283\n",
            "4289\n",
            "4297\n",
            "4327\n",
            "4337\n",
            "4339\n",
            "4349\n",
            "4357\n",
            "4363\n",
            "4373\n",
            "4391\n",
            "4397\n",
            "4409\n",
            "4421\n",
            "4423\n",
            "4441\n",
            "4447\n",
            "4451\n",
            "4457\n",
            "4463\n",
            "4481\n",
            "4483\n",
            "4493\n",
            "4507\n",
            "4513\n",
            "4517\n",
            "4519\n",
            "4523\n",
            "4547\n",
            "4549\n",
            "4561\n",
            "4567\n",
            "4583\n",
            "4591\n",
            "4597\n",
            "4603\n",
            "4621\n",
            "4637\n",
            "4639\n",
            "4643\n",
            "4649\n",
            "4651\n",
            "4657\n",
            "4663\n",
            "4673\n",
            "4679\n",
            "4691\n",
            "4703\n",
            "4721\n",
            "4723\n",
            "4729\n",
            "4733\n",
            "4751\n",
            "4759\n",
            "4783\n",
            "4787\n",
            "4789\n",
            "4793\n",
            "4799\n",
            "4801\n",
            "4813\n",
            "4817\n",
            "4831\n",
            "4861\n",
            "4871\n",
            "4877\n",
            "4889\n",
            "4903\n",
            "4909\n",
            "4919\n",
            "4931\n",
            "4933\n",
            "4937\n",
            "4943\n",
            "4951\n",
            "4957\n",
            "4967\n",
            "4969\n",
            "4973\n",
            "4987\n",
            "4993\n",
            "4999\n"
          ],
          "name": "stdout"
        }
      ]
    },
    {
      "cell_type": "code",
      "metadata": {
        "colab": {
          "base_uri": "https://localhost:8080/"
        },
        "id": "YTCLXzShdhJr",
        "outputId": "2258636d-42b1-4dd8-83d1-5f86221c7c12"
      },
      "source": [
        " # List slicing in Python\n",
        "\n",
        "my_list = ['p','r','o','g','r','a','m','i','z']\n",
        "# elements beginning to end\n",
        "print(my_list[:])"
      ],
      "execution_count": 16,
      "outputs": [
        {
          "output_type": "stream",
          "text": [
            "['p', 'r', 'o', 'g', 'r', 'a', 'm', 'i', 'z']\n"
          ],
          "name": "stdout"
        }
      ]
    },
    {
      "cell_type": "code",
      "metadata": {
        "id": "AXqR7WhZeXii"
      },
      "source": [
        "# Different types of tuples"
      ],
      "execution_count": null,
      "outputs": []
    },
    {
      "cell_type": "code",
      "metadata": {
        "colab": {
          "base_uri": "https://localhost:8080/"
        },
        "id": "eGuANEaieZuC",
        "outputId": "f2fa1745-df4a-44c8-9428-6456e6164703"
      },
      "source": [
        "# Empty tuple\n",
        "my_tuple = ()\n",
        "print(my_tuple)\n",
        "\n",
        "# Tuple having integers\n",
        "my_tuple = (1, 2, 3)\n",
        "print(my_tuple)\n",
        "\n",
        "# tuple with mixed datatypes\n",
        "my_tuple = (1, \"Hello\", 3.4)\n",
        "print(my_tuple)\n",
        "\n",
        "# nested tuple\n",
        "my_tuple = (\"mouse\", [8, 4, 6], (1, 2, 3))\n",
        "print(my_tuple)"
      ],
      "execution_count": 17,
      "outputs": [
        {
          "output_type": "stream",
          "text": [
            "()\n",
            "(1, 2, 3)\n",
            "(1, 'Hello', 3.4)\n",
            "('mouse', [8, 4, 6], (1, 2, 3))\n"
          ],
          "name": "stdout"
        }
      ]
    },
    {
      "cell_type": "code",
      "metadata": {
        "colab": {
          "base_uri": "https://localhost:8080/"
        },
        "id": "h0JIQEHFe-zb",
        "outputId": "26ce5e39-3ea9-44bd-d190-bf1d86702e94"
      },
      "source": [
        "my_tuple = 3, 4.6, \"dog\"\n",
        "print(my_tuple)\n",
        "\n",
        "# tuple unpacking is also possible\n",
        "a, b, c = my_tuple\n",
        "\n",
        "print(a)      # 3\n",
        "print(b)      # 4.6\n",
        "print(c)      # dog"
      ],
      "execution_count": 18,
      "outputs": [
        {
          "output_type": "stream",
          "text": [
            "(3, 4.6, 'dog')\n",
            "3\n",
            "4.6\n",
            "dog\n"
          ],
          "name": "stdout"
        }
      ]
    },
    {
      "cell_type": "code",
      "metadata": {
        "colab": {
          "base_uri": "https://localhost:8080/"
        },
        "id": "3Uco9-h3fEcd",
        "outputId": "0db02f75-28e8-47ee-8263-c3c1e98ce26f"
      },
      "source": [
        "my_tuple = (\"hello\")\n",
        "print(type(my_tuple))  # <class 'str'>\n",
        "\n",
        "# Creating a tuple having one element\n",
        "my_tuple = (\"hello\",)\n",
        "print(type(my_tuple))  # <class 'tuple'>\n",
        "\n",
        "# Parentheses is optional\n",
        "my_tuple = \"hello\",\n",
        "print(type(my_tuple))  # <class 'tuple'>"
      ],
      "execution_count": 19,
      "outputs": [
        {
          "output_type": "stream",
          "text": [
            "<class 'str'>\n",
            "<class 'tuple'>\n",
            "<class 'tuple'>\n"
          ],
          "name": "stdout"
        }
      ]
    },
    {
      "cell_type": "code",
      "metadata": {
        "colab": {
          "base_uri": "https://localhost:8080/"
        },
        "id": "TPc88hgoh-uy",
        "outputId": "724ef48c-efb2-47ac-e849-4a26b29529d0"
      },
      "source": [
        "import math\n",
        "print(math.pi)"
      ],
      "execution_count": 20,
      "outputs": [
        {
          "output_type": "stream",
          "text": [
            "3.141592653589793\n"
          ],
          "name": "stdout"
        }
      ]
    },
    {
      "cell_type": "code",
      "metadata": {
        "colab": {
          "base_uri": "https://localhost:8080/"
        },
        "id": "UNpMFadgig3T",
        "outputId": "1a96a974-4cda-435c-bdab-9b558ed56b00"
      },
      "source": [
        "exp=2.73\n",
        "print(exp)"
      ],
      "execution_count": 25,
      "outputs": [
        {
          "output_type": "stream",
          "text": [
            "2.73\n"
          ],
          "name": "stdout"
        }
      ]
    }
  ]
}