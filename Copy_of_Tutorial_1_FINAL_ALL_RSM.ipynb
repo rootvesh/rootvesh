{
  "nbformat": 4,
  "nbformat_minor": 0,
  "metadata": {
    "colab": {
      "name": "Copy of Tutorial- 1_FINAL_ALL_RSM.ipynb",
      "provenance": [],
      "collapsed_sections": [],
      "include_colab_link": true
    },
    "kernelspec": {
      "name": "python3",
      "display_name": "Python 3"
    },
    "language_info": {
      "name": "python"
    }
  },
  "cells": [
    {
      "cell_type": "markdown",
      "metadata": {
        "id": "view-in-github",
        "colab_type": "text"
      },
      "source": [
        "<a href=\"https://colab.research.google.com/github/rootvesh/rootvesh/blob/main/Copy_of_Tutorial_1_FINAL_ALL_RSM.ipynb\" target=\"_parent\"><img src=\"https://colab.research.google.com/assets/colab-badge.svg\" alt=\"Open In Colab\"/></a>"
      ]
    },
    {
      "cell_type": "markdown",
      "metadata": {
        "id": "SVxzTgLzbDBe"
      },
      "source": [
        "Assigning values to variables:"
      ]
    },
    {
      "cell_type": "code",
      "metadata": {
        "id": "N-Pgp29sYlJy"
      },
      "source": [
        "# variable : is a researved memory location to store values\n",
        "# comments : are special code that ignored when programme is run\n",
        "x = 100          # An integer assignment\n",
        "print(\"value of x = \",x)\n",
        "# print(complex(10,2))\n",
        "# print('john')\n",
        "# print(100)\n",
        "# print(x)\n",
        "y = 1000.0       # A floating point\n",
        "name = 'Ronak'    # A string\n",
        "boo_1 = True       # boolean\n",
        "print(x,y,name,boo_1)\n",
        "# print(\"100\") \n",
        "z = complex(x,y)  # complex number \n",
        "print (z)"
      ],
      "execution_count": null,
      "outputs": []
    },
    {
      "cell_type": "code",
      "metadata": {
        "id": "ImrmwQUUbNlX"
      },
      "source": [
        "# x= 1 + 2j\n",
        "z= complex (1,2)\n",
        "print(type(z))\n",
        "print(z)\n"
      ],
      "execution_count": null,
      "outputs": []
    },
    {
      "cell_type": "code",
      "metadata": {
        "id": "W10fdsjfq_hH"
      },
      "source": [
        "# Type \n",
        "print(type(x))\n",
        "print(type(y))\n",
        "print(type(name))\n",
        "print(type(boo_1))\n",
        "print(type(z))"
      ],
      "execution_count": null,
      "outputs": []
    },
    {
      "cell_type": "code",
      "metadata": {
        "colab": {
          "base_uri": "https://localhost:8080/"
        },
        "id": "PeZxLCq_bsGS",
        "outputId": "70b27ed1-a823-48fd-b60c-cadd02d7814a"
      },
      "source": [
        "a = '23' # integer\n",
        "b = '25' # string\n",
        "print(type(a), type(b))\n",
        "c =  str(a)\n",
        "print(type(c),c)\n",
        "d = int(b)\n",
        "print(type(d),d)\n",
        "print(a+b)"
      ],
      "execution_count": null,
      "outputs": [
        {
          "output_type": "stream",
          "text": [
            "<class 'str'> <class 'str'>\n",
            "<class 'str'> 23\n",
            "<class 'int'> 25\n",
            "2325\n"
          ],
          "name": "stdout"
        }
      ]
    },
    {
      "cell_type": "code",
      "metadata": {
        "id": "T1MKOzw1rru2"
      },
      "source": [
        "# Type Conversion\n",
        "a = 23\n",
        "print(type(a))\n",
        "b = str(a) \n",
        "print(type(b))\n",
        "print('a'+b)\n",
        "print(a+a)\n",
        "print(b+b)\n",
        "c = float(a)\n",
        "name = 'Ronak'\n",
        "# name_1 = int(name)\n",
        "# print(c)"
      ],
      "execution_count": null,
      "outputs": []
    },
    {
      "cell_type": "markdown",
      "metadata": {
        "id": "dhdtfXYDdMW5"
      },
      "source": [
        "Taking inputs:"
      ]
    },
    {
      "cell_type": "code",
      "metadata": {
        "id": "pBESkxpInpAS",
        "colab": {
          "base_uri": "https://localhost:8080/"
        },
        "outputId": "205dbaa6-abbf-4ca8-e01d-58aa6124d0cf"
      },
      "source": [
        "a=float(input(\"Enter a value a:\"))\n",
        "b=float(input(\"Enter a value b:\"))\n",
        "# print(type(a), type(b))\n",
        "print(\"a+b=\",a+b)\n",
        "print(\"a-b =\",a-b)\n",
        "print(\"a*b=\",a*b)\n",
        "print(\"a/b=\",a/b)"
      ],
      "execution_count": null,
      "outputs": [
        {
          "output_type": "stream",
          "text": [
            "Enter a value a:12.0\n",
            "Enter a value b:3.0\n",
            "a+b= 15.0\n",
            "a-b = 9.0\n",
            "a*b= 36.0\n",
            "a/b= 4.0\n"
          ],
          "name": "stdout"
        }
      ]
    },
    {
      "cell_type": "code",
      "metadata": {
        "id": "R6yaVdeFtFIm",
        "colab": {
          "base_uri": "https://localhost:8080/"
        },
        "outputId": "53afc550-3201-486e-f41a-7dcfe895a0aa"
      },
      "source": [
        "# Escape sequence\n",
        "print(\"This is a lot of space.\")\n",
        "print(\"This is \\t \\t a lot of space.\")\n",
        "print(\"This \\t is \\t a \\t lot \\t of \\t space.\")\n",
        "print(\"one line \\nsecond line\")\n",
        "print(\"When I said, \\'immediately\\' I meant today!\")\n",
        "print(\"\\\" Do or do not.There is no try.\\\"\")"
      ],
      "execution_count": null,
      "outputs": [
        {
          "output_type": "stream",
          "text": [
            "This is a lot of space.\n",
            "This is \t \t a lot of space.\n",
            "This \t is \t a \t lot \t of \t space.\n",
            "one line \n",
            "second line\n",
            "When I said, 'immediately' I meant today!\n",
            "\" Do or do not.There is no try.\"\n"
          ],
          "name": "stdout"
        }
      ]
    },
    {
      "cell_type": "markdown",
      "metadata": {
        "id": "ZrSeIUB7t8to"
      },
      "source": [
        "Programming Challenge"
      ]
    },
    {
      "cell_type": "code",
      "metadata": {
        "id": "Bey5Y4WXt-m7"
      },
      "source": [
        "# Using your knowledge of escape sequences, create a single print()\n",
        "# statement with single string inside of it that displays this when the\n",
        "# program is run:\n",
        "\n",
        "#  *******\n",
        "#   *****\n",
        "#    ***\n",
        "#     *\n",
        "print(\"*******\\n *****\\n  ***\\n   *\")"
      ],
      "execution_count": null,
      "outputs": []
    },
    {
      "cell_type": "markdown",
      "metadata": {
        "id": "kHt5h9nLc0mg"
      },
      "source": [
        "Math operators"
      ]
    },
    {
      "cell_type": "code",
      "metadata": {
        "id": "lrBVCMLsc0Im",
        "colab": {
          "base_uri": "https://localhost:8080/"
        },
        "outputId": "68cc176f-026d-4a95-f97a-aa3e49891381"
      },
      "source": [
        "a = 15\n",
        "b = 4\n",
        "# print(225-456)\n",
        "# print(\"225-456\")\n",
        "# print(a+b) # addition\n",
        "# print(\"c =\", a+b)\n",
        "# print(\"c =\", a+b)\n",
        "# print(a-b) # subtraction\n",
        "# print(a/b) # divison\n",
        "print(\"mul = \", a*b) # multiplication\n",
        "print(\"power = \",a**b) # power\n",
        "print(\"F.D.= \",a//b) # floor division : it returns the largest possible integer(Quotient)\n",
        "print(\"Mod= \",a % b) # modulo\n"
      ],
      "execution_count": null,
      "outputs": [
        {
          "output_type": "stream",
          "text": [
            "mul =  60\n",
            "power =  50625\n",
            "F.D.=  3\n",
            "Mod=  3\n"
          ],
          "name": "stdout"
        }
      ]
    },
    {
      "cell_type": "markdown",
      "metadata": {
        "id": "kH-pSqh0fdnz"
      },
      "source": [
        "**Assignment operator**"
      ]
    },
    {
      "cell_type": "code",
      "metadata": {
        "id": "1TBMGySXdNSF",
        "colab": {
          "base_uri": "https://localhost:8080/"
        },
        "outputId": "f997c4cb-ea88-4c1a-c07f-f2272bedd89e"
      },
      "source": [
        "a = 5\n",
        "a -= 6 # a = a-6 \n",
        "# a += 5 # a= a+5 =16\n",
        "print(a)"
      ],
      "execution_count": null,
      "outputs": [
        {
          "output_type": "stream",
          "text": [
            "30\n"
          ],
          "name": "stdout"
        }
      ]
    },
    {
      "cell_type": "markdown",
      "metadata": {
        "id": "LrzxYTwNgeiL"
      },
      "source": [
        "Operator precedence"
      ]
    },
    {
      "cell_type": "code",
      "metadata": {
        "id": "O9aKARglf_Mf"
      },
      "source": [
        "a=20\n",
        "b= 10\n",
        "c=15\n",
        "d=5\n",
        "print((a + b) * c / d )\n",
        "print(((a + b) * c)/d) \n",
        "print((a + b) * (c / d))\n",
        "print(a + (b * c) / d)\n",
        "print((9 - 7) * 2 **3 + 10%6// - 1 * 2 - 1)"
      ],
      "execution_count": null,
      "outputs": []
    },
    {
      "cell_type": "markdown",
      "metadata": {
        "id": "6CKk47uWht0O"
      },
      "source": [
        "Ptogramming assignment :1 \n"
      ]
    },
    {
      "cell_type": "code",
      "metadata": {
        "id": "QzF0JZpcjElg"
      },
      "source": [
        "# A customer of a grocery store is purchasing 6 items. The names and prices of the items are as follows:\n",
        "# wheat floor-  160 Rs.\n",
        "# Arrabiata Pasta  - 27 Rs.\n",
        "# Bag of 20 Organic Garlic Cloves - 380.25 Rs.\n",
        "# Italian Seasoning 1.5 ltr Bottle - 178.90 Rs.\n",
        "# Biscuits - 158 Rs.\n",
        "# Noodles of pack 2 - 223.65 Rs.\n",
        "# In a .py file, write a program which calculates the subtotal of all 6 of these items using an expression. \n",
        "# The subtotal is just the sum of all of their prices.\n",
        "# Use print() to display the result of the expression.\n",
        "W_floor= 160\n",
        "pasta =27\n",
        "garlic=380.25\n",
        "bottle = 178.90\n",
        "bisc = 158\n",
        "noodle = 223.65\n",
        "# subtotal = W_floor+ pasta +garlic+bottle +bisc+noodle\n",
        "print(W_floor+ pasta +garlic+bottle +bisc+noodle) \n"
      ],
      "execution_count": null,
      "outputs": []
    },
    {
      "cell_type": "code",
      "metadata": {
        "id": "85eBv1Fi7EHp"
      },
      "source": [
        "a = input(\"price of wheat flour :\")\n",
        "b = input(\"price of pasta :\")\n",
        "c = input(\"price of bottle :\")\n",
        "print(\"total= \", int(a)+int(b)+int(c))"
      ],
      "execution_count": null,
      "outputs": []
    },
    {
      "cell_type": "code",
      "metadata": {
        "id": "3oeSkGiNw_oX"
      },
      "source": [
        "#  take inputs\n",
        "name = input(\"Please enter your name:\")\n",
        "print(\"your name is \" + name + \".\")\n",
        "print(type(name))\n",
        "\n",
        "# num = input(\"What is your favorite number?\")\n",
        "# print(\"your favorite number is\" + number + \".\")\n",
        "# print(type(num))"
      ],
      "execution_count": null,
      "outputs": []
    },
    {
      "cell_type": "markdown",
      "metadata": {
        "id": "6zFtpyswxpNu"
      },
      "source": [
        "Programming Challenge "
      ]
    },
    {
      "cell_type": "code",
      "metadata": {
        "id": "LDVdhaYHxsOZ"
      },
      "source": [
        "# In a .py file, create a program and use input() three times to get\n",
        "# answers to the following questions from a user. Store each of the\n",
        "# answers in a variable.\n",
        "# What is your name?\n",
        "# What is your age?\n",
        "# What is your favorite color?\n",
        "# Then, concatenate everything into a string within a print() statement\n",
        "# with the form \"So your name is [name], your age is [age], and your\n",
        "# favorite color is [color].”"
      ],
      "execution_count": null,
      "outputs": []
    },
    {
      "cell_type": "code",
      "metadata": {
        "id": "f4oMYSV4x6DB"
      },
      "source": [
        "# In a Python file, use input() to ask the user to enter an integer that 10\n",
        "# will be added to. Assign what they type to a variable.\n",
        "# print() the sum of the integer they entered and 10."
      ],
      "execution_count": null,
      "outputs": []
    },
    {
      "cell_type": "markdown",
      "metadata": {
        "id": "Du4hIF1SQb_Q"
      },
      "source": [
        "Comparison operator:"
      ]
    },
    {
      "cell_type": "code",
      "metadata": {
        "id": "iz7FrlvpQXLT",
        "colab": {
          "base_uri": "https://localhost:8080/"
        },
        "outputId": "1963bd35-c757-44bd-f23d-82d65aa87e26"
      },
      "source": [
        "\n",
        "print(3 > 5)\n",
        "print(7 > 2)\n",
        "print(5.67 < 2)\n",
        "print(3 >= 2)\n",
        "print(2 <= 2)\n",
        "print(10 != 100) # not equals to \n",
        "print(10 != 10)\n",
        "print(10 == 10)\n",
        "print(\"hello\"==\"hello\")\n",
        "print(\"hello\"!=\"world\")\n",
        "print(\"Hello\"==\"hello\")"
      ],
      "execution_count": null,
      "outputs": [
        {
          "output_type": "stream",
          "text": [
            "False\n",
            "True\n",
            "False\n",
            "True\n",
            "True\n",
            "True\n",
            "False\n",
            "True\n",
            "True\n",
            "True\n",
            "False\n"
          ],
          "name": "stdout"
        }
      ]
    },
    {
      "cell_type": "markdown",
      "metadata": {
        "id": "NoiVKeE5QzxJ"
      },
      "source": [
        "Boolean operator "
      ]
    },
    {
      "cell_type": "code",
      "metadata": {
        "id": "B9kVH9xLQzUq",
        "colab": {
          "base_uri": "https://localhost:8080/"
        },
        "outputId": "f8ccd03f-6aac-474b-e892-18f401546dc5"
      },
      "source": [
        "# AND operator\n",
        "print(4 > 1 and \"hello\"==\"hello\") # True and true\n",
        "print(\"earth\"==\"Earth\" and 6 <= 2)\n",
        "print(10 == 5 and 10!= 5)\n",
        "# OR operator\n",
        "print(4 > 1 or \"hello\"==\"hello\")\n",
        "print(\"earth\"==\"Earth\" or 6 <= 2)\n",
        "print(10 == 5 or 10!= 5)\n",
        "# # NOT operator\n",
        "print(not 4 > 1 )\n",
        "print(not \"earth\"==\"Earth\")"
      ],
      "execution_count": null,
      "outputs": [
        {
          "output_type": "stream",
          "text": [
            "True\n",
            "False\n",
            "False\n",
            "True\n",
            "False\n",
            "True\n",
            "False\n",
            "True\n"
          ],
          "name": "stdout"
        }
      ]
    },
    {
      "cell_type": "markdown",
      "metadata": {
        "id": "CS8M0aY0VHZB"
      },
      "source": [
        "control statement:"
      ]
    },
    {
      "cell_type": "code",
      "metadata": {
        "colab": {
          "base_uri": "https://localhost:8080/"
        },
        "id": "UghkMVC8VHEG",
        "outputId": "3914f85e-754e-4d66-98eb-4ef9727462d6"
      },
      "source": [
        "#  if statement\n",
        "a = 33\n",
        "b = 200\n",
        "if b > a:\n",
        "  print(\"b is greater than a\") \n",
        "\n",
        "#elif statemet\n",
        "# a = 33\n",
        "# b = 33\n",
        "# if b > a:\n",
        "#   print(\"b is greater than a\")\n",
        "# elif a == b:\n",
        "#   print(\"a and b are equal\")\n",
        "# # else statemet\n",
        "# a = 200\n",
        "# b = 33\n",
        "# if b > a:\n",
        "#   print(\"b is greater than a\")\n",
        "# elif a == b:\n",
        "#   print(\"a and b are equal\")\n",
        "# else:\n",
        "#   print(\"a is greater than b\")"
      ],
      "execution_count": null,
      "outputs": [
        {
          "output_type": "stream",
          "text": [
            " a is equal to b\n"
          ],
          "name": "stdout"
        }
      ]
    },
    {
      "cell_type": "code",
      "metadata": {
        "id": "Qd66cYPbVvMT"
      },
      "source": [
        "# while loop\n",
        "# Print i as long as i is less than 6:\n",
        "i = 1\n",
        "while i < 6:\n",
        "  print(i)\n",
        "  i += 1\n",
        "# break statement\n",
        "# Exit the loop when i is 3:\n",
        "i = 1\n",
        "while i < 6:\n",
        "  print(i)\n",
        "  if i == 3:\n",
        "    break\n",
        "  i += 1\n",
        "# Continue to the next iteration if i is 3:\n",
        "i = 0\n",
        "while i < 6:\n",
        "  i += 1\n",
        "  if i == 3:\n",
        "    continue\n",
        "  print(i)"
      ],
      "execution_count": null,
      "outputs": []
    },
    {
      "cell_type": "code",
      "metadata": {
        "id": "Nd6U2G6vWJpk"
      },
      "source": [
        "# For loop\n",
        "word = \"house\"\n",
        "for letter in word:\n",
        "  print(letter)\n",
        "# range() with one argument\n",
        "one_input = range(5)\n",
        "for num in one_input:\n",
        "  print(num)\n",
        "# range() with two argument\n",
        "second_inputs = range(5,10)\n",
        "for num in second_inputs:\n",
        "  print(num)\n",
        "# range() with three arguments\n",
        "three_inputs = range(20,1,-3)\n",
        "for num in three_inputs:\n",
        "  print(num)"
      ],
      "execution_count": null,
      "outputs": []
    },
    {
      "cell_type": "markdown",
      "metadata": {
        "id": "QSzCCS_jp1kN"
      },
      "source": [
        "String Methods:"
      ]
    },
    {
      "cell_type": "code",
      "metadata": {
        "id": "_MrRPF_lpXMD"
      },
      "source": [
        "f = \"There is no capital here\"\n",
        "print(f.upper())\n",
        "print(f.lower())\n",
        "print(\"The sun is bright\".isupper())\n",
        "print(\"the sun is bright\".islower())\n",
        "print(\"SHOUT\".lower().isupper())\n",
        "print(\"BATMAN\".isalpha()) # only letters\n",
        "print(\"BATMAN123\".isalnum()) # numbers and letters\n",
        "print(\"456982\".isalnum()) \n",
        "print(\"A456982\".isdecimal()) # only numbers\n",
        "print(\"\".isspace()) # only spaces\n",
        "print(\"The Empire Strikes Back\".istitle())# Only Title case"
      ],
      "execution_count": null,
      "outputs": []
    },
    {
      "cell_type": "code",
      "metadata": {
        "id": "raQIE05Sr2_p"
      },
      "source": [
        "# Multiple string Methods\n",
        "print(\"this is string\".startswith(\"t\"))\n",
        "print(\"To infinity and beyond!\".endswith(\"beyond!\"))\n",
        "print(\"\".join([\"one\",\"Two\",\"Three\"]))\n",
        "print(\" \".join([\"one\",\"Two\",\"Three\"]))\n",
        "print(\",\".join([\"one\",\"Two\",\"Three\"]))\n",
        "print(\", \".join([\"one\",\"Two\",\"Three\"]))\n",
        "print(\"...\".join([\"one\",\"Two\",\"Three\"]))\n",
        "print(\"Eggs,milk,bacon,waffles\".split())\n",
        "print(\"Eggs,milk,bacon,waffles\".split(\",\"))"
      ],
      "execution_count": null,
      "outputs": []
    },
    {
      "cell_type": "code",
      "metadata": {
        "id": "st5iZpXktCuv"
      },
      "source": [
        "print(\"hello world\".rjust(15))\n",
        "print(\"hello world\".ljust(15)+\"four spaces later.\")\n",
        "# .rjust() and .ljust()’second argument\n",
        "print(\"hello world\".rjust(15,'-'))\n",
        "print(\"hello world\".ljust(15,'*')+\"four spaces later.\")\n",
        "print(\"hello world\".center(15))\n",
        "print(\"hello world\".center(15,\"*\"))"
      ],
      "execution_count": null,
      "outputs": []
    },
    {
      "cell_type": "code",
      "metadata": {
        "id": "bGiDAmzVut1l"
      },
      "source": [
        "print(\"I had an exiting trip!!111111\")\n",
        "print(\"I had an exiting trip!!111111\".strip(\"1\"))\n",
        "print(\"I had an exiting trip!!111111\".rstrip(\"1\"))\n",
        "print(\"I had an exiting trip!!111111\".lstrip(\"1\"))\n",
        "\n",
        "print(\"juice, bread, egg, cheese, beef, bread\".rstrip(\", bread\"))\n",
        "print(\"juice, bread, egg, cheese, beef, bread\".rstrip(\",ed arb\"))\n",
        "print(\"blueblueyellowblue\".strip(\"eulb\"))\n",
        "\n",
        "print(\"Good morning\".replace(\"morning\",\"afternoon\"))\n",
        "\n",
        "print(len(\"tree\"))\n",
        "print(len(\"My name is james\"))"
      ],
      "execution_count": null,
      "outputs": []
    },
    {
      "cell_type": "markdown",
      "metadata": {
        "id": "kRemWXNL_N6Q"
      },
      "source": [
        "LIST"
      ]
    },
    {
      "cell_type": "code",
      "metadata": {
        "id": "lx7XMoMJ_NW_"
      },
      "source": [
        "ex_1=[2,5,6,7,8]\n",
        "ex_2=[2.35,5.63]\n",
        "ex_3=[\"red\",\"blue\",\"green\",\"red\",\"white\",\"black\"]\n",
        "ex_4=[True,False,False,False,True,False,True]\n",
        "ex_5=[[1,2,3,4],[1.2,5.2]]\n",
        "ex_6=[1,2.3,\"blue\",True,[1,2,3]]\n",
        "print(list(\"blah\"))\n",
        "# IN Or NOT IN\n",
        "print(1 in ex_1)\n",
        "print(8 in ex_1)\n",
        "print(1 not in ex_1)\n",
        "print(8 not in ex_1)"
      ],
      "execution_count": null,
      "outputs": []
    },
    {
      "cell_type": "code",
      "metadata": {
        "id": "ObYAg37vE2bf",
        "colab": {
          "base_uri": "https://localhost:8080/"
        },
        "outputId": "f50bdc30-bd32-493e-bf30-0d101054d2b1"
      },
      "source": [
        "ind_ex = [ \"carpet\" , \"hardwood\" , \"plastic\" ]\n",
        "print (ind_ex [1])\n",
        "# ind_ex1 = [ [ 1, 2, 3 ], [ 3, 4, 5 ], [ 6, 7, 8 ] ]\n",
        "# print (ind_ex1 [ 2 ][ 0 ])\n",
        "# print (ind_ex [ 2 ][ 0 ])\n",
        "# negative = [1, 2, 3, 4, 5]\n",
        "# print (negative[-1])\n",
        "# # Using items accessed by index in expressions\n",
        "# mixed = [ False, 365, 4.25, \"this is string\"]\n",
        "# print( mixed [ 2 ] + 1.76 )\n",
        "# print(\"I have used  ̈\"+ mixed [ -1 ] + \"as an example too many times.\")\n",
        "# # list slicing\n",
        "# sliced = [1, 2, 3, 4, 5, 6, 7, 8, 9]\n",
        "# print( sliced [ : 4 ])\n",
        "# print( sliced [3 : 8])\n",
        "# print( sliced [6 :])"
      ],
      "execution_count": null,
      "outputs": [
        {
          "output_type": "stream",
          "text": [
            "hardwood\n"
          ],
          "name": "stdout"
        }
      ]
    },
    {
      "cell_type": "markdown",
      "metadata": {
        "id": "OyC5MgasYwo9"
      },
      "source": [
        "Write a program to program to find odd and even numbers from a list [12, 13, 5, 7, 8, 9, 100, 3490]."
      ]
    },
    {
      "cell_type": "code",
      "metadata": {
        "id": "nxiAypFdYwO-",
        "colab": {
          "base_uri": "https://localhost:8080/"
        },
        "outputId": "39e88013-ab99-4e24-e5fc-6c172ee9f60e"
      },
      "source": [
        "list_1=[12,13,5,7,8,9,100,3490]\n",
        "list_2 = []\n",
        "list_3 = []\n",
        "for num in list_1:\n",
        "  if num%2!=0:\n",
        "    list_2.append(num)\n",
        "  else:\n",
        "    list_3.append(num)\n",
        "print(list_2)\n",
        "print(list_3)"
      ],
      "execution_count": null,
      "outputs": [
        {
          "output_type": "stream",
          "text": [
            "[13, 5, 7, 9]\n",
            "[12, 8, 100, 3490]\n"
          ],
          "name": "stdout"
        }
      ]
    },
    {
      "cell_type": "markdown",
      "metadata": {
        "id": "U_a4BaNealFB"
      },
      "source": [
        "Write a Python program to sum all the elements in a list"
      ]
    },
    {
      "cell_type": "code",
      "metadata": {
        "id": "3s_tEvLhaioI",
        "colab": {
          "base_uri": "https://localhost:8080/"
        },
        "outputId": "4dc77d30-0f3e-454c-9699-024026b036f6"
      },
      "source": [
        "# list_1=[12,13,5,7,8,9,100,3490]\n",
        "# total=sum(list_1)\n",
        "# print(total)\n",
        "n = input (\"Total elements:\")\n",
        "list_1= []\n",
        "for i in range(int(n)):\n",
        "  a = int(input(\"Enter a value:\"))\n",
        "  list_1.append(a)\n",
        "print(list_1) \n",
        "\n",
        "# numbs =[12,13,5,7,8,9,100,3490]\n",
        "# temp=0\n",
        "# for num in numbs:\n",
        "#     temp=temp+num\n",
        "\n",
        "# print(temp)"
      ],
      "execution_count": null,
      "outputs": [
        {
          "output_type": "stream",
          "text": [
            "Total elements:2\n",
            "Enter a value:1\n",
            "Enter a value:2\n",
            "[1, 2]\n"
          ],
          "name": "stdout"
        }
      ]
    },
    {
      "cell_type": "markdown",
      "metadata": {
        "id": "uEip_kKeawgC"
      },
      "source": [
        "Find maximum and minimum number from the list [12,13,5,7,8,9,100,3490]"
      ]
    },
    {
      "cell_type": "code",
      "metadata": {
        "colab": {
          "base_uri": "https://localhost:8080/"
        },
        "id": "YpIHSLXZawMg",
        "outputId": "9b9677f9-92d7-4904-fe4c-7ed3012ca679"
      },
      "source": [
        "list_1 =[12,13,5,7,8,9,100,3490]\n",
        "list_1.sort()\n",
        "print(list_1)\n",
        "print(\"max = \",list_1[-1])\n",
        "print(\"min =\" ,list_1[0])"
      ],
      "execution_count": null,
      "outputs": [
        {
          "output_type": "stream",
          "text": [
            "[5, 7, 8, 9, 12, 13, 100, 3490]\n",
            "max =  3490\n",
            "min = 5\n"
          ],
          "name": "stdout"
        }
      ]
    },
    {
      "cell_type": "markdown",
      "metadata": {
        "id": "EzGR6O6BT1re"
      },
      "source": [
        "Tuple:"
      ]
    },
    {
      "cell_type": "code",
      "metadata": {
        "colab": {
          "base_uri": "https://localhost:8080/"
        },
        "id": "PX2ITkypT1ZT",
        "outputId": "1e2ba52a-64dd-4d91-9dc4-c8c639676c3b"
      },
      "source": [
        "tup1 = (\"physics\", \"chemistry\", 1997, 2000)\n",
        "tup2 = ( 1, 2, 3, 4, 5 )\n",
        "tup3 = \"1\",\"2\",\"3\",\"4\"\n",
        "tup4 = ( )\n",
        "tup5 = ( 1 , )\n",
        "print(tup1, tup2, tup3,tup4,tup5)\n",
        "# Accessing values in tuple\n",
        "print(tup1[0])\n",
        "print(tup2[1:5]) \n",
        "# Tuples are immutable which means you cannot update or change\n",
        "# the values of tuple elements\n",
        "# tup1[10]=110\n"
      ],
      "execution_count": null,
      "outputs": [
        {
          "output_type": "stream",
          "text": [
            "('physics', 'chemistry', 1997, 2000) (1, 2, 3, 4, 5) ('1', '2', '3', '4') () (1,)\n",
            "physics\n",
            "(2, 3, 4, 5)\n"
          ],
          "name": "stdout"
        }
      ]
    },
    {
      "cell_type": "code",
      "metadata": {
        "id": "yCcBnGXZU-s9"
      },
      "source": [
        "tup1 = (\"physics\", \"chemistry\", 1997, 2000)\n",
        "tup2 = ( 1, 2, 3, 4, 5 )\n",
        "thistuple = tuple((\"apple\", \"banana\", \"cherry\"))\n",
        "print(thistuple)\n",
        "print(type(tup1))\n",
        "print(tup1+tup2)\n",
        "print(len(tup1))\n",
        "print(tup2*4)\n",
        "print(\"Hi!\"*10)\n",
        "print(3 in tup2)\n",
        "print(\"physics\" not in tup1)\n",
        "[print(i) for i in (1,2,3)]\n"
      ],
      "execution_count": null,
      "outputs": []
    },
    {
      "cell_type": "code",
      "metadata": {
        "colab": {
          "base_uri": "https://localhost:8080/"
        },
        "id": "h8ZGJXoGWS5_",
        "outputId": "42e9c94b-45eb-4479-aae1-f7d994f64294"
      },
      "source": [
        "# Unpacking of tuple\n",
        "fruits = (\"apple\", \"banana\", \"cherry\")\n",
        "(green, yellow, red) = fruits\n",
        "print(green)\n",
        "print(yellow)\n",
        "print(red)"
      ],
      "execution_count": null,
      "outputs": [
        {
          "output_type": "stream",
          "text": [
            "apple\n",
            "banana\n",
            "cherry\n"
          ],
          "name": "stdout"
        }
      ]
    },
    {
      "cell_type": "markdown",
      "metadata": {
        "id": "JxNZjx9yWykK"
      },
      "source": [
        "Dictionaries:"
      ]
    },
    {
      "cell_type": "code",
      "metadata": {
        "id": "PVxjAQPuW3Ws"
      },
      "source": [
        "dict = {\"Name\" : \"Zara\", \"Age\" : 7, \"Class\" : \"First\"}\n",
        "print(dict)\n",
        "print(dict [ \"Name\" ])\n",
        "print(dict [ \"Age\"])\n",
        "dict[\"Age\"] = 8 ; # update existing entry\n",
        "dict[\"School\"] = \"DPS School\" ; # Add new entry\n",
        "print(dict)\n",
        "del dict [\"Name\"] ; # remove entry with key ’Name’\n",
        "# dict.clear( ) ; # remove all entries in dict\n",
        "# del dict ; # delete entire dictionary\n",
        "print(dict)\n",
        "print(dict.keys())\n",
        "print(dict.values())\n",
        "print(dict.items())\n",
        "print(len (dict))\n",
        "print(7 in dict)\n",
        "print(2 in dict)\n",
        "print(dict.get (\"Class\"))\n",
        "# del dict[\"Class\"]"
      ],
      "execution_count": null,
      "outputs": []
    },
    {
      "cell_type": "code",
      "metadata": {
        "colab": {
          "base_uri": "https://localhost:8080/"
        },
        "id": "4iRz9GnrU6fk",
        "outputId": "3e6606a1-9c8c-412b-f899-6aad7e9eaefe"
      },
      "source": [
        "# Write a program to create a nested tuple to store roll number, name and marks of students\n",
        "# Sr. No    Roll No.  Name   Marks\n",
        "# 1         25        Dixit  54\n",
        "# 2         13        Kartik 49\n",
        "# 3         36        Jash   35\n",
        "\n",
        "t=((21,\"Kartik\",100),(29,\"Jahanav\",100),(21,\"Ramashis\",100))\n",
        "print(\"{:<10}{:<10}{:<12}{:<10}\".format(\"Sr no.\",\"Roll no\",\"Name\",\"marks\"))\n",
        "for i in range(0,len(t)):\n",
        "    print(\"{:<10}{:<10}{:<12}{:<10}\".format(i+1,t[i][0],t[i][1],t[i][2]))"
      ],
      "execution_count": null,
      "outputs": [
        {
          "output_type": "stream",
          "text": [
            "S No. Roll No \t Name \t Marks\n",
            "1 \t 25 \t Dixit   54\n",
            "2 \t 13 \t Karti   49\n",
            "3 \t 36 \t Jash   35\n"
          ],
          "name": "stdout"
        }
      ]
    },
    {
      "cell_type": "code",
      "metadata": {
        "id": "z130VIEEhDOX"
      },
      "source": [
        "# Write a program to swap two numbers with using TUPLE - By Kartik\n",
        "t1=15.1\n",
        "t2=20.5\n",
        "print(\"Before swap t1={} and t2={}\".format(t1,t2))\n",
        "(t1,t2)=(t2,t1)\n",
        "print(\"After swap t1={} and t2={}\".format(t1,t2))\n",
        "\n",
        "#  Using temporary variable - By Nandan \n",
        "x = int(input(\"Enter first number: \"))\n",
        "y = int(input(\"Enter second number: \"))\n",
        "print(\"Before swapping: x = {0} and y = {1}\".format(x,y))\n",
        "z = x\n",
        "x = y\n",
        "y = z\n",
        "print(\"After swapping: x = {0} and y = {1}\".format(x,y))\n",
        "\n",
        "# By Dixit\n",
        "a = 1\n",
        "b = 2\n",
        "a, b = b, a\n",
        "print('a = ', a)\n",
        "print('b = ', b)"
      ],
      "execution_count": null,
      "outputs": []
    },
    {
      "cell_type": "code",
      "metadata": {
        "id": "0z430yK3g7sj",
        "colab": {
          "base_uri": "https://localhost:8080/"
        },
        "outputId": "e1f01680-2a40-489c-ecae-f9752ce215af"
      },
      "source": [
        "# Write a program to input n numbers from the user and store it in tuple.\n",
        "# Print the maximum and minimum number from this tuple.\n",
        "user = tuple()\n",
        "n = int(input(\"Number of elements: \"))\n",
        "for i in range(0,n):\n",
        "  num = float(input(\"Enter a Value: \"))\n",
        "  user = user + (num,)\n",
        "\n",
        "print(user)\n",
        "print(\"Max. Number: \", max(user))\n",
        "print(\"Min. Number: \", min(user))"
      ],
      "execution_count": null,
      "outputs": [
        {
          "output_type": "stream",
          "text": [
            "Number of elements: 2\n",
            "Enter a Value: 1\n",
            "Enter a Value: 2\n",
            "(1.0, 2.0)\n",
            "Max. Number:  2.0\n",
            "Min. Number:  1.0\n"
          ],
          "name": "stdout"
        }
      ]
    },
    {
      "cell_type": "markdown",
      "metadata": {
        "id": "8Dv8911MEGqB"
      },
      "source": [
        "NumPy is a Python library used for working with arrays.\n",
        "It also has functions for working in domain of linear algebra, fourier transform, and matrices.\n",
        "NumPy stands for Numerical Python"
      ]
    },
    {
      "cell_type": "code",
      "metadata": {
        "id": "ReBNoLBsD3Zr",
        "colab": {
          "base_uri": "https://localhost:8080/"
        },
        "outputId": "8024f193-a2d5-483c-b542-5464bec8db51"
      },
      "source": [
        "# import numpy\n",
        "import numpy as np\n",
        "arr = numpy.array([1, 2, 3, 4, 5]) # 1-D array\n",
        "arr_1 = np.array(42) # 0-D array\n",
        "arr_2 = np.array([[1, 2, 3], [4, 5, 6]]) # 2-D array\n",
        "arr_3 = np.array([[[1, 2, 3], [4, 5, 6]], [[1, 2, 3], [4, 5, 6]]]) # 3-D array\n",
        "arr_4 = np.array([1, 2, 3, 4], ndmin=6)\n",
        "print(arr_2.ndim) # dimension number\n",
        "# print(type(arr_1))\n",
        "print(arr_4)"
      ],
      "execution_count": null,
      "outputs": [
        {
          "output_type": "stream",
          "text": [
            "2\n",
            "[[[[[[1 2 3 4]]]]]]\n"
          ],
          "name": "stdout"
        }
      ]
    },
    {
      "cell_type": "code",
      "metadata": {
        "id": "DgvGfc9ZGn9D"
      },
      "source": [
        "# Accessing elements from NumPy array\n",
        "print(arr[3]) # Access 1-D array\n",
        "print(arr_2[0,2]) # Access 2-D array\n",
        "print(arr_3[0,1,2]) # Access 3-D array\n",
        "print(arr_2[-1,-1]) # Negative indexing\n",
        "\n",
        "a = np.array([1, 2, 3, 4, 5, 6, 7])\n",
        "print(a[1:5])\n",
        "print(a[4:])\n",
        "print(a[:4])\n",
        "print(a[-3:-1])\n",
        "print(a[1:5:2])\n",
        "print(a[::2])\n",
        "\n",
        "\n",
        "b = np.array([[1, 2, 3, 4, 5], [6, 7, 8, 9, 10]])\n",
        "print(b[1, 1:4])\n",
        "print(b[0:2, 2])\n",
        "print(b[0:2, 1:4])"
      ],
      "execution_count": null,
      "outputs": []
    },
    {
      "cell_type": "code",
      "metadata": {
        "id": "5Kx-YsZtNFw8"
      },
      "source": [
        "# Data type\n",
        "# print(arr.dtype)\n",
        "# arr_5 = np.array(['apple', 'banana', 'cherry'])\n",
        "# print(arr_5.dtype)\n",
        "# reshape array\n",
        "arr = np.array([1, 2, 3, 4, 5, 6, 7, 8, 9, 10, 11, 12])\n",
        "newarr = arr.reshape(4, 3) \n",
        "newarr_1 = arr.reshape(2, 3, 2)\n",
        "print(newarr)\n",
        "print(newarr_1) # 2 arrays that contains 3 arrays, each with 2 elements\n",
        "\n"
      ],
      "execution_count": null,
      "outputs": []
    },
    {
      "cell_type": "code",
      "metadata": {
        "id": "8sS-D2GiQIlC"
      },
      "source": [
        "# loops in array\n",
        "import numpy as np\n",
        "# arr = np.array([1, 2, 3])\n",
        "# for x in arr:\n",
        "#   print(x)\n",
        "# 2-D array\n",
        "arr = np.array([[1, 2, 3], [4, 5, 6]])\n",
        "for x in arr:\n",
        "  print(x)\n",
        "\n",
        "for x in arr:\n",
        "  for y in x:\n",
        "    print(y)"
      ],
      "execution_count": null,
      "outputs": []
    },
    {
      "cell_type": "code",
      "metadata": {
        "colab": {
          "base_uri": "https://localhost:8080/"
        },
        "id": "khfd1GtWlVti",
        "outputId": "2d651bb9-5f5b-4475-8322-9d4d641841ce"
      },
      "source": [
        "# User define function\n",
        "def add(a,b):\n",
        "  return float(a)+ float(b)\n",
        "def sub(a,b):\n",
        "  return float(a)- float(b)\n",
        "def mul(a,b):\n",
        "  return float(a)*float(b)\n",
        "def power(a,b):\n",
        "  return float(a)**float(b)\n",
        "# print(add(2.5,3.5))\n",
        "# print(sub(2.5,3.5))\n",
        "# print(mul(2.5,3.5))\n",
        "# print(power(2,3))\n",
        "\n",
        "# to check that given number is odd or even using def()\n",
        "# By Ronit\n",
        "# def number(a):\n",
        "#     if a%2!=0:\n",
        "#       print(a,\"is odd\")\n",
        "#     else:\n",
        "#       print(a,\"is even\")\n",
        "\n",
        "# n = int(input(\"enter a number\"))\n",
        "# number(n)\n",
        "\n",
        "# Python program to convert Celsius to Fahrenheit and vicecersa\n",
        "# F= 1.8*C +32\n",
        "# By Harsh\n",
        "# tempc = float(input(\"Enter temprature in terms of celsius:\"))\n",
        "\n",
        "# def temp_conversion(tempc):\n",
        "#     tempf = 1.8*tempc + 32\n",
        "#     print(tempf,\"Here is your temprature in farenheit\")\n",
        "# temp_conversion(tempc);\n",
        "\n",
        "# By Ronit\n",
        "# def cel2fer(c):\n",
        "#      farhenheit=(9/5)*c+32  \n",
        "#      print(\"temperature in farhenheit is:\",farhenheit)\n",
        "# c=float(input(\"enter temperature in celsius\"))\n",
        "\n",
        "# cel2fer(c)\n",
        "\n",
        "def far_to_cel(f):\n",
        "     celsius= (f-32)*(5/9)  \n",
        "     print(\"temperature in farhenheit is:\",celsius)\n",
        "f=float(input(\"enter temperature in celsius\"))\n",
        "far_to_cel(f)"
      ],
      "execution_count": null,
      "outputs": [
        {
          "output_type": "stream",
          "text": [
            "enter temperature in celsius77\n",
            "temperature in farhenheit is: 25.0\n"
          ],
          "name": "stdout"
        }
      ]
    },
    {
      "cell_type": "markdown",
      "metadata": {
        "id": "uFkb5zAkQzCE"
      },
      "source": [
        "Define functions:"
      ]
    },
    {
      "cell_type": "code",
      "metadata": {
        "colab": {
          "base_uri": "https://localhost:8080/"
        },
        "id": "MiWpBWTjQ1oh",
        "outputId": "044fff5a-1582-4e53-9c90-2125cd46eb86"
      },
      "source": [
        "def my_function():\n",
        "  print(\"Hello from a function\")\n",
        "\n",
        "my_function()\n",
        "\n",
        "def add(a,b):\n",
        "  return int(a) + int(b)\n",
        "\n",
        "print(add(1,2))"
      ],
      "execution_count": null,
      "outputs": [
        {
          "output_type": "stream",
          "text": [
            "Hello from a function\n",
            "3\n"
          ],
          "name": "stdout"
        }
      ]
    },
    {
      "cell_type": "code",
      "metadata": {
        "id": "9fGSQQNIpzI_"
      },
      "source": [
        "# Write a program by defining a function (transcendental or algebraic)\n",
        "#  and find an interval in which a root of the function lies.\n",
        "def f(x):\n",
        "  return x**3+x+1\n",
        "\n",
        "n = 0\n",
        "condition= True\n",
        "while condition:\n",
        "  a = n\n",
        "  b = n-1\n",
        "  if f(a)* f(b)< 0:\n",
        "      print(\"Interval is (%d, %d)\"%(a,b))\n",
        "      condition = False\n",
        "      break\n",
        "  else:\n",
        "      n = n-1\n",
        "\n",
        "\n"
      ],
      "execution_count": null,
      "outputs": []
    },
    {
      "cell_type": "code",
      "metadata": {
        "id": "yDxh2dyU7VRj"
      },
      "source": [
        "# 1. Write a program to check, if a given number is odd or even using def\n",
        "\n",
        "def oddeven(num):\n",
        "  if num%2==0:\n",
        "    return \"even\"\n",
        "  else:\n",
        "    return \"Odd\"\n",
        "oddeven(23)"
      ],
      "execution_count": null,
      "outputs": []
    },
    {
      "cell_type": "markdown",
      "metadata": {
        "id": "9oGkMC5m7ZfG"
      },
      "source": [
        "# 2. Write a program by defining a function (transcendental or algebraic) to find an interval in which a root of the function lies."
      ]
    },
    {
      "cell_type": "code",
      "metadata": {
        "id": "VSBkvVw57WDj"
      },
      "source": [
        "# First method (First Function)\n",
        "def f(x):\n",
        "  return x**3-3*x + 5 # Root lies in the interval (-3, -2)\n",
        "def g(a, b):\n",
        "  return f(a)*f(b)\n",
        "a = int(input(\"a = \"))\n",
        "b = int(input(\"b = \"))\n",
        "if a > b:\n",
        "  print(\"a must be less than b\")\n",
        "else:\n",
        "  if g(a, b) < 0:\n",
        "    print('Root lies in the interval (%d, %d)' %(a, b))\n",
        "  else:\n",
        "    print('Root does not lie in the interval(%d, %d)' %(a, b))"
      ],
      "execution_count": null,
      "outputs": []
    },
    {
      "cell_type": "code",
      "metadata": {
        "id": "wDTk9iU87hMX"
      },
      "source": [
        "# Second method (First Function)\n",
        "def f(x):\n",
        "  return x**3-3*x + 5  # Root lies in the interval (-3, -2)\n",
        "n = 0\n",
        "condition  = True\n",
        "while condition:\n",
        "  if f(n)*f(n-1)<0:\n",
        "    print('Root lies in the interval (%d, %d)' %(n-1, n))\n",
        "    condition = False\n",
        "    break\n",
        "  else:\n",
        "    n=n-1"
      ],
      "execution_count": null,
      "outputs": []
    },
    {
      "cell_type": "code",
      "metadata": {
        "id": "WZ4x3mEw7nIU"
      },
      "source": [
        "#  First method (Second Function)\n",
        "def f(x):\n",
        "  return x**3 + 4*x**2 + 2*x - 15  # Root lies in the interval (1, 2)\n",
        "def g(a, b):\n",
        "  return f(a)*f(b)\n",
        "a = int(input(\"a = \"))\n",
        "b = int(input(\"b = \"))\n",
        "if a > b:\n",
        "  print(\"a must be less than b\")\n",
        "else:\n",
        "  if g(a, b) < 0:\n",
        "    print('Root lies in the interval (%d, %d)' %(a, b))\n",
        "  else:\n",
        "    print('Root does not lie in the interval(%d, %d)' %(a, b))"
      ],
      "execution_count": null,
      "outputs": []
    },
    {
      "cell_type": "code",
      "metadata": {
        "id": "1_LpKozp7pBk"
      },
      "source": [
        "#  Second method (Second Function)\n",
        "def f(x):\n",
        "  return x**3 + 4*x**2 + 2*x - 15  # Root lies in the interval (1, 2)\n",
        "n = 0\n",
        "condition  = True\n",
        "while condition:\n",
        "  if f(n)*f(n+1)<0:\n",
        "    print('Root lies in the interval (%d, %d)' %(n, n+1))\n",
        "    condition = False\n",
        "    break\n",
        "  else:\n",
        "    n=n+1"
      ],
      "execution_count": null,
      "outputs": []
    },
    {
      "cell_type": "code",
      "metadata": {
        "id": "UUdob9oE7ret"
      },
      "source": [
        "# 3. Write a program by defining a function (transcendental or algebraic) to find an interval in which a root of the function lies.\n",
        "# 1. Define a function\n",
        "# 2. Take length of the interval from user\n",
        "# 3. Find the interval of the entered length\n",
        "def f(x):\n",
        "  return x**3 + 4*x**2 + 2*x - 15  # Root lies in the interval (1, 2)\n",
        "n = 0\n",
        "cd = float(input(\"enter tolerance: \")) \n",
        "condition  = True\n",
        "while condition:\n",
        "  if f(n)*f(n+cd)<0:\n",
        "    print('Root lies in the interval (%0.5f, %0.5f)' %(n, n+cd))\n",
        "    condition = False\n",
        "    break\n",
        "  else:\n",
        "    n=n+cd"
      ],
      "execution_count": null,
      "outputs": []
    },
    {
      "cell_type": "code",
      "metadata": {
        "id": "ZvtiBCvw7tpV"
      },
      "source": [
        "# Write a program by defining a function (transcendental or algebraic) to find an interval in which a root of the function lies.\n",
        "# 1. Define a function\n",
        "# 2. Take length of the interval from user\n",
        "# 3. Find the interval of the entered length\n",
        "def f(x):\n",
        "  return x**3-3*x + 5  # Root lies in the interval (-3, -2)\n",
        "n = 0\n",
        "cd = float(input(\"Desired interval length: \")) \n",
        "condition  = True\n",
        "while condition:\n",
        "  if f(n)*f(n+cd)<0:\n",
        "    if cd > 0:\n",
        "      print('Root lies in the interval (%0.5f, %0.5f)' %(n, n+cd))\n",
        "      condition = False\n",
        "      break\n",
        "    else:\n",
        "      print('Root lies in the interval (%0.5f, %0.5f)' %(n+cd, n))\n",
        "      condition = False\n",
        "      break\n",
        "  else:\n",
        "    n=n+cd"
      ],
      "execution_count": null,
      "outputs": []
    },
    {
      "cell_type": "code",
      "metadata": {
        "id": "F1XLpLkg70_Z"
      },
      "source": [
        "def f(x):\n",
        "  return x**3 + 4*x**2 + 2*x - 15  # Root lies in the interval (1, 2)\n",
        "n = 0\n",
        "cd = float(input(\"Desired interval length: \")) \n",
        "condition  = True\n",
        "while condition:\n",
        "  if f(n)*f(n+cd)<0:\n",
        "    if cd > 0:\n",
        "      print('Root lies in the interval (%0.5f, %0.5f)' %(n, n+cd))\n",
        "      condition = False\n",
        "      break\n",
        "    else:\n",
        "      print('Root lies in the interval (%0.5f, %0.5f)' %(n+cd, n))\n",
        "      condition = False\n",
        "      break\n",
        "  else:\n",
        "    n=n+cd"
      ],
      "execution_count": null,
      "outputs": []
    },
    {
      "cell_type": "code",
      "metadata": {
        "id": "DayWk5BD73i3"
      },
      "source": [
        "# from math import cos\n",
        "import math\n",
        "def f(x):\n",
        "  # return x - cos(x)  # Root lies in the interval (0, 1)\n",
        "  # return x*math.exp(x) - 2 # Root lies in the interval (0, 1)\n",
        "  return x*math.log10(x) - 4.77\n",
        "n = 0.1    # n > 0 for logarithmic functions \n",
        "cd = float(input(\"Desired interval length: \")) \n",
        "condition  = True\n",
        "while condition:\n",
        "  if f(n)*f(n+cd)<0:\n",
        "    if cd > 0:\n",
        "      print('Root lies in the interval (%0.5f, %0.5f)' %(n, n+cd))\n",
        "      condition = False\n",
        "      break\n",
        "    else:\n",
        "      print('Root lies in the interval (%0.5f, %0.5f)' %(n+cd, n))\n",
        "      condition = False\n",
        "      break\n",
        "  else:\n",
        "    n=n+cd"
      ],
      "execution_count": null,
      "outputs": []
    },
    {
      "cell_type": "code",
      "metadata": {
        "id": "IXzTl8PbfFLd"
      },
      "source": [
        "# Bisection Method Algorithm:\n",
        "# 1. Choose a starting interval [a0,b0] such that f(a0)f(b0)<0.\n",
        "# 2. Compute  m where  m = a0 + b0 / 2 is the midpoint\n",
        "# 3. Determine the next subinterval [a1,b1] :\n",
        "#     If f(m0)<0, then let [a1,b1] be the next interval with a1 = a0 and b1=m0 .\n",
        "#     If f(m0)>0, then let [a1,b1] be the next interval with a1 = m0 and b1=b0 .\n",
        "# 4.Repeat (2) and (3) until the interval [aN,bN]  reaches some predetermined length.\n",
        "# 5.Return the midpoint value mN = aN+bN/2 .\n",
        "# Defining Function\n",
        "import math\n",
        "def f(x):\n",
        "  return math.cos(x) - x*math.exp(x)  # Root lies in the interval (0, 1)\n",
        "  # return x*math.exp(x) - 2 # Root lies in the interval (0, 1)\n",
        "  # return x**3-2*x-5\n",
        "def bisection(a,b,e):\n",
        "    condition = True\n",
        "    n=1\n",
        "    # while (abs(a-b)>=e):\n",
        "    while condition:\n",
        "      m =  (a + b) / 2\n",
        "      print('Iteration-%d, m = %0.4f and f(m) = %0.4f' % (n, m, f(m)))\n",
        "      if f(a)*f(m)<0:\n",
        "        b = m\n",
        "      else:\n",
        "        a = m\n",
        "      n=n+1\n",
        "      condition = abs(f(m)) > e\n",
        "    print(\"The value of root is : \",\"%.4f\"%m)\n",
        "\n",
        "# Main Program \n",
        "\n",
        "n = 0    # n > 0 for logarithmic functions \n",
        "cd = float(input(\"Desired interval length: \")) \n",
        "condition  = True\n",
        "while condition:\n",
        "  a=n\n",
        "  b=n+cd\n",
        "  if f(a)*f(b)<0:\n",
        "    if cd > 0:\n",
        "      print('Root lies in the interval (%0.5f, %0.5f)' %(a, b))\n",
        "      e = float(input(\"tolerable error:\"))\n",
        "      bisection(a,b,e)\n",
        "      condition = False\n",
        "      # break\n",
        "    else:\n",
        "      print('Root lies in the interval (%0.5f, %0.5f)' %(b, a))\n",
        "      condition = False\n",
        "      e = float(input(\"tolerable error:\"))\n",
        "      bisection(b,a,e)\n",
        "      # break\n",
        "  else:\n",
        "    n=n+cd"
      ],
      "execution_count": null,
      "outputs": []
    },
    {
      "cell_type": "code",
      "metadata": {
        "id": "RX89t-tLq7Jb"
      },
      "source": [
        "# Regula-Falsi Method \n",
        "# 1. Choose a starting interval [a0,b0] such that f(a0)f(b0)<0.\n",
        "# 2. Compute  m where  m = ((a*f(b))-(b*f(a))) / (f(b)-f(a))\n",
        "# 3. Determine the next subinterval [a1,b1] :\n",
        "#     If f(a0)f(m0)<0, then let [a1,b1] be the next interval with a1 = a0 and b1=m0 .\n",
        "#     If f(b0)f(m0)<0, then let [a1,b1] be the next interval with a1 = m0 and b1=b0  .\n",
        "# 4.Repeat (2) and (3) until the interval [aN,bN]  reaches some predetermined length.\n",
        "# 5.Return the midpoint value mN = aN+bN/2 .\n",
        "# Defining Function\n",
        "import  math\n",
        "def f(x):\n",
        "  # return math.cos(x) - x*math.exp(x)  # Root lies in the interval (0, 1)\n",
        "  # return x*math.exp(x) - 2 # Root lies in the interval (0, 1)\n",
        "  return x**3-4*x-9\n",
        "\n",
        "def RegulaFalsi(a,b,e):\n",
        "    condition = True\n",
        "    n=1\n",
        "    while condition:\n",
        "      m =  ((a*f(b))-(b*f(a))) / (f(b)-f(a))\n",
        "      print('Iteration-%d, m = %0.4f and f(m) = %0.4f' % (n, m, f(m)))\n",
        "      if f(a)*f(m)<0:\n",
        "        b = m\n",
        "      else:\n",
        "        a = m\n",
        "      n=n+1\n",
        "      condition = abs(f(m)) > e\n",
        "    print(\"The value of root is : \",\"%.4f\"%m)\n",
        "\n",
        "# Main Program \n",
        "\n",
        "n = 0    # n > 0 for logarithmic functions \n",
        "cd = float(input(\"Desired interval length: \")) \n",
        "condition  = True\n",
        "while condition:\n",
        "  a=n\n",
        "  b=n+cd\n",
        "  if f(a)*f(b)<0:\n",
        "    if cd > 0:\n",
        "      print('Root lies in the interval (%0.5f, %0.5f)' %(a, b))\n",
        "      e = float(input(\"tolerable error:\"))\n",
        "      RegulaFalsi(a,b,e)\n",
        "      condition = False\n",
        "      # break\n",
        "    else:\n",
        "      print('Root lies in the interval (%0.5f, %0.5f)' %(b, a))\n",
        "      condition = False\n",
        "      e = float(input(\"tolerable error:\"))\n",
        "      RegulaFalsi(b,a,e)\n",
        "      # break\n",
        "  else:\n",
        "    n=n+cd"
      ],
      "execution_count": null,
      "outputs": []
    },
    {
      "cell_type": "code",
      "metadata": {
        "id": "bfV6JCI46dKH"
      },
      "source": [
        "# Newton- Raphson Method\n",
        "\n",
        "# Defining function and derivatives\n",
        "import math\n",
        "def f(x):\n",
        "  return x**4 - x-10\n",
        "    # return 3*x-math.cos(x)-1\n",
        "def df(x):\n",
        "  return 4*x**3 -1\n",
        "    # return 3 + math.sin(x)\n",
        "# Implementation of the method\n",
        "def NR(x0, e):\n",
        "  n = 1\n",
        "  x1 = x0 - f(x0)/df(x0)\n",
        "  while abs(f(x1)) >e:\n",
        "     x1 = x0 - f(x0)/df(x0)\n",
        "     print('Iteration-%d, x1 = %0.5f' % (n, x1))\n",
        "     x0=x1\n",
        "     n=n+1\n",
        "  # while abs(f(x0) / df(x0)) >e:\n",
        "  #    x1 = x0 - f(x0)/df(x0)\n",
        "  #    print('Iteration-%d, x1 = %0.4f' % (n, x1))\n",
        "  #    x0=x1\n",
        "  #    n=n+1\n",
        "  print('\\nRequired root is: %0.4f' % x1)\n",
        "\n",
        "# Main Program \n",
        "\n",
        "n = 0    # n > 0 for logarithmic functions \n",
        "cd = float(input(\"Desired interval length: \")) \n",
        "condition  = True\n",
        "while condition:\n",
        "  a=n\n",
        "  b=n+cd\n",
        "  if f(a)*f(b)<0:\n",
        "    if cd > 0:\n",
        "      print('Root lies in the interval (%0.5f, %0.5f)' %(a, b))\n",
        "      print(f(a),f(b))\n",
        "      x0 = float(input(\"Initial guess:\"))\n",
        "      e = float(input(\"tolerable error:\"))\n",
        "      NR(x0,e)\n",
        "      condition = False\n",
        "      # break\n",
        "    else:\n",
        "      print('Root lies in the interval (%0.5f, %0.5f)' %(b, a))\n",
        "      condition = False\n",
        "      print(f(a),f(b))\n",
        "      x0 = float(input(\"Initial guess:\"))\n",
        "      e = float(input(\"tolerable error:\"))\n",
        "      NR(x0,e)\n",
        "      # break\n",
        "  else:\n",
        "    n=n+cd"
      ],
      "execution_count": null,
      "outputs": []
    }
  ]
}