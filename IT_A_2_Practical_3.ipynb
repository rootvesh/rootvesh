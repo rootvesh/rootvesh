{
  "nbformat": 4,
  "nbformat_minor": 0,
  "metadata": {
    "colab": {
      "name": " IT-A-2-Practical-3.ipynb",
      "provenance": [],
      "collapsed_sections": [],
      "authorship_tag": "ABX9TyO1Vhcc8APvfoDJwCtN++sc",
      "include_colab_link": true
    },
    "kernelspec": {
      "name": "python3",
      "display_name": "Python 3"
    },
    "language_info": {
      "name": "python"
    }
  },
  "cells": [
    {
      "cell_type": "markdown",
      "metadata": {
        "id": "view-in-github",
        "colab_type": "text"
      },
      "source": [
        "<a href=\"https://colab.research.google.com/github/rootvesh/rootvesh/blob/main/IT_A_2_Practical_3.ipynb\" target=\"_parent\"><img src=\"https://colab.research.google.com/assets/colab-badge.svg\" alt=\"Open In Colab\"/></a>"
      ]
    },
    {
      "cell_type": "code",
      "metadata": {
        "id": "hivf4GNtpxCY"
      },
      "source": [
        " # Data types in Python-Python Numbers "
      ],
      "execution_count": null,
      "outputs": []
    },
    {
      "cell_type": "code",
      "metadata": {
        "id": "9jzHwtgHp10I"
      },
      "source": [
        "Python List"
      ],
      "execution_count": null,
      "outputs": []
    },
    {
      "cell_type": "code",
      "metadata": {
        "colab": {
          "base_uri": "https://localhost:8080/"
        },
        "id": "BLpf7oP7p7Sh",
        "outputId": "a56156cc-463d-432d-d549-7764592b5359"
      },
      "source": [
        "a = [5,10,15,20,25,30,35,40]\n",
        "\n",
        "# a[4] = 25\n",
        "print(\"a[4] = \", a[4])\n",
        "\n",
        "# a[0:3] = [5, 10, 15]\n",
        "print(\"a[0:3] = \", a[0:3])\n",
        "\n",
        "# a[5:] = [30, 35, 40]\n",
        "print(\"a[5:] = \", a[5:])\n",
        "print(\"a[:]=\",a[:])"
      ],
      "execution_count": 2,
      "outputs": [
        {
          "output_type": "stream",
          "text": [
            "a[4] =  25\n",
            "a[0:3] =  [5, 10, 15]\n",
            "a[5:] =  [30, 35, 40]\n",
            "a[:]= [5, 10, 15, 20, 25, 30, 35, 40]\n"
          ],
          "name": "stdout"
        }
      ]
    },
    {
      "cell_type": "code",
      "metadata": {
        "colab": {
          "base_uri": "https://localhost:8080/"
        },
        "id": "rw6yfKAvqoLF",
        "outputId": "3ecee458-6de0-4cd4-a2ec-2e5192aead84"
      },
      "source": [
        "# Negative indexing in lists\n",
        "my_list = ['p','r','o','b','e']\n",
        "\n",
        "print(my_list[-1])\n",
        "\n",
        "print(my_list[-3])"
      ],
      "execution_count": 3,
      "outputs": [
        {
          "output_type": "stream",
          "text": [
            "e\n",
            "o\n"
          ],
          "name": "stdout"
        }
      ]
    },
    {
      "cell_type": "code",
      "metadata": {
        "colab": {
          "base_uri": "https://localhost:8080/"
        },
        "id": "GHfYakKCq1yV",
        "outputId": "410b0575-15fe-4549-93fb-b893ba9dcc44"
      },
      "source": [
        "'''How to slice lists in Python?\n",
        "We can access a range of items in a list by using the slicing operator :(colon).'''\n",
        "# List slicing in Python\n",
        "\n",
        "my_list = ['p','r','o','g','r','a','m','i','z']\n",
        "\n",
        "# elements 3rd to 5th\n",
        "print(my_list[2:5])\n",
        "\n",
        "# elements beginning to 4th\n",
        "print(my_list[:-5])\n",
        "\n",
        "# elements 6th to end\n",
        "print(my_list[5:])\n",
        "\n",
        "# elements beginning to end\n",
        "print(my_list[:])"
      ],
      "execution_count": null,
      "outputs": [
        {
          "output_type": "stream",
          "text": [
            "['o', 'g', 'r']\n",
            "['p', 'r', 'o', 'g']\n",
            "['a', 'm', 'i', 'z']\n",
            "['p', 'r', 'o', 'g', 'r', 'a', 'm', 'i', 'z']\n"
          ],
          "name": "stdout"
        }
      ]
    },
    {
      "cell_type": "code",
      "metadata": {
        "colab": {
          "base_uri": "https://localhost:8080/"
        },
        "id": "pnAlQVDSryG-",
        "outputId": "09a1d577-e205-4e54-e6d5-8ce340bc1941"
      },
      "source": [
        "# Correcting mistake values in a list\n",
        "odd = [2, 4, 6, 8]\n",
        "\n",
        "# change the 1st item    \n",
        "odd[0] = 1            \n",
        "\n",
        "print(odd)\n",
        "\n",
        "# change 2nd to 4th items\n",
        "odd[1:4] = [3, 5, 7]  \n",
        "\n",
        "print(odd)    "
      ],
      "execution_count": null,
      "outputs": [
        {
          "output_type": "stream",
          "text": [
            "[1, 4, 6, 8]\n",
            "[1, 3, 5, 7]\n"
          ],
          "name": "stdout"
        }
      ]
    },
    {
      "cell_type": "code",
      "metadata": {
        "colab": {
          "base_uri": "https://localhost:8080/"
        },
        "id": "MyfZuxHar-WI",
        "outputId": "9939c747-bd30-4ba3-ba4b-0e7718948e24"
      },
      "source": [
        "# We can add one item to a list using the append() method or add several items using extend() method.\n",
        "# Appending and Extending lists in Python\n",
        "odd = [1, 3, 5]\n",
        "\n",
        "odd.append(7)\n",
        "\n",
        "print(odd)\n",
        "\n",
        "odd.extend([9, 11, 13])\n",
        "\n",
        "print(odd)"
      ],
      "execution_count": null,
      "outputs": [
        {
          "output_type": "stream",
          "text": [
            "[1, 3, 5, 7]\n",
            "[1, 3, 5, 7, 9, 11, 13]\n"
          ],
          "name": "stdout"
        }
      ]
    },
    {
      "cell_type": "code",
      "metadata": {
        "colab": {
          "base_uri": "https://localhost:8080/"
        },
        "id": "I6QugIfxsZeP",
        "outputId": "5870b56a-b920-4102-8b3d-36c272d18d11"
      },
      "source": [
        "#We can also use + operator to combine two lists. This is also called concatenation.\n",
        "#The * operator repeats a list for the given number of times.\n",
        "# Concatenating and repeating lists\n",
        "odd = [1, 3, 5]\n",
        "\n",
        "print(odd + [9, 7, 5])\n",
        "\n",
        "print([\"re\"] * 3)"
      ],
      "execution_count": null,
      "outputs": [
        {
          "output_type": "stream",
          "text": [
            "[1, 3, 5, 9, 7, 5]\n",
            "['re', 're', 're']\n"
          ],
          "name": "stdout"
        }
      ]
    },
    {
      "cell_type": "code",
      "metadata": {
        "colab": {
          "base_uri": "https://localhost:8080/"
        },
        "id": "LJFhzf76tBv9",
        "outputId": "b1297942-48a2-4615-a4ae-8d8c86e4ed1c"
      },
      "source": [
        "#Delete/Remove List Elements\n",
        "#We can delete one or more items from a list using the keyword del. It can even delete the list entirely.\n",
        "my_list = ['p', 'r', 'o', 'b', 'l', 'e', 'm']\n",
        "\n",
        "# delete one item\n",
        "del my_list[2]\n",
        "\n",
        "print(my_list)\n",
        "\n",
        "# delete multiple items\n",
        "del my_list[1:5]\n",
        "\n",
        "print(my_list)\n",
        "\n",
        "# delete entire list\n",
        "del my_list\n"
      ],
      "execution_count": null,
      "outputs": [
        {
          "output_type": "stream",
          "text": [
            "['p', 'r', 'b', 'l', 'e', 'm']\n",
            "['p', 'm']\n"
          ],
          "name": "stdout"
        }
      ]
    },
    {
      "cell_type": "code",
      "metadata": {
        "colab": {
          "base_uri": "https://localhost:8080/"
        },
        "id": "ykrtl6xisjIt",
        "outputId": "8b34eb67-537d-44d6-cc22-8032999fea1d"
      },
      "source": [
        "my_list = ['p','r','o','b','l','e','m']\n",
        "my_list.remove('p')\n",
        "\n",
        "# Output: ['r', 'o', 'b', 'l', 'e', 'm']\n",
        "print(my_list)\n",
        "\n",
        "# Output: 'o'\n",
        "print(my_list.pop(1))\n",
        "\n",
        "# Output: ['r', 'b', 'l', 'e', 'm']\n",
        "print(my_list)\n",
        "\n",
        "# Output: 'm'\n",
        "print(my_list.pop())\n",
        "\n",
        "# Output: ['r', 'b', 'l', 'e']\n",
        "print(my_list)\n",
        "\n",
        "my_list.clear()\n"
      ],
      "execution_count": null,
      "outputs": [
        {
          "output_type": "stream",
          "text": [
            "['r', 'o', 'b', 'l', 'e', 'm']\n",
            "o\n",
            "['r', 'b', 'l', 'e', 'm']\n",
            "m\n",
            "['r', 'b', 'l', 'e']\n"
          ],
          "name": "stdout"
        }
      ]
    },
    {
      "cell_type": "code",
      "metadata": {
        "colab": {
          "base_uri": "https://localhost:8080/"
        },
        "id": "NBIYVYfjucoG",
        "outputId": "620c08db-0336-4d5a-ad65-205d02403084"
      },
      "source": [
        "# Python list methods\n",
        "my_list = [3, 8, 1, 8, 0, 8, 4]\n",
        "\n",
        "# Output: 1\n",
        "print(my_list.index(8))\n",
        "\n",
        "# Output: 2\n",
        "print(my_list.count(8))\n",
        "\n",
        "my_list.sort()\n",
        "\n",
        "# Output: [0, 1, 3, 4, 8, 8, 8]\n",
        "print(my_list)\n",
        "\n",
        "my_list.reverse()\n",
        "\n",
        "# Output: [8, 8, 8, 4, 3, 1, 0]\n",
        "print(my_list)"
      ],
      "execution_count": null,
      "outputs": [
        {
          "output_type": "stream",
          "text": [
            "1\n",
            "3\n",
            "[0, 1, 3, 4, 8, 8, 8]\n",
            "[8, 8, 8, 4, 3, 1, 0]\n"
          ],
          "name": "stdout"
        }
      ]
    },
    {
      "cell_type": "code",
      "metadata": {
        "colab": {
          "base_uri": "https://localhost:8080/"
        },
        "id": "AO1JiVY7vTes",
        "outputId": "ed452e8a-1d47-4fb3-d35f-8614c68984db"
      },
      "source": [
        "#List Membership Test\n",
        "#We can test if an item exists in a list or not, using the keyword in.\n",
        "my_list = ['p', 'r', 'o', 'b', 'l', 'e', 'm']\n",
        "\n",
        "# Output: True\n",
        "print('p' in my_list)\n",
        "\n",
        "# Output: False\n",
        "print('a' in my_list)\n",
        "\n",
        "# Output: True\n",
        "print('c' not in my_list)"
      ],
      "execution_count": null,
      "outputs": [
        {
          "output_type": "stream",
          "text": [
            "True\n",
            "False\n",
            "True\n"
          ],
          "name": "stdout"
        }
      ]
    },
    {
      "cell_type": "code",
      "metadata": {
        "colab": {
          "base_uri": "https://localhost:8080/"
        },
        "id": "x2gFjXqLvnhn",
        "outputId": "2bd7f989-973f-4e6d-bd27-e88ccc5f1323"
      },
      "source": [
        "#Iterating Through a List\n",
        "#Using a for loop we can iterate through each item in a list.\n",
        "\n",
        "for fruit in ['apple','banana','mango',\"orange\"]:\n",
        "    print(\"I like\",fruit)"
      ],
      "execution_count": null,
      "outputs": [
        {
          "output_type": "stream",
          "text": [
            "I like apple\n",
            "I like banana\n",
            "I like mango\n",
            "I like orange\n"
          ],
          "name": "stdout"
        }
      ]
    },
    {
      "cell_type": "code",
      "metadata": {
        "id": "1BJ8VQkEdUAi",
        "colab": {
          "base_uri": "https://localhost:8080/"
        },
        "outputId": "557bc6ee-5714-4e8b-da44-e716163bc48c"
      },
      "source": [
        "#Python Tuple\n",
        "#Tuple is an ordered sequence of items same as a list. \n",
        "#The only difference is that tuples are immutable. Tuples once created cannot be modified.\n",
        "#It is defined within parentheses () where items are separated by commas.\n",
        "# Different types of tuples\n",
        "\n",
        "# Empty tuple\n",
        "my_tuple = ()\n",
        "print(my_tuple)\n",
        "\n",
        "# Tuple having integers\n",
        "my_tuple = (1, 2, 3)\n",
        "print(my_tuple)\n",
        "\n",
        "# tuple with mixed datatypes\n",
        "my_tuple = (1, \"Hello\", 3.4)\n",
        "print(my_tuple)\n",
        "\n",
        "# nested tuple\n",
        "my_tuple = (\"mouse\", [8, 4, 6], (1, 2, 3))\n",
        "print(my_tuple)\n"
      ],
      "execution_count": null,
      "outputs": [
        {
          "output_type": "stream",
          "text": [
            "()\n",
            "(1, 2, 3)\n",
            "(1, 'Hello', 3.4)\n",
            "('mouse', [8, 4, 6], (1, 2, 3))\n"
          ],
          "name": "stdout"
        }
      ]
    },
    {
      "cell_type": "code",
      "metadata": {
        "colab": {
          "base_uri": "https://localhost:8080/"
        },
        "id": "sSxLSgq2xTok",
        "outputId": "b8146a43-8b36-4128-f993-1d756cbb86f2"
      },
      "source": [
        "# A tuple can also be created without using parentheses. This is known as tuple packing.\n",
        "my_tuple = 3, 4.6, \"dog\"\n",
        "print(my_tuple)\n",
        "\n",
        "# tuple unpacking is also possible\n",
        "a, b, c = my_tuple\n",
        "\n",
        "print(a)      # 3\n",
        "print(b)      # 4.6\n",
        "print(c)      # dog"
      ],
      "execution_count": null,
      "outputs": [
        {
          "output_type": "stream",
          "text": [
            "(3, 4.6, 'dog')\n",
            "3\n",
            "4.6\n",
            "dog\n"
          ],
          "name": "stdout"
        }
      ]
    },
    {
      "cell_type": "code",
      "metadata": {
        "colab": {
          "base_uri": "https://localhost:8080/"
        },
        "id": "HBWf57Gfxrx9",
        "outputId": "3da854f1-b535-486a-c9ff-8be16abe40f1"
      },
      "source": [
        "#Creating a tuple with one element is a bit tricky.\n",
        "\n",
        "#Having one element within parentheses is not enough. We will need a trailing comma to indicate that it is, in fact, a tuple.\n",
        "\n",
        "my_tuple = (\"hello\")\n",
        "print(type(my_tuple))  # <class 'str'>\n",
        "\n",
        "# Creating a tuple having one element\n",
        "my_tuple = (\"hello\",)\n",
        "print(type(my_tuple))  # <class 'tuple'>\n",
        "\n",
        "# Parentheses is optional\n",
        "my_tuple = \"hello\",\n",
        "print(type(my_tuple))  # <class 'tuple'>"
      ],
      "execution_count": null,
      "outputs": [
        {
          "output_type": "stream",
          "text": [
            "<class 'str'>\n",
            "<class 'tuple'>\n",
            "<class 'tuple'>\n"
          ],
          "name": "stdout"
        }
      ]
    },
    {
      "cell_type": "code",
      "metadata": {
        "colab": {
          "base_uri": "https://localhost:8080/"
        },
        "id": "aWlk3NhfyUs7",
        "outputId": "56ac8315-57b1-4c9d-fb77-94f8f6c384ec"
      },
      "source": [
        "#Access Tuple Elements\n",
        "#We can use the index operator [] to access an item in a tuple, where the index starts from 0.\n",
        "# Accessing tuple elements using indexing\n",
        "my_tuple = ('p','e','r','m','i','t')\n",
        "\n",
        "print(my_tuple[0])   # 'p' \n",
        "print(my_tuple[5])   # 't'\n",
        "\n",
        "# IndexError: list index out of range\n",
        "# print(my_tuple[6])\n",
        "\n",
        "# Index must be an integer\n",
        "# TypeError: list indices must be integers, not float\n",
        "# my_tuple[2.0]\n",
        "\n",
        "# nested tuple\n",
        "n_tuple = (\"mouse\", [8, 4, 6], (1, 2, 3))\n",
        "\n",
        "# nested index\n",
        "print(n_tuple[0][4])       # 'e'\n",
        "print(n_tuple[2][0])       # 1\n",
        "print(n_tuple[1][1])"
      ],
      "execution_count": null,
      "outputs": [
        {
          "output_type": "stream",
          "text": [
            "p\n",
            "t\n",
            "e\n",
            "1\n",
            "4\n"
          ],
          "name": "stdout"
        }
      ]
    },
    {
      "cell_type": "code",
      "metadata": {
        "colab": {
          "base_uri": "https://localhost:8080/"
        },
        "id": "9fcg0FOOzEiz",
        "outputId": "12240dd0-8cdb-4a82-b8b8-509144012a09"
      },
      "source": [
        "# Negative Indexing\n",
        "#Python allows negative indexing for its sequences.\n",
        "\n",
        "#The index of -1 refers to the last item, -2 to the second last item and so on.\n",
        "# Negative indexing for accessing tuple elements\n",
        "my_tuple = ('p', 'e', 'r', 'm', 'i', 't')\n",
        "\n",
        "# Output: 't'\n",
        "print(my_tuple[-1])\n",
        "\n",
        "# Output: 'r'\n",
        "print(my_tuple[-4])"
      ],
      "execution_count": null,
      "outputs": [
        {
          "output_type": "stream",
          "text": [
            "t\n",
            "r\n"
          ],
          "name": "stdout"
        }
      ]
    },
    {
      "cell_type": "code",
      "metadata": {
        "colab": {
          "base_uri": "https://localhost:8080/"
        },
        "id": "N9NxwQQbzXSk",
        "outputId": "2ce67391-a7d8-46c6-a45c-d4663ab1f342"
      },
      "source": [
        "# Slicing\n",
        "#We can access a range of items in a tuple by using the slicing operator colon :.\n",
        "# Accessing tuple elements using slicing\n",
        "my_tuple = ('p','r','o','g','r','a','m','i','z')\n",
        "\n",
        "# elements 2nd to 4th\n",
        "# Output: ('r', 'o', 'g')\n",
        "print(my_tuple[1:4])\n",
        "\n",
        "# elements beginning to 2nd\n",
        "# Output: ('p', 'r')\n",
        "print(my_tuple[:-7])\n",
        "\n",
        "# elements 8th to end\n",
        "# Output: ('i', 'z')\n",
        "print(my_tuple[7:])\n",
        "\n",
        "# elements beginning to end\n",
        "# Output: ('p', 'r', 'o', 'g', 'r', 'a', 'm', 'i', 'z')\n",
        "print(my_tuple[:])"
      ],
      "execution_count": null,
      "outputs": [
        {
          "output_type": "stream",
          "text": [
            "('r', 'o', 'g')\n",
            "('p', 'r')\n",
            "('i', 'z')\n",
            "('p', 'r', 'o', 'g', 'r', 'a', 'm', 'i', 'z')\n"
          ],
          "name": "stdout"
        }
      ]
    },
    {
      "cell_type": "code",
      "metadata": {
        "colab": {
          "base_uri": "https://localhost:8080/"
        },
        "id": "l0U54YcBzp8G",
        "outputId": "6ad0b39f-d4dc-4862-dcbd-059c33080e82"
      },
      "source": [
        "# Changing tuple values\n",
        "my_tuple = (4, 2, 3, [6, 5])\n",
        "\n",
        "\n",
        "# TypeError: 'tuple' object does not support item assignment\n",
        "# my_tuple[1] = 9\n",
        "\n",
        "# However, item of mutable element can be changed\n",
        "my_tuple[3][0] = 9    # Output: (4, 2, 3, [9, 5])\n",
        "print(my_tuple)\n",
        "\n",
        "# Tuples can be reassigned\n",
        "my_tuple = ('p', 'r', 'o', 'g', 'r', 'a', 'm', 'i', 'z')\n",
        "\n",
        "# Output: ('p', 'r', 'o', 'g', 'r', 'a', 'm', 'i', 'z')\n",
        "print(my_tuple)"
      ],
      "execution_count": null,
      "outputs": [
        {
          "output_type": "stream",
          "text": [
            "(4, 2, 3, [9, 5])\n",
            "('p', 'r', 'o', 'g', 'r', 'a', 'm', 'i', 'z')\n"
          ],
          "name": "stdout"
        }
      ]
    },
    {
      "cell_type": "code",
      "metadata": {
        "colab": {
          "base_uri": "https://localhost:8080/"
        },
        "id": "Hv7DfNey0S3D",
        "outputId": "37f055ed-be01-4b93-855f-84594d217040"
      },
      "source": [
        "# Concatenation\n",
        "# Output: (1, 2, 3, 4, 5, 6)\n",
        "print((1, 2, 3) + (4, 5, 6))\n",
        "\n",
        "# Repeat\n",
        "# Output: ('Repeat', 'Repeat', 'Repeat')\n",
        "print((\"Repeat\",) * 3)"
      ],
      "execution_count": null,
      "outputs": [
        {
          "output_type": "stream",
          "text": [
            "(1, 2, 3, 4, 5, 6)\n",
            "('Repeat', 'Repeat', 'Repeat')\n"
          ],
          "name": "stdout"
        }
      ]
    },
    {
      "cell_type": "code",
      "metadata": {
        "colab": {
          "base_uri": "https://localhost:8080/"
        },
        "id": "-R9Kd_qQ0mXM",
        "outputId": "24b2b09f-21b1-4c63-a9cd-8946d95dcbeb"
      },
      "source": [
        "my_tuple = ('a', 'p', 'p', 'l', 'e',)\n",
        "\n",
        "print(my_tuple.count('e'))  # Output: 1\n",
        "print(my_tuple.index('l'))  # Output: 3"
      ],
      "execution_count": null,
      "outputs": [
        {
          "output_type": "stream",
          "text": [
            "1\n",
            "3\n"
          ],
          "name": "stdout"
        }
      ]
    },
    {
      "cell_type": "code",
      "metadata": {
        "colab": {
          "base_uri": "https://localhost:8080/"
        },
        "id": "w-cRpnIQ02lu",
        "outputId": "e42f37ff-dea7-49ec-e924-3b4e33933b65"
      },
      "source": [
        "#1. Tuple Membership Test\n",
        "#We can test if an item exists in a tuple or not, using the keyword in.\n",
        "# Membership test in tuple\n",
        "my_tuple = ('a', 'p', 'p', 'l', 'e',)\n",
        "\n",
        "# In operation\n",
        "print('a' in my_tuple)\n",
        "print('b' in my_tuple)\n",
        "\n",
        "# Not in operation\n",
        "print('g' not in my_tuple)"
      ],
      "execution_count": null,
      "outputs": [
        {
          "output_type": "stream",
          "text": [
            "True\n",
            "False\n",
            "True\n"
          ],
          "name": "stdout"
        }
      ]
    },
    {
      "cell_type": "code",
      "metadata": {
        "colab": {
          "base_uri": "https://localhost:8080/"
        },
        "id": "9CKifrrC1E_j",
        "outputId": "aaacdd2f-ae0e-41d9-c36f-6835982b4b73"
      },
      "source": [
        "#2. Iterating Through a Tuple\n",
        "#We can use a for loop to iterate through each item in a tuple.\n",
        "# Using a for loop to iterate through a tuple\n",
        "for name in ('John', 'Kate','Vihaan',\"Kushal\"):\n",
        "    print(\"Jay Jalaram\", name)"
      ],
      "execution_count": null,
      "outputs": [
        {
          "output_type": "stream",
          "text": [
            "Jay Jalaram John\n",
            "Jay Jalaram Kate\n",
            "Jay Jalaram Vihaan\n",
            "Jay Jalaram Kushal\n"
          ],
          "name": "stdout"
        }
      ]
    },
    {
      "cell_type": "code",
      "metadata": {
        "id": "eF_UWq4W1my9"
      },
      "source": [
        "#Advantages of Tuple over List\n",
        "#Since tuples are quite similar to lists, both of them are used in similar situations. However, there are certain advantages of implementing a tuple over a list. Below listed are some of the main advantages:\n",
        "\n",
        "#We generally use tuples for heterogeneous (different) data types and lists for homogeneous (similar) data types.\n",
        "#Since tuples are immutable, iterating through a tuple is faster than with list. So there is a slight performance boost.\n",
        "#Tuples that contain immutable elements can be used as a key for a dictionary. With lists, this is not possible.\n",
        "#If you have data that doesn't change, implementing it as tuple will guarantee that it remains write-protected."
      ],
      "execution_count": null,
      "outputs": []
    },
    {
      "cell_type": "code",
      "metadata": {
        "colab": {
          "base_uri": "https://localhost:8080/"
        },
        "id": "Vl4v_F-O3hPr",
        "outputId": "7b878c90-daba-48d9-a2f9-488fdcafab4b"
      },
      "source": [
        "#Example: Python while Loop\n",
        "#Program to add natural\n",
        "# numbers up to \n",
        "# sum = 1+2+3+...+n\n",
        "\n",
        "# To take input from the user,\n",
        "n = int(input(\"Enter n: \"))\n",
        "\n",
        "# initialize sum and counter\n",
        "sum = 0\n",
        "i = 1\n",
        "while i <= n:\n",
        "    sum = sum + i\n",
        "    i = i+1    # update counter\n",
        "\n",
        "# print the sum\n",
        "print(\"The sum is\", sum)"
      ],
      "execution_count": null,
      "outputs": [
        {
          "output_type": "stream",
          "text": [
            "Enter n: 76\n",
            "The sum is 2926\n"
          ],
          "name": "stdout"
        }
      ]
    },
    {
      "cell_type": "code",
      "metadata": {
        "colab": {
          "base_uri": "https://localhost:8080/"
        },
        "id": "BLMFRrH_4CN6",
        "outputId": "33e19686-802f-46cc-afd4-31c50cb4959e"
      },
      "source": [
        "#Example: Python while Loop\n",
        "#Program to multiply natural\n",
        "# numbers up to \n",
        "# mul = 1*2*3*...*n\n",
        "\n",
        "# To take input from the user,\n",
        "n = int(input(\"Enter n: \"))\n",
        "\n",
        "# initialize sum and counter\n",
        "mul = 1\n",
        "i = 1\n",
        "while i <= n:\n",
        "    mul = mul*i\n",
        "    i = i+1    # update counter\n",
        "\n",
        "# print the mul\n",
        "print(\"The multiplication  is\", mul)"
      ],
      "execution_count": null,
      "outputs": [
        {
          "output_type": "stream",
          "text": [
            "Enter n: 10\n",
            "The multiplication  is 3628800\n"
          ],
          "name": "stdout"
        }
      ]
    },
    {
      "cell_type": "code",
      "metadata": {
        "colab": {
          "base_uri": "https://localhost:8080/"
        },
        "id": "k34oT-KO5SQK",
        "outputId": "f104dc17-d9de-4e63-9587-c2823be38df9"
      },
      "source": [
        "#While loop with else\n",
        "'''Example to illustrate\n",
        "the use of else statement\n",
        "with the while loop'''\n",
        "\n",
        "counter = 0\n",
        "\n",
        "while counter < 9:\n",
        "    print(\"Inside loop\")\n",
        "    counter = counter + 1\n",
        "else:\n",
        "    print(\"Inside else\")"
      ],
      "execution_count": null,
      "outputs": [
        {
          "output_type": "stream",
          "text": [
            "Inside loop\n",
            "Inside loop\n",
            "Inside loop\n",
            "Inside loop\n",
            "Inside loop\n",
            "Inside loop\n",
            "Inside loop\n",
            "Inside loop\n",
            "Inside loop\n",
            "Inside else\n"
          ],
          "name": "stdout"
        }
      ]
    }
  ]
}