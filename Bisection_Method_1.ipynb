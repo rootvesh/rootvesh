{
  "nbformat": 4,
  "nbformat_minor": 0,
  "metadata": {
    "colab": {
      "name": "Untitled3.ipynb",
      "provenance": [],
      "authorship_tag": "ABX9TyOiN1/R8cFab0WW1grSaIPO",
      "include_colab_link": true
    },
    "kernelspec": {
      "name": "python3",
      "display_name": "Python 3"
    },
    "language_info": {
      "name": "python"
    }
  },
  "cells": [
    {
      "cell_type": "markdown",
      "metadata": {
        "id": "view-in-github",
        "colab_type": "text"
      },
      "source": [
        "<a href=\"https://colab.research.google.com/github/rootvesh/rootvesh/blob/main/Bisection_Method_1.ipynb\" target=\"_parent\"><img src=\"https://colab.research.google.com/assets/colab-badge.svg\" alt=\"Open In Colab\"/></a>"
      ]
    },
    {
      "cell_type": "code",
      "metadata": {
        "colab": {
          "base_uri": "https://localhost:8080/"
        },
        "id": "mnfYAvM4BgaB",
        "outputId": "82e868b6-a51a-4a6e-fad3-6ea1a75e4503"
      },
      "source": [
        "# Defining Function\n",
        "def f(x):\n",
        "    return x**3-5*x-9\n",
        "\n",
        "# Implementing Bisection Method\n",
        "def bisection(x0,x1,e):\n",
        "    step = 1\n",
        "    print('\\n\\n*** BISECTION METHOD IMPLEMENTATION ***')\n",
        "    condition = True\n",
        "    while condition:\n",
        "        x2 = (x0 + x1)/2\n",
        "        print('Iteration-%d, x2 = %0.6f and f(x2) = %0.6f' % (step, x2, f(x2)))\n",
        "\n",
        "        if f(x0) * f(x2) < 0:\n",
        "            x1 = x2\n",
        "        else:\n",
        "            x0 = x2\n",
        "        \n",
        "        step = step + 1\n",
        "        condition = abs(f(x2)) > e\n",
        "\n",
        "    print('\\nRequired Root is : %0.8f' % x2)\n",
        "\n",
        "\n",
        "# Input Section\n",
        "x0 = input('First Guess: ')\n",
        "x1 = input('Second Guess: ')\n",
        "e = input('Tolerable Error: ')\n",
        "\n",
        "# Converting input to float\n",
        "x0 = float(x0)\n",
        "x1 = float(x1)\n",
        "e = float(e)\n",
        "\n",
        "#Note: You can combine above two section like this\n",
        "# x0 = float(input('First Guess: '))\n",
        "# x1 = float(input('Second Guess: '))\n",
        "# e = float(input('Tolerable Error: '))\n",
        "\n",
        "\n",
        "# Checking Correctness of initial guess values and bisecting\n",
        "if f(x0) * f(x1) > 0.0:\n",
        "    print('Given guess values do not bracket the root.')\n",
        "    print('Try Again with different guess values.')\n",
        "else:\n",
        "    bisection(x0,x1,e)"
      ],
      "execution_count": 2,
      "outputs": [
        {
          "output_type": "stream",
          "text": [
            "First Guess: 2\n",
            "Second Guess: 3\n",
            "Tolerable Error: 0.0001\n",
            "\n",
            "\n",
            "*** BISECTION METHOD IMPLEMENTATION ***\n",
            "Iteration-1, x2 = 2.500000 and f(x2) = -5.875000\n",
            "Iteration-2, x2 = 2.750000 and f(x2) = -1.953125\n",
            "Iteration-3, x2 = 2.875000 and f(x2) = 0.388672\n",
            "Iteration-4, x2 = 2.812500 and f(x2) = -0.815186\n",
            "Iteration-5, x2 = 2.843750 and f(x2) = -0.221588\n",
            "Iteration-6, x2 = 2.859375 and f(x2) = 0.081448\n",
            "Iteration-7, x2 = 2.851562 and f(x2) = -0.070592\n",
            "Iteration-8, x2 = 2.855469 and f(x2) = 0.005297\n",
            "Iteration-9, x2 = 2.853516 and f(x2) = -0.032680\n",
            "Iteration-10, x2 = 2.854492 and f(x2) = -0.013700\n",
            "Iteration-11, x2 = 2.854980 and f(x2) = -0.004204\n",
            "Iteration-12, x2 = 2.855225 and f(x2) = 0.000546\n",
            "Iteration-13, x2 = 2.855103 and f(x2) = -0.001829\n",
            "Iteration-14, x2 = 2.855164 and f(x2) = -0.000641\n",
            "Iteration-15, x2 = 2.855194 and f(x2) = -0.000048\n",
            "\n",
            "Required Root is : 2.85519409\n"
          ],
          "name": "stdout"
        }
      ]
    }
  ]
}