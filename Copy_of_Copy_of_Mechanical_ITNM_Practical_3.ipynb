{
  "nbformat": 4,
  "nbformat_minor": 0,
  "metadata": {
    "colab": {
      "name": "Copy of Copy of Mechanical_ITNM_Practical-3.ipynb",
      "provenance": [],
      "collapsed_sections": [],
      "authorship_tag": "ABX9TyPLAw/KdvovYUReq5B/UMza",
      "include_colab_link": true
    },
    "kernelspec": {
      "name": "python3",
      "display_name": "Python 3"
    },
    "language_info": {
      "name": "python"
    }
  },
  "cells": [
    {
      "cell_type": "markdown",
      "metadata": {
        "id": "view-in-github",
        "colab_type": "text"
      },
      "source": [
        "<a href=\"https://colab.research.google.com/github/rootvesh/rootvesh/blob/main/Copy_of_Copy_of_Mechanical_ITNM_Practical_3.ipynb\" target=\"_parent\"><img src=\"https://colab.research.google.com/assets/colab-badge.svg\" alt=\"Open In Colab\"/></a>"
      ]
    },
    {
      "cell_type": "code",
      "metadata": {
        "id": "CQhsm8iWaBgI"
      },
      "source": [
        "Data types in Python-Python Numbers "
      ],
      "execution_count": null,
      "outputs": []
    },
    {
      "cell_type": "code",
      "metadata": {
        "colab": {
          "base_uri": "https://localhost:8080/"
        },
        "id": "H8WM6haNbgwO",
        "outputId": "2af63d04-bfd0-404b-b23d-fef51a21fc28"
      },
      "source": [
        "a = 5\n",
        "print(a, \"is of type\", type(a))\n",
        "\n",
        "a = 2.0\n",
        "print(a, \"is of type\", type(a))\n",
        "\n",
        "a = 1+2j\n",
        "print(a, \"is complex number?\", isinstance(1+2j,complex))"
      ],
      "execution_count": null,
      "outputs": [
        {
          "output_type": "stream",
          "text": [
            "5 is of type <class 'int'>\n",
            "2.0 is of type <class 'float'>\n",
            "(1+2j) is complex number? True\n"
          ],
          "name": "stdout"
        }
      ]
    },
    {
      "cell_type": "code",
      "metadata": {
        "id": "9dLeAGkXcZij"
      },
      "source": [
        "Python List"
      ],
      "execution_count": null,
      "outputs": []
    },
    {
      "cell_type": "code",
      "metadata": {
        "colab": {
          "base_uri": "https://localhost:8080/"
        },
        "id": "eucMM4Gmcb1k",
        "outputId": "c51706d7-b927-4c93-dcdf-745def277cca"
      },
      "source": [
        "a = [5,10,15,20,25,30,35,40]\n",
        "\n",
        "# a[2] = 15\n",
        "print(\"a[2] = \", a[2])\n",
        "\n",
        "# a[0:3] = [5, 10, 15]\n",
        "print(\"a[0:3] = \", a[0:3])\n",
        "\n",
        "# a[5:] = [30, 35, 40]\n",
        "print(\"a[5:] = \", a[5:])\n",
        "print(\"a[:]=\",a[:])"
      ],
      "execution_count": null,
      "outputs": [
        {
          "output_type": "stream",
          "text": [
            "a[2] =  15\n",
            "a[0:3] =  [5, 10, 15]\n",
            "a[5:] =  [30, 35, 40]\n",
            "a[:]= [5, 10, 15, 20, 25, 30, 35, 40]\n"
          ],
          "name": "stdout"
        }
      ]
    },
    {
      "cell_type": "code",
      "metadata": {
        "id": "JOLPFhVDkjp-"
      },
      "source": [
        "#A list can also have another list as an item. This is called a nested list.\n",
        "# nested list\n",
        "my_list = [\"mouse\", [8, 4, 6], ['a']]"
      ],
      "execution_count": null,
      "outputs": []
    },
    {
      "cell_type": "code",
      "metadata": {
        "colab": {
          "base_uri": "https://localhost:8080/"
        },
        "id": "bBpw8Jyzk_oc",
        "outputId": "0904331c-bba9-4fc3-ad23-fa1ac39474e3"
      },
      "source": [
        "#Access List Elements\n",
        "#There are various ways in which we can access the elements of a list.\n",
        "\n",
        "#List Index\n",
        "#We can use the index operator [] to access an item in a list. In Python, indices start at 0. So, a list having 5 elements will have an index from 0 to 4.\n",
        "# List indexing\n",
        "\n",
        "my_list = ['p', 'r', 'o', 'b', 'e']\n",
        "\n",
        "# Output: p\n",
        "print(my_list[0])\n",
        "\n",
        "# Output: o\n",
        "print(my_list[2])\n",
        "\n",
        "# Output: e\n",
        "print(my_list[4])\n",
        "\n",
        "# Nested List\n",
        "n_list = [\"Happy\", [2, 0, 1, 5]]\n",
        "\n",
        "# Nested indexing\n",
        "print(n_list[0][1])\n",
        "\n",
        "print(n_list[1][3])\n"
      ],
      "execution_count": null,
      "outputs": [
        {
          "output_type": "stream",
          "text": [
            "p\n",
            "o\n",
            "e\n",
            "a\n",
            "5\n"
          ],
          "name": "stdout"
        }
      ]
    },
    {
      "cell_type": "code",
      "metadata": {
        "colab": {
          "base_uri": "https://localhost:8080/"
        },
        "id": "x-zNuFNVlir0",
        "outputId": "91ae73b9-8470-43a0-d773-f63280a4c4fd"
      },
      "source": [
        "#Negative indexing\n",
        "#Python allows negative indexing for its sequences. The index of -1 refers to the last item, -2 to the second last item and so on.\n",
        "# Negative indexing in lists\n",
        "my_list = ['p','r','o','b','e']\n",
        "\n",
        "print(my_list[-1])\n",
        "\n",
        "print(my_list[-5])"
      ],
      "execution_count": null,
      "outputs": [
        {
          "output_type": "stream",
          "text": [
            "e\n",
            "p\n"
          ],
          "name": "stdout"
        }
      ]
    },
    {
      "cell_type": "code",
      "metadata": {
        "colab": {
          "base_uri": "https://localhost:8080/"
        },
        "id": "iTzA1aeYlwh1",
        "outputId": "a0861be2-547a-43e9-b695-735a51261c4c"
      },
      "source": [
        "#How to slice lists in Python?\n",
        "#We can access a range of items in a list by using the slicing operator :(colon).\n",
        "# List slicing in Python\n",
        "\n",
        "my_list = ['p','r','o','g','r','a','m','i','z']\n",
        "\n",
        "# elements 3rd to 5th\n",
        "print(my_list[2:5])\n",
        "\n",
        "# elements beginning to 4th\n",
        "print(my_list[:-5])\n",
        "\n",
        "# elements 6th to end\n",
        "print(my_list[5:])\n",
        "\n",
        "# elements beginning to end\n",
        "print(my_list[:])"
      ],
      "execution_count": null,
      "outputs": [
        {
          "output_type": "stream",
          "text": [
            "['o', 'g', 'r']\n",
            "['p', 'r', 'o', 'g']\n",
            "['a', 'm', 'i', 'z']\n",
            "['p', 'r', 'o', 'g', 'r', 'a', 'm', 'i', 'z']\n"
          ],
          "name": "stdout"
        }
      ]
    },
    {
      "cell_type": "code",
      "metadata": {
        "colab": {
          "base_uri": "https://localhost:8080/"
        },
        "id": "rZOqu97Amzbk",
        "outputId": "89b3d304-442c-48c0-efe4-1782907ec028"
      },
      "source": [
        "#Iterating Through a List\n",
        "#Using a for loop we can iterate through each item in a list.\n",
        "for fruit in ['apple','banana','mango']:\n",
        "    print(\"I like\",fruit)"
      ],
      "execution_count": null,
      "outputs": [
        {
          "output_type": "stream",
          "text": [
            "I like apple\n",
            "I like banana\n",
            "I like mango\n"
          ],
          "name": "stdout"
        }
      ]
    },
    {
      "cell_type": "code",
      "metadata": {
        "id": "1BJ8VQkEdUAi"
      },
      "source": [
        "#Python Tuple\n",
        "#Tuple is an ordered sequence of items same as a list. \n",
        "#The only difference is that tuples are immutable. Tuples once created cannot be modified.\n",
        "#It is defined within parentheses () where items are separated by commas.\n",
        "\n"
      ],
      "execution_count": null,
      "outputs": []
    },
    {
      "cell_type": "code",
      "metadata": {
        "colab": {
          "base_uri": "https://localhost:8080/"
        },
        "id": "B6h70QpBdVtl",
        "outputId": "2146018c-c0d1-43bf-ad0e-ec4facc03d3b"
      },
      "source": [
        "t = (5,'program', 1+3j)\n",
        "\n",
        "# t[1] = 'program'\n",
        "print(\"t[1] = \", t[1])\n",
        "\n",
        "# t[0:3] = (5, 'program', (1+3j))\n",
        "print(\"t[0:3] = \", t[0:3])"
      ],
      "execution_count": null,
      "outputs": [
        {
          "output_type": "stream",
          "text": [
            "t[1] =  program\n",
            "t[0:3] =  (5, 'program', (1+3j))\n"
          ],
          "name": "stdout"
        }
      ]
    },
    {
      "cell_type": "code",
      "metadata": {
        "colab": {
          "base_uri": "https://localhost:8080/"
        },
        "id": "jBPu__JEeV7s",
        "outputId": "0c8b1b29-b35f-4463-dad6-be8a7fa68a21"
      },
      "source": [
        "#A tuple can have any number of items and they may be of different types (integer, float, list, string, etc.).\n",
        "# Different types of tuples\n",
        "\n",
        "# Empty tuple\n",
        "my_tuple = ()\n",
        "print(my_tuple)\n",
        "\n",
        "# Tuple having integers\n",
        "my_tuple = (1, 2, 3)\n",
        "print(my_tuple)\n",
        "\n",
        "# tuple with mixed datatypes\n",
        "my_tuple = (1, \"Hello\", 3.4)\n",
        "print(my_tuple)\n",
        "\n",
        "# nested tuple\n",
        "my_tuple = (\"mouse\", [8, 4, 6], (1, 2, 3))\n",
        "print(my_tuple)"
      ],
      "execution_count": null,
      "outputs": [
        {
          "output_type": "stream",
          "text": [
            "()\n",
            "(1, 2, 3)\n",
            "(1, 'Hello', 3.4)\n",
            "('mouse', [8, 4, 6], (1, 2, 3))\n"
          ],
          "name": "stdout"
        }
      ]
    },
    {
      "cell_type": "code",
      "metadata": {
        "colab": {
          "base_uri": "https://localhost:8080/"
        },
        "id": "oqoOqL-jel8L",
        "outputId": "c1654068-c2e0-443d-b8f5-9d8ac105e299"
      },
      "source": [
        "#A tuple can also be created without using parentheses. This is known as tuple packing.\n",
        "my_tuple = 3, 4.6, \"dog\"\n",
        "print(my_tuple)\n",
        "\n",
        "# tuple unpacking is also possible\n",
        "a, b, c = my_tuple\n",
        "\n",
        "print(a)      # 3\n",
        "print(b)      # 4.6\n",
        "print(c)      # dog"
      ],
      "execution_count": null,
      "outputs": [
        {
          "output_type": "stream",
          "text": [
            "(3, 4.6, 'dog')\n",
            "3\n",
            "4.6\n",
            "dog\n"
          ],
          "name": "stdout"
        }
      ]
    },
    {
      "cell_type": "code",
      "metadata": {
        "colab": {
          "base_uri": "https://localhost:8080/"
        },
        "id": "KRNhbiWye8u8",
        "outputId": "037e03e5-b392-4a21-8b01-a77af8dd5e74"
      },
      "source": [
        "#Creating a tuple with one element is a bit tricky.\n",
        "\n",
        "#Having one element within parentheses is not enough. We will need a trailing comma to indicate that it is, in fact, a tuple.\n",
        "my_tuple = (\"hello\")\n",
        "print(type(my_tuple))  # <class 'str'>\n",
        "\n",
        "# Creating a tuple having one element\n",
        "my_tuple = (\"hello\",)\n",
        "print(type(my_tuple))  # <class 'tuple'>\n",
        "\n",
        "# Parentheses is optional\n",
        "my_tuple = \"hello\",\n",
        "print(type(my_tuple))  # <class 'tuple'>"
      ],
      "execution_count": null,
      "outputs": [
        {
          "output_type": "stream",
          "text": [
            "<class 'str'>\n",
            "<class 'tuple'>\n",
            "<class 'tuple'>\n"
          ],
          "name": "stdout"
        }
      ]
    },
    {
      "cell_type": "code",
      "metadata": {
        "colab": {
          "base_uri": "https://localhost:8080/"
        },
        "id": "6T_pG_TWfmqj",
        "outputId": "18d59618-71bd-4719-abcc-c56f17a63d1c"
      },
      "source": [
        "#Access Tuple Elements\n",
        "#We can use the index operator [] to access an item in a tuple, where the index starts from 0.\n",
        "# Accessing tuple elements using indexing\n",
        "my_tuple = ('p','e','r','m','i','t')\n",
        "\n",
        "print(my_tuple[0])   # 'p' \n",
        "print(my_tuple[5])   # 't'\n",
        "\n",
        "# IndexError: list index out of range\n",
        "# print(my_tuple[6])\n",
        "\n",
        "# Index must be an integer\n",
        "# TypeError: list indices must be integers, not float\n",
        "# my_tuple[2.0]\n",
        "\n",
        "# nested tuple\n",
        "n_tuple = (\"mouse\", [8, 4, 6], (1, 2, 3))\n",
        "\n",
        "# nested index\n",
        "print(n_tuple[0][3])       # 's'\n",
        "print(n_tuple[1][1])       # 4"
      ],
      "execution_count": null,
      "outputs": [
        {
          "output_type": "stream",
          "text": [
            "p\n",
            "t\n",
            "s\n",
            "4\n"
          ],
          "name": "stdout"
        }
      ]
    },
    {
      "cell_type": "code",
      "metadata": {
        "colab": {
          "base_uri": "https://localhost:8080/"
        },
        "id": "gymuoZWtgTO1",
        "outputId": "32d73a15-69b4-49aa-d266-26f4abcae94f"
      },
      "source": [
        "#Access Tuple Elements\n",
        "#We can use the index operator [] to access an item in a tuple, where the index starts from 0.\n",
        "# Accessing tuple elements using indexing\n",
        "my_tuple = ('p','e','r','m','i','t')\n",
        "\n",
        "print(my_tuple[0])   # 'p' \n",
        "print(my_tuple[5])   # 't'\n",
        "\n",
        "# IndexError: list index out of range\n",
        "# print(my_tuple[6])\n",
        "\n",
        "# Index must be an integer\n",
        "# TypeError: list indices must be integers, not float\n",
        "# my_tuple[2.0]\n",
        "\n",
        "# nested tuple\n",
        "n_tuple = (\"mouse\", [8, 4, 6], (1, 2, 3))\n",
        "\n",
        "# nested index\n",
        "print(n_tuple[0][4])       # 'e'\n",
        "print(n_tuple[2][0])       # 1"
      ],
      "execution_count": null,
      "outputs": [
        {
          "output_type": "stream",
          "text": [
            "p\n",
            "t\n",
            "e\n",
            "1\n"
          ],
          "name": "stdout"
        }
      ]
    },
    {
      "cell_type": "code",
      "metadata": {
        "id": "jLKGXSl5gtEt"
      },
      "source": [
        "# Negative Indexing\n",
        "#Python allows negative indexing for its sequences.\n",
        "\n",
        "#The index of -1 refers to the last item, -2 to the second last item and so on."
      ],
      "execution_count": null,
      "outputs": []
    },
    {
      "cell_type": "code",
      "metadata": {
        "colab": {
          "base_uri": "https://localhost:8080/"
        },
        "id": "IFFLPsvTg6XW",
        "outputId": "7e5dd5a3-9cc6-47c2-aa8d-fa810b2522da"
      },
      "source": [
        "# Negative indexing for accessing tuple elements\n",
        "my_tuple = ('p', 'e', 'r', 'm', 'i', 't')\n",
        "\n",
        "# Output: 't'\n",
        "print(my_tuple[-1])\n",
        "\n",
        "# Output: 'e'\n",
        "print(my_tuple[-5])"
      ],
      "execution_count": null,
      "outputs": [
        {
          "output_type": "stream",
          "text": [
            "t\n",
            "e\n"
          ],
          "name": "stdout"
        }
      ]
    },
    {
      "cell_type": "code",
      "metadata": {
        "colab": {
          "base_uri": "https://localhost:8080/"
        },
        "id": "tUd5k942hMOt",
        "outputId": "db2dd26f-cd02-464b-dd65-f73a582d2b01"
      },
      "source": [
        "# Slicing\n",
        "#We can access a range of items in a tuple by using the slicing operator colon :.\n",
        "# Accessing tuple elements using slicing\n",
        "my_tuple = ('p','r','o','g','r','a','m','i','z')\n",
        "\n",
        "# elements 2nd to 4th\n",
        "# Output: ('r', 'o', 'g')\n",
        "print(my_tuple[1:4])\n",
        "\n",
        "# elements beginning to 2nd\n",
        "# Output: ('p', 'r')\n",
        "print(my_tuple[:-7])\n",
        "\n",
        "# elements 8th to end\n",
        "# Output: ('i', 'z')\n",
        "print(my_tuple[7:])\n",
        "\n",
        "# elements beginning to end\n",
        "# Output: ('p', 'r', 'o', 'g', 'r', 'a', 'm', 'i', 'z')\n",
        "print(my_tuple[:])"
      ],
      "execution_count": null,
      "outputs": [
        {
          "output_type": "stream",
          "text": [
            "('r', 'o', 'g')\n",
            "('p', 'r')\n",
            "('i', 'z')\n",
            "('p', 'r', 'o', 'g', 'r', 'a', 'm', 'i', 'z')\n"
          ],
          "name": "stdout"
        }
      ]
    },
    {
      "cell_type": "code",
      "metadata": {
        "colab": {
          "base_uri": "https://localhost:8080/"
        },
        "id": "XtsJ1WO3iHXg",
        "outputId": "c75e24a4-4b74-46e6-d31b-1e116c8d26f5"
      },
      "source": [
        "#We can use + operator to combine two tuples. This is called concatenation.\n",
        "\n",
        "#We can also repeat the elements in a tuple for a given number of times using the * operator.\n",
        "\n",
        "#Both + and * operations result in a new tuple.\n",
        "# Concatenation\n",
        "# Output: (1, 2, 3, 4, 5, 6)\n",
        "print((1, 2, 3) + (4, 5, 6))\n",
        "\n",
        "# Repeat\n",
        "# Output: ('Repeat', 'Repeat', 'Repeat')\n",
        "print((\"Repeat\",) * 3)"
      ],
      "execution_count": null,
      "outputs": [
        {
          "output_type": "stream",
          "text": [
            "(1, 2, 3, 4, 5, 6)\n",
            "('Repeat', 'Repeat', 'Repeat')\n"
          ],
          "name": "stdout"
        }
      ]
    },
    {
      "cell_type": "code",
      "metadata": {
        "colab": {
          "base_uri": "https://localhost:8080/"
        },
        "id": "01WqdELGisuw",
        "outputId": "2a01a2cc-e039-4eb7-fde2-5500d50fb917"
      },
      "source": [
        "#1. Tuple Membership Test\n",
        "#We can test if an item exists in a tuple or not, using the keyword in.\n",
        "# Membership test in tuple\n",
        "my_tuple = ('a', 'p', 'p', 'l', 'e',)\n",
        "\n",
        "# In operation\n",
        "print('a' in my_tuple)\n",
        "print('b' in my_tuple)\n",
        "\n",
        "# Not in operation\n",
        "print('g' not in my_tuple)"
      ],
      "execution_count": null,
      "outputs": [
        {
          "output_type": "stream",
          "text": [
            "True\n",
            "False\n",
            "True\n"
          ],
          "name": "stdout"
        }
      ]
    },
    {
      "cell_type": "code",
      "metadata": {
        "colab": {
          "base_uri": "https://localhost:8080/"
        },
        "id": "NKpPNw8Si7v6",
        "outputId": "952d6695-a7a1-48d1-9922-ff32c0f13e70"
      },
      "source": [
        "#2. Iterating Through a Tuple\n",
        "#We can use a for loop to iterate through each item in a tuple.\n",
        "# Using a for loop to iterate through a tuple\n",
        "for name in ('John', 'Kate','Kashyap'):\n",
        "    print(\"Hello\", name)"
      ],
      "execution_count": null,
      "outputs": [
        {
          "output_type": "stream",
          "text": [
            "Hello John\n",
            "Hello Kate\n",
            "Hello Kashyap\n"
          ],
          "name": "stdout"
        }
      ]
    },
    {
      "cell_type": "code",
      "metadata": {
        "id": "MiG2Gtn5jhqk"
      },
      "source": [
        "#Advantages of Tuple over List\n",
        "#Since tuples are quite similar to lists, both of them are used in similar situations. However, there are certain advantages of implementing a tuple over a list. Below listed are some of the main advantages:\n",
        "\n",
        "#We generally use tuples for heterogeneous (different) data types and lists for homogeneous (similar) data types.\n",
        "#Since tuples are immutable, iterating through a tuple is faster than with list. So there is a slight performance boost.\n",
        "#Tuples that contain immutable elements can be used as a key for a dictionary. With lists, this is not possible.\n",
        "#If you have data that doesn't change, implementing it as tuple will guarantee that it remains write-protected."
      ],
      "execution_count": null,
      "outputs": []
    }
  ]
}