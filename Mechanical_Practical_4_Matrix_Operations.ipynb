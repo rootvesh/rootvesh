{
  "nbformat": 4,
  "nbformat_minor": 0,
  "metadata": {
    "colab": {
      "name": "Mechanical-Practical-4_Matrix Operations.ipynb",
      "provenance": [],
      "collapsed_sections": [],
      "authorship_tag": "ABX9TyMJVMj1Aew4FQxSJsyIpOfV",
      "include_colab_link": true
    },
    "kernelspec": {
      "name": "python3",
      "display_name": "Python 3"
    },
    "language_info": {
      "name": "python"
    }
  },
  "cells": [
    {
      "cell_type": "markdown",
      "metadata": {
        "id": "view-in-github",
        "colab_type": "text"
      },
      "source": [
        "<a href=\"https://colab.research.google.com/github/rootvesh/rootvesh/blob/main/Mechanical_Practical_4_Matrix_Operations.ipynb\" target=\"_parent\"><img src=\"https://colab.research.google.com/assets/colab-badge.svg\" alt=\"Open In Colab\"/></a>"
      ]
    },
    {
      "cell_type": "code",
      "metadata": {
        "id": "PJ87n34fezdk"
      },
      "source": [
        "#Matrix Operations "
      ],
      "execution_count": null,
      "outputs": []
    },
    {
      "cell_type": "code",
      "metadata": {
        "colab": {
          "base_uri": "https://localhost:8080/",
          "height": 0
        },
        "id": "qtaCoqm-fgtE",
        "outputId": "30b2bd89-1682-4573-c2f5-3ddfca59803e"
      },
      "source": [
        "# Python program to inverse\n",
        "# a matrix using numpy\n",
        "# Import required package\n",
        "import numpy as np\n",
        "# We wanto find the Inverse of the Matrix A,Here A is 3X3 Matrix\n",
        "A=np.array([[1,4 ,7],[2,3,9],[5,2,8]])\n",
        "print(A)\n"
      ],
      "execution_count": 3,
      "outputs": [
        {
          "output_type": "stream",
          "text": [
            "[[1 4 7]\n",
            " [2 3 9]\n",
            " [5 2 8]]\n"
          ],
          "name": "stdout"
        }
      ]
    },
    {
      "cell_type": "code",
      "metadata": {
        "colab": {
          "base_uri": "https://localhost:8080/",
          "height": 0
        },
        "id": "XbaYz211gtnV",
        "outputId": "3116f386-aa52-43c9-f55c-ad129a2cc28e"
      },
      "source": [
        "print(\"The inverse of the Matrix A is :\\n\",np.linalg.inv(A))"
      ],
      "execution_count": 5,
      "outputs": [
        {
          "output_type": "stream",
          "text": [
            "The inverse of the Matrix A is :\n",
            " [[ 0.13333333 -0.4         0.33333333]\n",
            " [ 0.64444444 -0.6         0.11111111]\n",
            " [-0.24444444  0.4        -0.11111111]]\n"
          ],
          "name": "stdout"
        }
      ]
    },
    {
      "cell_type": "code",
      "metadata": {
        "colab": {
          "base_uri": "https://localhost:8080/",
          "height": 0
        },
        "id": "MSJbihsIhc4X",
        "outputId": "4b136a43-b685-4080-b9bd-c04cffaf2186"
      },
      "source": [
        "print(\"The determinat of the Matrix A is :\\n\",np.linalg.det(A))"
      ],
      "execution_count": 6,
      "outputs": [
        {
          "output_type": "stream",
          "text": [
            "The determinat of the Matrix A is :\n",
            " 44.99999999999997\n"
          ],
          "name": "stdout"
        }
      ]
    },
    {
      "cell_type": "code",
      "metadata": {
        "colab": {
          "base_uri": "https://localhost:8080/",
          "height": 0
        },
        "id": "4OhdcUw0rMSK",
        "outputId": "781ce6af-90d4-4167-cfe3-4c600e3d9981"
      },
      "source": [
        "# Importing numpy as np\n",
        "import numpy as np\n",
        " \n",
        " \n",
        "# Rank of a matrix\n",
        "print(\"Rank of A:\", np.linalg.matrix_rank(A))\n",
        " \n",
        "# Trace of matrix A\n",
        "print(\"\\nTrace of A:\", np.trace(A))\n",
        " \n",
        "# Determinant of a matrix\n",
        "print(\"\\nDeterminant of A:\", np.linalg.det(A))\n",
        " \n",
        "# Inverse of matrix A\n",
        "print(\"\\nInverse of A:\\n\", np.linalg.inv(A))\n",
        " \n",
        "print(\"\\nMatrix A raised to power 3:\\n\",\n",
        "           np.linalg.matrix_power(A, 3))"
      ],
      "execution_count": 7,
      "outputs": [
        {
          "output_type": "stream",
          "text": [
            "Rank of A: 3\n",
            "\n",
            "Trace of A: 12\n",
            "\n",
            "Determinant of A: 44.99999999999997\n",
            "\n",
            "Inverse of A:\n",
            " [[ 0.13333333 -0.4         0.33333333]\n",
            " [ 0.64444444 -0.6         0.11111111]\n",
            " [-0.24444444  0.4        -0.11111111]]\n",
            "\n",
            "Matrix A raised to power 3:\n",
            " [[ 599  464 1370]\n",
            " [ 688  543 1590]\n",
            " [ 718  556 1657]]\n"
          ],
          "name": "stdout"
        }
      ]
    },
    {
      "cell_type": "code",
      "metadata": {
        "colab": {
          "base_uri": "https://localhost:8080/",
          "height": 0
        },
        "id": "NWSxfpGsjtsK",
        "outputId": "c0e7e125-96f1-4b95-8b7b-aa925f9ac866"
      },
      "source": [
        "# You need to install numpy in order to import it\n",
        "import numpy as np\n",
        "matrix = np.array([[1,2,3],[4,5,6]])\n",
        "print(matrix)\n",
        "print(\"\\n\")\n",
        "print(matrix.T)"
      ],
      "execution_count": 8,
      "outputs": [
        {
          "output_type": "stream",
          "text": [
            "[[1 2 3]\n",
            " [4 5 6]]\n",
            "\n",
            "\n",
            "[[1 4]\n",
            " [2 5]\n",
            " [3 6]]\n"
          ],
          "name": "stdout"
        }
      ]
    },
    {
      "cell_type": "code",
      "metadata": {
        "colab": {
          "base_uri": "https://localhost:8080/",
          "height": 0
        },
        "id": "nvWl3gt7kNeV",
        "outputId": "6b66b6ca-bada-401c-f373-6bc8708e5204"
      },
      "source": [
        "print(np.linalg.eigvals(A))"
      ],
      "execution_count": 15,
      "outputs": [
        {
          "output_type": "stream",
          "text": [
            "[14.07448299+0.j         -1.03724149+1.45650459j -1.03724149-1.45650459j]\n"
          ],
          "name": "stdout"
        }
      ]
    },
    {
      "cell_type": "code",
      "metadata": {
        "colab": {
          "base_uri": "https://localhost:8080/",
          "height": 0
        },
        "id": "_wfxNGJ0mL4T",
        "outputId": "90f34de7-2109-41b6-82f5-402dbd62a039"
      },
      "source": [
        "B=np.array([[1,0,0],[0,3,0],[0,0,8]])\n",
        "print(B)"
      ],
      "execution_count": 17,
      "outputs": [
        {
          "output_type": "stream",
          "text": [
            "[[1 0 0]\n",
            " [0 3 0]\n",
            " [0 0 8]]\n"
          ],
          "name": "stdout"
        }
      ]
    },
    {
      "cell_type": "code",
      "metadata": {
        "colab": {
          "base_uri": "https://localhost:8080/",
          "height": 0
        },
        "id": "Uda0-22Fmg1R",
        "outputId": "d28347dd-b587-4cdc-e433-f0451d821040"
      },
      "source": [
        "print(\" The eigen values of the matrix B are:\\n\",np.linalg.eigvals(B))"
      ],
      "execution_count": 18,
      "outputs": [
        {
          "output_type": "stream",
          "text": [
            " The eigen valuess of the matrix B are:\n",
            " [1. 3. 8.]\n"
          ],
          "name": "stdout"
        }
      ]
    },
    {
      "cell_type": "code",
      "metadata": {
        "colab": {
          "base_uri": "https://localhost:8080/",
          "height": 0
        },
        "id": "0-vVTFqQm3HA",
        "outputId": "fa6cbbd3-f5b0-4921-be87-4978c8e7d1e3"
      },
      "source": [
        "print(\" The eigen values of the matrix B are:\\n\",np.linalg.eig(B))"
      ],
      "execution_count": 21,
      "outputs": [
        {
          "output_type": "stream",
          "text": [
            " The eigen values of the matrix B are:\n",
            " (array([1., 3., 8.]), array([[1., 0., 0.],\n",
            "       [0., 1., 0.],\n",
            "       [0., 0., 1.]]))\n"
          ],
          "name": "stdout"
        }
      ]
    },
    {
      "cell_type": "code",
      "metadata": {
        "colab": {
          "base_uri": "https://localhost:8080/",
          "height": 0
        },
        "id": "2ZNgWqLlnUtB",
        "outputId": "9fd7da4c-4016-48a4-ad46-ac762da5f35e"
      },
      "source": [
        "print(\"the Matrix multiplication of A and B is:\\n\",np.matrix.dot(A,B))"
      ],
      "execution_count": 23,
      "outputs": [
        {
          "output_type": "stream",
          "text": [
            "the Matrix multiplication of A and B is:\n",
            " [[ 1 12 56]\n",
            " [ 2  9 72]\n",
            " [ 5  6 64]]\n"
          ],
          "name": "stdout"
        }
      ]
    },
    {
      "cell_type": "code",
      "metadata": {
        "colab": {
          "base_uri": "https://localhost:8080/",
          "height": 0
        },
        "id": "tB90ve1sn2CS",
        "outputId": "f0bb101e-ce37-4935-989b-6499192d4ffc"
      },
      "source": [
        "#Example-1-Defining Function-Using Bisection Method find real root of the eqn x^3-5x-9=0\n",
        "def f(x):\n",
        "    return x**3-5*x-9\n",
        "\n",
        "# Implementing Bisection Method\n",
        "def bisection(x0,x1,e):\n",
        "    step = 1\n",
        "    print('\\n\\n*** BISECTION METHOD IMPLEMENTATION ***')\n",
        "    condition = True\n",
        "    while condition:\n",
        "        x2 = (x0 + x1)/2\n",
        "        print('Iteration-%d, x2 = %0.6f and f(x2) = %0.6f' % (step, x2, f(x2)))\n",
        "\n",
        "        if f(x0) * f(x2) < 0:\n",
        "            x1 = x2\n",
        "        else:\n",
        "            x0 = x2\n",
        "        \n",
        "        step = step + 1\n",
        "        condition = abs(f(x2)) > e\n",
        "\n",
        "    print('\\nRequired Root is : %0.8f' % x2)\n",
        "\n",
        "\n",
        "# Input Section\n",
        "x0 = input('First Guess: ')\n",
        "x1 = input('Second Guess: ')\n",
        "e = input('Tolerable Error: ')\n",
        "\n",
        "# Converting input to float\n",
        "x0 = float(x0)\n",
        "x1 = float(x1)\n",
        "e = float(e)\n",
        "\n",
        "#Note: You can combine above two section like this\n",
        "# x0 = float(input('First Guess: '))\n",
        "# x1 = float(input('Second Guess: '))\n",
        "# e = float(input('Tolerable Error: '))\n",
        "\n",
        "\n",
        "# Checking Correctness of initial guess values and bisecting\n",
        "if f(x0) * f(x1) > 0.0:\n",
        "    print('Given guess values do not bracket the root.')\n",
        "    print('Try Again with different guess values.')\n",
        "else:\n",
        "    bisection(x0,x1,e)"
      ],
      "execution_count": 31,
      "outputs": [
        {
          "output_type": "stream",
          "text": [
            "First Guess: 2\n",
            "Second Guess: 3\n",
            "Tolerable Error: 0.00001\n",
            "\n",
            "\n",
            "*** BISECTION METHOD IMPLEMENTATION ***\n",
            "Iteration-1, x2 = 2.500000 and f(x2) = -5.875000\n",
            "Iteration-2, x2 = 2.750000 and f(x2) = -1.953125\n",
            "Iteration-3, x2 = 2.875000 and f(x2) = 0.388672\n",
            "Iteration-4, x2 = 2.812500 and f(x2) = -0.815186\n",
            "Iteration-5, x2 = 2.843750 and f(x2) = -0.221588\n",
            "Iteration-6, x2 = 2.859375 and f(x2) = 0.081448\n",
            "Iteration-7, x2 = 2.851562 and f(x2) = -0.070592\n",
            "Iteration-8, x2 = 2.855469 and f(x2) = 0.005297\n",
            "Iteration-9, x2 = 2.853516 and f(x2) = -0.032680\n",
            "Iteration-10, x2 = 2.854492 and f(x2) = -0.013700\n",
            "Iteration-11, x2 = 2.854980 and f(x2) = -0.004204\n",
            "Iteration-12, x2 = 2.855225 and f(x2) = 0.000546\n",
            "Iteration-13, x2 = 2.855103 and f(x2) = -0.001829\n",
            "Iteration-14, x2 = 2.855164 and f(x2) = -0.000641\n",
            "Iteration-15, x2 = 2.855194 and f(x2) = -0.000048\n",
            "Iteration-16, x2 = 2.855209 and f(x2) = 0.000249\n",
            "Iteration-17, x2 = 2.855202 and f(x2) = 0.000101\n",
            "Iteration-18, x2 = 2.855198 and f(x2) = 0.000027\n",
            "Iteration-19, x2 = 2.855196 and f(x2) = -0.000011\n",
            "Iteration-20, x2 = 2.855197 and f(x2) = 0.000008\n",
            "\n",
            "Required Root is : 2.85519695\n"
          ],
          "name": "stdout"
        }
      ]
    },
    {
      "cell_type": "code",
      "metadata": {
        "id": "9ClS0HzVv7zq"
      },
      "source": [
        ""
      ],
      "execution_count": null,
      "outputs": []
    },
    {
      "cell_type": "code",
      "metadata": {
        "colab": {
          "base_uri": "https://localhost:8080/"
        },
        "id": "XqHGj_z1ul05",
        "outputId": "e112f76a-ac47-4d44-ff8d-93a09bfd4523"
      },
      "source": [
        "#Example-2-Defining Function-Using Bisection Method find real root of the eqn x^3-5x-9=0\n",
        "def f(x):\n",
        "    return x**3-x-1\n",
        "\n",
        "# Implementing Bisection Method\n",
        "def bisection(x0,x1,e):\n",
        "    step = 1\n",
        "    print('\\n\\n*** BISECTION METHOD IMPLEMENTATION ***')\n",
        "    condition = True\n",
        "    while condition:\n",
        "        x2 = (x0 + x1)/2\n",
        "        print('Iteration-%d, x2 = %0.6f and f(x2) = %0.6f' % (step, x2, f(x2)))\n",
        "\n",
        "        if f(x0) * f(x2) < 0:\n",
        "            x1 = x2\n",
        "        else:\n",
        "            x0 = x2\n",
        "        \n",
        "        step = step + 1\n",
        "        condition = abs(f(x2)) > e\n",
        "\n",
        "    print('\\nRequired Root is : %0.8f' % x2)\n",
        "\n",
        "\n",
        "# Input Section\n",
        "x0 = input('First Guess: ')\n",
        "x1 = input('Second Guess: ')\n",
        "e = input('Tolerable Error: ')\n",
        "\n",
        "# Converting input to float\n",
        "x0 = float(x0)\n",
        "x1 = float(x1)\n",
        "e = float(e)\n",
        "\n",
        "#Note: You can combine above two section like this\n",
        "# x0 = float(input('First Guess: '))\n",
        "# x1 = float(input('Second Guess: '))\n",
        "# e = float(input('Tolerable Error: '))\n",
        "\n",
        "\n",
        "# Checking Correctness of initial guess values and bisecting\n",
        "if f(x0) * f(x1) > 0.0:\n",
        "    print('Given guess values do not bracket the root.')\n",
        "    print('Try Again with different guess values.')\n",
        "else:\n",
        "    bisection(x0,x1,e)"
      ],
      "execution_count": 33,
      "outputs": [
        {
          "output_type": "stream",
          "text": [
            "First Guess: 0\n",
            "Second Guess: 2\n",
            "Tolerable Error: 0.00001\n",
            "\n",
            "\n",
            "*** BISECTION METHOD IMPLEMENTATION ***\n",
            "Iteration-1, x2 = 1.000000 and f(x2) = -1.000000\n",
            "Iteration-2, x2 = 1.500000 and f(x2) = 0.875000\n",
            "Iteration-3, x2 = 1.250000 and f(x2) = -0.296875\n",
            "Iteration-4, x2 = 1.375000 and f(x2) = 0.224609\n",
            "Iteration-5, x2 = 1.312500 and f(x2) = -0.051514\n",
            "Iteration-6, x2 = 1.343750 and f(x2) = 0.082611\n",
            "Iteration-7, x2 = 1.328125 and f(x2) = 0.014576\n",
            "Iteration-8, x2 = 1.320312 and f(x2) = -0.018711\n",
            "Iteration-9, x2 = 1.324219 and f(x2) = -0.002128\n",
            "Iteration-10, x2 = 1.326172 and f(x2) = 0.006209\n",
            "Iteration-11, x2 = 1.325195 and f(x2) = 0.002037\n",
            "Iteration-12, x2 = 1.324707 and f(x2) = -0.000047\n",
            "Iteration-13, x2 = 1.324951 and f(x2) = 0.000995\n",
            "Iteration-14, x2 = 1.324829 and f(x2) = 0.000474\n",
            "Iteration-15, x2 = 1.324768 and f(x2) = 0.000214\n",
            "Iteration-16, x2 = 1.324738 and f(x2) = 0.000084\n",
            "Iteration-17, x2 = 1.324722 and f(x2) = 0.000018\n",
            "Iteration-18, x2 = 1.324715 and f(x2) = -0.000014\n",
            "Iteration-19, x2 = 1.324718 and f(x2) = 0.000002\n",
            "\n",
            "Required Root is : 1.32471848\n"
          ],
          "name": "stdout"
        }
      ]
    },
    {
      "cell_type": "code",
      "metadata": {
        "colab": {
          "base_uri": "https://localhost:8080/"
        },
        "id": "_9YgH_EZv9NG",
        "outputId": "7366114f-c99a-4371-b25d-f9874b973e48"
      },
      "source": [
        "#Example-3-Defining Function-Using Bisection Method find real root of the eqn x^3-5x-9=0\n",
        "def f(x):\n",
        "    return 2*x**3-2*x-5\n",
        "\n",
        "# Implementing Bisection Method\n",
        "def bisection(x0,x1,e):\n",
        "    step = 1\n",
        "    print('\\n\\n*** BISECTION METHOD IMPLEMENTATION ***')\n",
        "    condition = True\n",
        "    while condition:\n",
        "        x2 = (x0 + x1)/2\n",
        "        print('Iteration-%d, x2 = %0.6f and f(x2) = %0.6f' % (step, x2, f(x2)))\n",
        "\n",
        "        if f(x0) * f(x2) < 0:\n",
        "            x1 = x2\n",
        "        else:\n",
        "            x0 = x2\n",
        "        \n",
        "        step = step + 1\n",
        "        condition = abs(f(x2)) > e\n",
        "\n",
        "    print('\\nRequired Root is : %0.8f' % x2)\n",
        "\n",
        "\n",
        "# Input Section\n",
        "x0 = input('First Guess: ')\n",
        "x1 = input('Second Guess: ')\n",
        "e = input('Tolerable Error: ')\n",
        "\n",
        "# Converting input to float\n",
        "x0 = float(x0)\n",
        "x1 = float(x1)\n",
        "e = float(e)\n",
        "\n",
        "#Note: You can combine above two section like this\n",
        "# x0 = float(input('First Guess: '))\n",
        "# x1 = float(input('Second Guess: '))\n",
        "# e = float(input('Tolerable Error: '))\n",
        "\n",
        "\n",
        "# Checking Correctness of initial guess values and bisecting\n",
        "if f(x0) * f(x1) > 0.0:\n",
        "    print('Given guess values do not bracket the root.')\n",
        "    print('Try Again with different guess values.')\n",
        "else:\n",
        "    bisection(x0,x1,e)"
      ],
      "execution_count": 34,
      "outputs": [
        {
          "output_type": "stream",
          "text": [
            "First Guess: 0\n",
            "Second Guess: 2\n",
            "Tolerable Error: 0.001\n",
            "\n",
            "\n",
            "*** BISECTION METHOD IMPLEMENTATION ***\n",
            "Iteration-1, x2 = 1.000000 and f(x2) = -5.000000\n",
            "Iteration-2, x2 = 1.500000 and f(x2) = -1.250000\n",
            "Iteration-3, x2 = 1.750000 and f(x2) = 2.218750\n",
            "Iteration-4, x2 = 1.625000 and f(x2) = 0.332031\n",
            "Iteration-5, x2 = 1.562500 and f(x2) = -0.495605\n",
            "Iteration-6, x2 = 1.593750 and f(x2) = -0.091125\n",
            "Iteration-7, x2 = 1.609375 and f(x2) = 0.118095\n",
            "Iteration-8, x2 = 1.601562 and f(x2) = 0.012898\n",
            "Iteration-9, x2 = 1.597656 and f(x2) = -0.039260\n",
            "Iteration-10, x2 = 1.599609 and f(x2) = -0.013217\n",
            "Iteration-11, x2 = 1.600586 and f(x2) = -0.000169\n",
            "\n",
            "Required Root is : 1.60058594\n"
          ],
          "name": "stdout"
        }
      ]
    }
  ]
}