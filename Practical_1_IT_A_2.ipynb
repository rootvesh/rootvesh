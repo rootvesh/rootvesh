{
  "nbformat": 4,
  "nbformat_minor": 0,
  "metadata": {
    "colab": {
      "name": "Practical-1-IT-A-2.ipynb",
      "provenance": [],
      "collapsed_sections": [],
      "authorship_tag": "ABX9TyMay5g+CWm5Jq/2zrv2J9SK",
      "include_colab_link": true
    },
    "kernelspec": {
      "name": "python3",
      "display_name": "Python 3"
    },
    "language_info": {
      "name": "python"
    }
  },
  "cells": [
    {
      "cell_type": "markdown",
      "metadata": {
        "id": "view-in-github",
        "colab_type": "text"
      },
      "source": [
        "<a href=\"https://colab.research.google.com/github/rootvesh/rootvesh/blob/main/Practical_1_IT_A_2.ipynb\" target=\"_parent\"><img src=\"https://colab.research.google.com/assets/colab-badge.svg\" alt=\"Open In Colab\"/></a>"
      ]
    },
    {
      "cell_type": "code",
      "metadata": {
        "colab": {
          "base_uri": "https://localhost:8080/"
        },
        "id": "K1VWgQwZA59H",
        "outputId": "8e31bc40-54bc-4d01-8d6e-188444ec6af8"
      },
      "source": [
        "x=2\n",
        "y=x+2\n",
        "print(y)"
      ],
      "execution_count": null,
      "outputs": [
        {
          "output_type": "stream",
          "text": [
            "4\n"
          ],
          "name": "stdout"
        }
      ]
    },
    {
      "cell_type": "code",
      "metadata": {
        "id": "98DhvDwiIN5O"
      },
      "source": [
        ""
      ],
      "execution_count": null,
      "outputs": []
    },
    {
      "cell_type": "code",
      "metadata": {
        "colab": {
          "base_uri": "https://localhost:8080/"
        },
        "id": "v2C5vLLNB2Nw",
        "outputId": "c99a7cf5-11f3-4923-8c46-e9b1db87183c"
      },
      "source": [
        "print(\"Hello IT-A-2 students for practical\")"
      ],
      "execution_count": null,
      "outputs": [
        {
          "output_type": "stream",
          "text": [
            "Hello IT-A-2 students for practical\n"
          ],
          "name": "stdout"
        }
      ]
    },
    {
      "cell_type": "code",
      "metadata": {
        "colab": {
          "base_uri": "https://localhost:8080/"
        },
        "id": "ynRYJOODCKPK",
        "outputId": "baa7bc3c-ad67-4542-b11e-60ffd4d22aa6"
      },
      "source": [
        "x=3\n",
        "print(x)"
      ],
      "execution_count": null,
      "outputs": [
        {
          "output_type": "stream",
          "text": [
            "3\n"
          ],
          "name": "stdout"
        }
      ]
    },
    {
      "cell_type": "code",
      "metadata": {
        "colab": {
          "base_uri": "https://localhost:8080/"
        },
        "id": "4ZqH_upjDbFt",
        "outputId": "9140380f-5e88-4753-b482-e84b3762f041"
      },
      "source": [
        "y=3\n",
        "x=y*3\n",
        "z=y-9\n",
        "w=y+7\n",
        "print(x)\n",
        "print(z)\n",
        "print(w)"
      ],
      "execution_count": null,
      "outputs": [
        {
          "output_type": "stream",
          "text": [
            "9\n",
            "-6\n",
            "10\n"
          ],
          "name": "stdout"
        }
      ]
    },
    {
      "cell_type": "code",
      "metadata": {
        "colab": {
          "base_uri": "https://localhost:8080/"
        },
        "id": "mLEZoLz5EVVL",
        "outputId": "582e11fb-0cc6-4d6c-a6d7-378c82d8f927"
      },
      "source": [
        "x=3\n",
        "y=x**4-x+2*x/6\n",
        "print(y)"
      ],
      "execution_count": null,
      "outputs": [
        {
          "output_type": "stream",
          "text": [
            "79.0\n"
          ],
          "name": "stdout"
        }
      ]
    },
    {
      "cell_type": "code",
      "metadata": {
        "colab": {
          "base_uri": "https://localhost:8080/"
        },
        "id": "I-mzXqFTEu9M",
        "outputId": "b108df39-bf4e-4524-86ae-287c84e45264"
      },
      "source": [
        "print(7/3)"
      ],
      "execution_count": null,
      "outputs": [
        {
          "output_type": "stream",
          "text": [
            "2.3333333333333335\n"
          ],
          "name": "stdout"
        }
      ]
    },
    {
      "cell_type": "code",
      "metadata": {
        "colab": {
          "base_uri": "https://localhost:8080/"
        },
        "id": "q3LhtTbvFCkc",
        "outputId": "b22eb4ca-8c17-4503-e98f-2fe45c77fd8c"
      },
      "source": [
        "print(type(y))"
      ],
      "execution_count": null,
      "outputs": [
        {
          "output_type": "stream",
          "text": [
            "<class 'float'>\n"
          ],
          "name": "stdout"
        }
      ]
    },
    {
      "cell_type": "code",
      "metadata": {
        "colab": {
          "base_uri": "https://localhost:8080/"
        },
        "id": "xIXp5GRVFeIM",
        "outputId": "1f982270-d4eb-4386-a8f3-06bf1777de5f"
      },
      "source": [
        "# find the multiplication of two numbers \n",
        "num1 =int(input(\"enter the num1:\"))\n",
        "num2 = int(input(\"enter the num2:\"))\n",
        "z=num1*num2\n",
        "print(z)"
      ],
      "execution_count": null,
      "outputs": [
        {
          "output_type": "stream",
          "text": [
            "enter the num1:10\n",
            "enter the num2:25\n",
            "250\n"
          ],
          "name": "stdout"
        }
      ]
    },
    {
      "cell_type": "code",
      "metadata": {
        "colab": {
          "base_uri": "https://localhost:8080/"
        },
        "id": "NlbEQXPXG_A8",
        "outputId": "604711af-c2b5-4ad2-a049-7e0146d3df65"
      },
      "source": [
        "print(\"hello\"+\"world\")"
      ],
      "execution_count": null,
      "outputs": [
        {
          "output_type": "stream",
          "text": [
            "helloworld\n"
          ],
          "name": "stdout"
        }
      ]
    },
    {
      "cell_type": "code",
      "metadata": {
        "colab": {
          "base_uri": "https://localhost:8080/"
        },
        "id": "WzuIsTqfHGXs",
        "outputId": "ff5d1ccb-8d94-4b67-833d-bffa582c9a1a"
      },
      "source": [
        "print(\"Hello\"*5)"
      ],
      "execution_count": null,
      "outputs": [
        {
          "output_type": "stream",
          "text": [
            "HelloHelloHelloHelloHello\n"
          ],
          "name": "stdout"
        }
      ]
    },
    {
      "cell_type": "code",
      "metadata": {
        "colab": {
          "base_uri": "https://localhost:8080/"
        },
        "id": "F8bk2J6NIPUd",
        "outputId": "50438ebf-4569-42a7-f718-9915cb30ebd5"
      },
      "source": [
        "x=3\n",
        "y=7\n",
        "z=complex(x,y)\n",
        "print(z)"
      ],
      "execution_count": 16,
      "outputs": [
        {
          "output_type": "stream",
          "text": [
            "(3+7j)\n"
          ],
          "name": "stdout"
        }
      ]
    },
    {
      "cell_type": "code",
      "metadata": {
        "colab": {
          "base_uri": "https://localhost:8080/"
        },
        "id": "6HyBECSfIeje",
        "outputId": "3e5775eb-37d0-418a-db2a-261f1cee9e6d"
      },
      "source": [
        "a=float(input(\"Enter a value a:\"))\n",
        "b=float(input(\"Enter a value b:\"))\n",
        "# print(type(a), type(b))\n",
        "print(\"a+b=\",a+b)\n",
        "print(\"a-b =\",a-b)\n",
        "print(\"a*b=\",a*b)\n",
        "print(\"a/b=\",a/b)"
      ],
      "execution_count": 17,
      "outputs": [
        {
          "output_type": "stream",
          "text": [
            "Enter a value a:4.2\n",
            "Enter a value b:5.6\n",
            "a+b= 9.8\n",
            "a-b = -1.3999999999999995\n",
            "a*b= 23.52\n",
            "a/b= 0.7500000000000001\n"
          ],
          "name": "stdout"
        }
      ]
    },
    {
      "cell_type": "code",
      "metadata": {
        "colab": {
          "base_uri": "https://localhost:8080/"
        },
        "id": "5zW1okehI3mX",
        "outputId": "c1b7c303-1b36-4ed4-ba8b-cfe7054c286e"
      },
      "source": [
        "# Escape sequence\n",
        "print(\"This is a lot of space.\")\n",
        "print(\"This is  \\t a lot of space.\")\n",
        "print(\"This \\t is \\t a \\t lot \\t of \\t space.\")\n",
        "print(\"Rootvesh Mehta \\n9879618783\\nrootveshmehta.gd@indusuni.ac.in\")\n",
        "print(\"When I said, \\'immediately\\' I meant today!\")\n",
        "print(\"\\\" Do or do not.There is no try.\\\"\")"
      ],
      "execution_count": 19,
      "outputs": [
        {
          "output_type": "stream",
          "text": [
            "This is a lot of space.\n",
            "This is  \t a lot of space.\n",
            "This \t is \t a \t lot \t of \t space.\n",
            "Rootvesh Mehta \n",
            "9879618783\n",
            "rootveshmehta.gd@indusuni.ac.in\n",
            "When I said, 'immediately' I meant today!\n",
            "\" Do or do not.There is no try.\"\n"
          ],
          "name": "stdout"
        }
      ]
    },
    {
      "cell_type": "code",
      "metadata": {
        "colab": {
          "base_uri": "https://localhost:8080/"
        },
        "id": "n3iVqW87JY33",
        "outputId": "86a707d3-a9ea-4461-803f-3e5606ba6d4d"
      },
      "source": [
        "# A customer of a grocery store is purchasing 6 items. The names and prices of the items are as follows:\n",
        "# wheat floor-  1660 Rs.\n",
        "# Arrabiata Pasta  - 28 Rs.\n",
        "# Bag of 20 Organic Garlic Cloves - 380.25 Rs.\n",
        "# Italian Seasoning 1.5 ltr Bottle - 178.90 Rs.\n",
        "# Biscuits - 158 Rs.\n",
        "# Noodles of pack 2 - 223.65 Rs.\n",
        "# In a .py file, write a program which calculates the subtotal of all 6 of these items using an expression. \n",
        "# The subtotal is just the sum of all of their prices.\n",
        "# Use print() to display the result of the expression.\n",
        "W_floor= 1660\n",
        "pasta =28\n",
        "garlic=380.25\n",
        "bottle = 178.90\n",
        "bisc = 158\n",
        "noodle = 223.65\n",
        "# subtotal = W_floor+ pasta +garlic+bottle +bisc+noodle\n",
        "print(W_floor+ pasta +garlic+bottle +bisc+noodle) \n"
      ],
      "execution_count": 20,
      "outputs": [
        {
          "output_type": "stream",
          "text": [
            "2628.8\n"
          ],
          "name": "stdout"
        }
      ]
    },
    {
      "cell_type": "code",
      "metadata": {
        "colab": {
          "base_uri": "https://localhost:8080/"
        },
        "id": "cu1BYIiGJ_FW",
        "outputId": "0144d2b3-b1f2-4446-ff89-ffe3df20822a"
      },
      "source": [
        "a = input(\"price of wheat flour :\")\n",
        "b = input(\"price of pasta :\")\n",
        "c = input(\"price of bottle :\")\n",
        "print(\"total= \", int(a)+int(b)+int(c))"
      ],
      "execution_count": 21,
      "outputs": [
        {
          "output_type": "stream",
          "text": [
            "price of wheat flour :4\n",
            "price of pasta :6\n",
            "price of bottle :200\n",
            "total=  210\n"
          ],
          "name": "stdout"
        }
      ]
    },
    {
      "cell_type": "code",
      "metadata": {
        "id": "UyvaVug7Kw1f"
      },
      "source": [
        "Comparison Operator"
      ],
      "execution_count": null,
      "outputs": []
    },
    {
      "cell_type": "code",
      "metadata": {
        "colab": {
          "base_uri": "https://localhost:8080/"
        },
        "id": "aWSOww3eKFy1",
        "outputId": "8dd451ad-ada3-4071-bc26-5eec59b83130"
      },
      "source": [
        "print(3 > 5)\n",
        "print(7 > 2)\n",
        "print(5.67 < 2)\n",
        "print(3 >= 2)\n",
        "print(2 <= 2)\n",
        "print(10 != 100) # not equals to \n",
        "print(10 != 10)\n",
        "print(10 == 10)\n",
        "print(\"hello\"==\"hello\")\n",
        "print(\"hello\"!=\"world\")\n",
        "print(\"Hello\"==\"hello\")"
      ],
      "execution_count": 22,
      "outputs": [
        {
          "output_type": "stream",
          "text": [
            "False\n",
            "True\n",
            "False\n",
            "True\n",
            "True\n",
            "True\n",
            "False\n",
            "True\n",
            "True\n",
            "True\n",
            "False\n"
          ],
          "name": "stdout"
        }
      ]
    },
    {
      "cell_type": "markdown",
      "metadata": {
        "id": "NoiVKeE5QzxJ"
      },
      "source": [
        "Boolean operator "
      ]
    },
    {
      "cell_type": "code",
      "metadata": {
        "colab": {
          "base_uri": "https://localhost:8080/"
        },
        "id": "ixKG--WDLWi3",
        "outputId": "bc867eb1-9d79-4498-fb15-f969177c88ac"
      },
      "source": [
        "# AND operator\n",
        "print(4 > 1 and \"hello\"==\"hello\") # True and true\n",
        "print(\"earth\"==\"Earth\" and 6 <= 2)\n",
        "print(10 == 5 and 10!= 5)\n",
        "# OR operator\n",
        "print(4 > 1 or \"hello\"==\"hello\")\n",
        "print(\"earth\"==\"Earth\" or 6 <= 2)\n",
        "print(10 == 5 or 10!= 5)\n",
        "# # NOT operator\n",
        "print(not 4 > 1 )\n",
        "print(not \"earth\"==\"Earth\")"
      ],
      "execution_count": 23,
      "outputs": [
        {
          "output_type": "stream",
          "text": [
            "True\n",
            "False\n",
            "False\n",
            "True\n",
            "False\n",
            "True\n",
            "False\n",
            "True\n"
          ],
          "name": "stdout"
        }
      ]
    }
  ]
}